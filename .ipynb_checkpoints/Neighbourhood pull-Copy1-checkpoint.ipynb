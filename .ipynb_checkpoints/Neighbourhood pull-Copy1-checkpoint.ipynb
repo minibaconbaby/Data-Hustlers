{
 "cells": [
  {
   "cell_type": "markdown",
   "id": "be8d59a1",
   "metadata": {},
   "source": [
    "# Installs"
   ]
  },
  {
   "cell_type": "code",
   "execution_count": 1,
   "id": "139a17c7",
   "metadata": {
    "scrolled": true
   },
   "outputs": [],
   "source": [
    "#pip install requests #enable if necessary"
   ]
  },
  {
   "cell_type": "markdown",
   "id": "dd9499fc",
   "metadata": {},
   "source": [
    "# Import Libraries"
   ]
  },
  {
   "cell_type": "code",
   "execution_count": 1,
   "id": "ac13536c",
   "metadata": {},
   "outputs": [],
   "source": [
    "import requests\n",
    "import os\n",
    "import folium\n",
    "import zipfile\n",
    "import time\n",
    "import pandas as pd\n",
    "import numpy as np\n",
    "import geopandas as gpd\n",
    "from shapely.geometry import Point\n",
    "from geopy.geocoders import Nominatim\n",
    "from geopy.exc import GeocoderTimedOut\n",
    "import matplotlib.pyplot as plt\n",
    "from folium import Choropleth"
   ]
  },
  {
   "cell_type": "markdown",
   "id": "407f76e3",
   "metadata": {},
   "source": [
    "# Connect to City of Toronto Database APIs"
   ]
  },
  {
   "cell_type": "markdown",
   "id": "22183c25",
   "metadata": {},
   "source": [
    "This part outlines how to connect to City of Toronto Open Database. It runs a function to fetch and save resources available in the datasets. Commented out code below grabs all information available. Aftre careful review of data available, second code below was modified to pull only selected files."
   ]
  },
  {
   "cell_type": "code",
   "execution_count": 3,
   "id": "aff71833",
   "metadata": {},
   "outputs": [],
   "source": [
    "# # Define API endpoints for the datasets\n",
    "# api_endpoints = {\n",
    "#     \"Neighbourhood Profiles\": \"https://ckan0.cf.opendata.inter.prod-toronto.ca/api/3/action/package_show?id=neighbourhood-profiles\",\n",
    "#     \"Neighbourhoods\": \"https://ckan0.cf.opendata.inter.prod-toronto.ca/api/3/action/package_show?id=neighbourhoods\",\n",
    "#     \"Homeless Shelters\": \"https://ckan0.cf.opendata.inter.prod-toronto.ca/api/3/action/package_show?id=drop-in-locations-toronto-drop-in-network-members-tdin\",\n",
    "#     \"Schools\": \"https://ckan0.cf.opendata.inter.prod-toronto.ca/api/3/action/package_show?id=school-locations-all-types\",\n",
    "#     \"Parks and Recreational Facilities\": \"https://ckan0.cf.opendata.inter.prod-toronto.ca/api/3/action/package_show?id=parks-and-recreation-facilities\",\n",
    "#     \"Development Applications\": \"https://ckan0.cf.opendata.inter.prod-toronto.ca/api/3/action/package_show?id=development-applications\"\n",
    "# }\n",
    "\n",
    "# # Directory to save the datasets\n",
    "# output_dir = \"toronto_datasets_api\"\n",
    "# os.makedirs(output_dir, exist_ok=True)\n",
    "\n",
    "# # Function to fetch dataset details and download resources\n",
    "# def fetch_and_save_dataset(api_url, dataset_name):\n",
    "#     response = requests.get(api_url)\n",
    "#     if response.status_code == 200:\n",
    "#         data = response.json()\n",
    "#         resources = data.get(\"result\", {}).get(\"resources\", [])\n",
    "        \n",
    "#         if resources:\n",
    "#             for resource in resources:\n",
    "#                 download_url = resource.get(\"url\")\n",
    "#                 file_name = resource.get(\"name\", \"resource\").replace(\" \", \"_\")\n",
    "#                 file_path = os.path.join(output_dir, f\"{dataset_name}_{file_name}\")\n",
    "                \n",
    "#                 if download_url:\n",
    "#                     print(f\"Downloading {file_name} from {download_url}...\")\n",
    "#                     resource_response = requests.get(download_url)\n",
    "#                     if resource_response.status_code == 200:\n",
    "#                         with open(file_path, \"wb\") as file:\n",
    "#                             file.write(resource_response.content)\n",
    "#                         print(f\"Saved to {file_path}\")\n",
    "#                     else:\n",
    "#                         print(f\"Failed to download {file_name}\")\n",
    "#         else:\n",
    "#             print(f\"No resources found for {dataset_name}\")\n",
    "#     else:\n",
    "#         print(f\"Failed to fetch dataset details for {dataset_name}. Status code: {response.status_code}\")\n",
    "\n",
    "# # Process each dataset\n",
    "# for name, api_url in api_endpoints.items():\n",
    "#     print(f\"Processing {name}...\")\n",
    "#     fetch_and_save_dataset(api_url, name.replace(\" \", \"_\"))"
   ]
  },
  {
   "cell_type": "markdown",
   "id": "c6dd692d",
   "metadata": {},
   "source": [
    "The code below fetches only certain files from the the Toronto Database. \n",
    "From \"Development Applications\" we want to pull csv file. \n",
    "From \"Homeless Shelters\" we pull everythin.\n",
    "From \"Neighbourhood Profiles\" we pull only csv file and the most recent one.\n",
    "From \"Neighbourhoods\", \"Schools\", and \"Parks_and_Recreational_Facilities\" we pull CSV file, ZIP file, and all of them should be with \"4326\" extension for global mapping. "
   ]
  },
  {
   "cell_type": "code",
   "execution_count": 2,
   "id": "0838440d",
   "metadata": {},
   "outputs": [
    {
     "name": "stdout",
     "output_type": "stream",
     "text": [
      "Processing Development Applications...\n",
      "Downloading development_applications.csv from https://ckan0.cf.opendata.inter.prod-toronto.ca/dataset/0aa7e480-9b48-4919-98e0-6af7615b7809/resource/77f8a66a-bd43-40e6-b6c9-12a2b03a5032/download/development-applications.csv...\n",
      "Saved to toronto_datasets_api\\Development_Applications_development_applications.csv\n",
      "Processing Homeless Shelters...\n",
      "Downloading drop-in-wgs84 from https://ckan0.cf.opendata.inter.prod-toronto.ca/dataset/308ea197-5ed8-4f72-9d58-9a5ad7cbf679/resource/c8cb415d-9031-46a8-97d1-45e0518c39d1/download/drop-in-wgs84.zip...\n",
      "Saved to toronto_datasets_api\\Homeless_Shelters_drop-in-wgs84\n",
      "Downloading drop-in-readme from https://ckan0.cf.opendata.inter.prod-toronto.ca/dataset/308ea197-5ed8-4f72-9d58-9a5ad7cbf679/resource/6a3ec462-d84f-415d-81d1-7db54621351b/download/drop-in-readme.xls...\n",
      "Saved to toronto_datasets_api\\Homeless_Shelters_drop-in-readme\n",
      "Processing Neighbourhood Profiles...\n",
      "Downloading neighbourhood-profiles-2016-140-model.csv from https://ckan0.cf.opendata.inter.prod-toronto.ca/dataset/6e19a90f-971c-46b3-852c-0c48c436d1fc/resource/f07fe8f0-fa24-4d68-8cb4-326e280b0b05/download/neighbourhood-profiles-2016-140-model.csv...\n",
      "Saved to toronto_datasets_api\\Neighbourhood_Profiles_neighbourhood-profiles-2016-140-model.csv\n",
      "Processing Neighbourhoods...\n",
      "Downloading neighbourhoods_-_4326.zip from https://ckan0.cf.opendata.inter.prod-toronto.ca/dataset/neighbourhoods/resource/34b409a6-68ef-45f7-9cc8-c85153c1af62/download/neighbourhoods-4326.zip...\n",
      "Saved to toronto_datasets_api\\Neighbourhoods_neighbourhoods_-_4326.zip\n",
      "Downloading neighbourhoods_-_4326.csv from https://ckan0.cf.opendata.inter.prod-toronto.ca/dataset/neighbourhoods/resource/db634f74-36c9-4caa-84be-256e304a89de/download/neighbourhoods-4326.csv...\n",
      "Saved to toronto_datasets_api\\Neighbourhoods_neighbourhoods_-_4326.csv\n",
      "Processing Schools...\n",
      "Downloading school_locations-all_types_data_-_4326.csv from https://ckan0.cf.opendata.inter.prod-toronto.ca/dataset/1a714b5c-64c0-4cdf-9739-0086f80fb3ee/resource/f2c12e37-f533-4ecd-ac93-3166022fadec/download/school-locations-all-types-data-4326.csv...\n",
      "Saved to toronto_datasets_api\\Schools_school_locations-all_types_data_-_4326.csv\n",
      "Downloading school_locations-all_types_data_-_4326.zip from https://ckan0.cf.opendata.inter.prod-toronto.ca/dataset/1a714b5c-64c0-4cdf-9739-0086f80fb3ee/resource/404a4bb7-498a-49fc-ae19-0673ed1e3f6f/download/school-locations-all-types-data-4326.zip...\n",
      "Saved to toronto_datasets_api\\Schools_school_locations-all_types_data_-_4326.zip\n",
      "Processing Parks and Recreational Facilities...\n",
      "Downloading parks_and_recreation_facilities_-_4326.csv from https://ckan0.cf.opendata.inter.prod-toronto.ca/dataset/cbea3a67-9168-4c6d-8186-16ac1a795b5b/resource/61691590-4c3f-42d3-94c5-443ad3856f64/download/parks-and-recreation-facilities-4326.csv...\n",
      "Saved to toronto_datasets_api\\Parks_and_Recreational_Facilities_parks_and_recreation_facilities_-_4326.csv\n",
      "Downloading parks_and_recreation_facilities_-_4326.zip from https://ckan0.cf.opendata.inter.prod-toronto.ca/dataset/cbea3a67-9168-4c6d-8186-16ac1a795b5b/resource/713caa81-72bb-47ad-aaf7-9c8e6ab0c698/download/parks-and-recreation-facilities-4326.zip...\n",
      "Saved to toronto_datasets_api\\Parks_and_Recreational_Facilities_parks_and_recreation_facilities_-_4326.zip\n"
     ]
    }
   ],
   "source": [
    "# Define API endpoints for the datasets\n",
    "api_endpoints = {\n",
    "    \"Development Applications\": \"https://ckan0.cf.opendata.inter.prod-toronto.ca/api/3/action/package_show?id=development-applications\",\n",
    "    \"Homeless Shelters\": \"https://ckan0.cf.opendata.inter.prod-toronto.ca/api/3/action/package_show?id=drop-in-locations-toronto-drop-in-network-members-tdin\",\n",
    "    \"Neighbourhood Profiles\": \"https://ckan0.cf.opendata.inter.prod-toronto.ca/api/3/action/package_show?id=neighbourhood-profiles\",\n",
    "    \"Neighbourhoods\": \"https://ckan0.cf.opendata.inter.prod-toronto.ca/api/3/action/package_show?id=neighbourhoods\",\n",
    "    \"Schools\": \"https://ckan0.cf.opendata.inter.prod-toronto.ca/api/3/action/package_show?id=school-locations-all-types\",\n",
    "    \"Parks and Recreational Facilities\": \"https://ckan0.cf.opendata.inter.prod-toronto.ca/api/3/action/package_show?id=parks-and-recreation-facilities\",\n",
    "}\n",
    "\n",
    "# Directory to save the datasets\n",
    "output_dir = \"toronto_datasets_api\"\n",
    "os.makedirs(output_dir, exist_ok=True)\n",
    "\n",
    "# Function to fetch dataset details and download resources\n",
    "def fetch_and_save_dataset(api_url, dataset_name):\n",
    "    response = requests.get(api_url)\n",
    "    if response.status_code == 200:\n",
    "        data = response.json()\n",
    "        resources = data.get(\"result\", {}).get(\"resources\", [])\n",
    "        \n",
    "        if resources:\n",
    "            for resource in resources:\n",
    "                # Fetching the required files based on conditions\n",
    "                download_url = resource.get(\"url\")\n",
    "                file_name = resource.get(\"name\", \"resource\").replace(\" \", \"_\").lower()\n",
    "                file_path = os.path.join(output_dir, f\"{dataset_name}_{file_name}\")\n",
    "                \n",
    "                # Define filters based on your requirements\n",
    "                if dataset_name == \"Development_Applications\" and file_name.endswith(\".csv\"):\n",
    "                    pass\n",
    "                elif dataset_name == \"Neighbourhood_Profiles\" and file_name.endswith(\".csv\") and \"2016\" in file_name:\n",
    "                    pass\n",
    "                elif dataset_name == \"Neighbourhoods\" and \"historical\" not in file_name and file_name.endswith((\".csv\", \".zip\")) and \"4326\" in file_name:\n",
    "                    pass\n",
    "                elif dataset_name in [\"Schools\", \"Parks_and_Recreational_Facilities\"] and file_name.endswith((\".csv\", \".zip\")) and \"4326\" in file_name:\n",
    "                    pass\n",
    "                elif dataset_name == \"Homeless_Shelters\":\n",
    "                    pass\n",
    "                else:\n",
    "                    continue\n",
    "\n",
    "                # Download the selected file\n",
    "                if download_url:\n",
    "                    print(f\"Downloading {file_name} from {download_url}...\")\n",
    "                    resource_response = requests.get(download_url)\n",
    "                    if resource_response.status_code == 200:\n",
    "                        with open(file_path, \"wb\") as file:\n",
    "                            file.write(resource_response.content)\n",
    "                        print(f\"Saved to {file_path}\")\n",
    "                    else:\n",
    "                        print(f\"Failed to download {file_name}\")\n",
    "        else:\n",
    "            print(f\"No resources found for {dataset_name}\")\n",
    "    else:\n",
    "        print(f\"Failed to fetch dataset details for {dataset_name}. Status code: {response.status_code}\")\n",
    "\n",
    "# Process each dataset\n",
    "for name, api_url in api_endpoints.items():\n",
    "    print(f\"Processing {name}...\")\n",
    "    fetch_and_save_dataset(api_url, name.replace(\" \", \"_\"))"
   ]
  },
  {
   "cell_type": "markdown",
   "id": "c695e316",
   "metadata": {},
   "source": [
    "Next we want to load in all CSV files and turn them into dataframes."
   ]
  },
  {
   "cell_type": "code",
   "execution_count": 3,
   "id": "28d7af7f",
   "metadata": {
    "scrolled": true
   },
   "outputs": [
    {
     "name": "stdout",
     "output_type": "stream",
     "text": [
      "Loaded Development_Applications_development_applications.csv into DataFrame. Shape: (24216, 26)\n",
      "Loaded Neighbourhoods_neighbourhoods_-_4326.csv into DataFrame. Shape: (158, 12)\n",
      "Loaded Neighbourhood_Profiles_neighbourhood-profiles-2016-140-model.csv into DataFrame. Shape: (2383, 146)\n",
      "Loaded Parks_and_Recreational_Facilities_parks_and_recreation_facilities_-_4326.csv into DataFrame. Shape: (1663, 10)\n",
      "Loaded Schools_school_locations-all_types_data_-_4326.csv into DataFrame. Shape: (1194, 25)\n",
      "\n",
      "Summary of Loaded DataFrames:\n",
      "Development Applications Development Applications: (24216, 26)\n",
      "Neighbourhoods Neighbourhoods - 4326: (158, 12)\n",
      "Neighbourhood Profiles Neighbourhood-Profiles-2016-140-Model: (2383, 146)\n",
      "Parks And Recreational Facilities Parks And Recreation Facilities - 4326: (1663, 10)\n",
      "Schools School Locations-All Types Data - 4326: (1194, 25)\n"
     ]
    }
   ],
   "source": [
    "# Directory containing the saved datasets\n",
    "output_dir = \"toronto_datasets_api\"\n",
    "\n",
    "# Dictionary to store DataFrames\n",
    "dataframes = {}\n",
    "\n",
    "# Iterate through files in the output directory\n",
    "for file_name in os.listdir(output_dir):\n",
    "    file_path = os.path.join(output_dir, file_name)\n",
    "    \n",
    "    # Check if the file is a CSV\n",
    "    if file_name.endswith(\".csv\"):\n",
    "        try:\n",
    "            # Load CSV into a DataFrame\n",
    "            df = pd.read_csv(file_path)\n",
    "            \n",
    "            # Store the DataFrame in the dictionary using a cleaned-up name\n",
    "            dataset_name = file_name.replace(\".csv\", \"\").replace(\"_\", \" \").title()\n",
    "            dataframes[dataset_name] = df\n",
    "            \n",
    "            print(f\"Loaded {file_name} into DataFrame. Shape: {df.shape}\")\n",
    "        except Exception as e:\n",
    "            print(f\"Failed to load {file_name}: {e}\")\n",
    "\n",
    "# Display summary of loaded DataFrames\n",
    "print(\"\\nSummary of Loaded DataFrames:\")\n",
    "for name, df in dataframes.items():\n",
    "    print(f\"{name}: {df.shape}\")"
   ]
  },
  {
   "cell_type": "markdown",
   "id": "f3c20c6f",
   "metadata": {},
   "source": [
    "# Prepare Dataframes"
   ]
  },
  {
   "cell_type": "markdown",
   "id": "b4c06b58",
   "metadata": {},
   "source": [
    "Starting one by one, we need to prepare dataframes for further analysis. "
   ]
  },
  {
   "cell_type": "markdown",
   "id": "552b3250",
   "metadata": {},
   "source": [
    "# Dataframe 1 - Development Applications"
   ]
  },
  {
   "cell_type": "markdown",
   "id": "32f67144",
   "metadata": {},
   "source": [
    "Let's take a look at list of columnts and see if all necessary for our analysis."
   ]
  },
  {
   "cell_type": "code",
   "execution_count": 12,
   "id": "378345e8",
   "metadata": {},
   "outputs": [
    {
     "name": "stdout",
     "output_type": "stream",
     "text": [
      "List of columns in Development Applications DataFrame:\n",
      "['_id', 'APPLICATION_TYPE', 'APPLICATION#', 'STREET_NUM', 'STREET_NAME', 'STREET_TYPE', 'STREET_DIRECTION', 'POSTAL', 'DATE_SUBMITTED', 'STATUS', 'HEARING_DATE', 'X', 'Y', 'DESCRIPTION', 'REFERENCE_FILE#', 'FOLDERRSN', 'WARD_NUMBER', 'WARD_NAME', 'COMMUNITY_MEETING_DATE', 'COMMUNITY_MEETING_TIME', 'COMMUNITY_MEETING_LOCATION', 'APPLICATION_URL', 'CONTACT_NAME', 'CONTACT_PHONE', 'CONTACT_EMAIL', 'PARENT_FOLDER_NUMBER']\n"
     ]
    }
   ],
   "source": [
    "# Display the list of columns for the Development Applications DataFrame\n",
    "development_df_name = \"Development Applications Development Applications\"  # Replace with exact DataFrame name\n",
    "if development_df_name in dataframes:\n",
    "    development_df = dataframes[development_df_name]\n",
    "    print(\"List of columns in Development Applications DataFrame:\")\n",
    "    print(development_df.columns.tolist())\n",
    "else:\n",
    "    print(f\"DataFrame '{development_df_name}' not found.\")"
   ]
  },
  {
   "cell_type": "markdown",
   "id": "d4d66b82",
   "metadata": {},
   "source": [
    "We do not need following columns and they can be removed from or dataframe: '_id', 'APPLICATION_TYPE', 'APPLICATION#', 'STREET_TYPE', 'DATE_SUBMITTED', 'STATUS', 'HEARING_DATE', 'X', 'Y', 'DESCRIPTION', 'REFERENCE_FILE#', 'FOLDERRSN', 'COMMUNITY_MEETING_DATE', 'COMMUNITY_MEETING_TIME', 'COMMUNITY_MEETING_LOCATION', 'APPLICATION_URL', 'CONTACT_NAME', 'CONTACT_PHONE', 'CONTACT_EMAIL', 'PARENT_FOLDER_NUMBER'"
   ]
  },
  {
   "cell_type": "code",
   "execution_count": 15,
   "id": "60b8f789",
   "metadata": {},
   "outputs": [
    {
     "name": "stdout",
     "output_type": "stream",
     "text": [
      "Columns removed. Updated shape: (24216, 6)\n",
      "Remaining columns:\n",
      "['STREET_NUM', 'STREET_NAME', 'STREET_DIRECTION', 'POSTAL', 'WARD_NUMBER', 'WARD_NAME']\n"
     ]
    }
   ],
   "source": [
    "# List of columns to remove\n",
    "columns_to_remove = [\n",
    "    '_id', 'APPLICATION_TYPE', 'APPLICATION#', 'STREET_TYPE', 'DATE_SUBMITTED', 'STATUS', 'HEARING_DATE', \n",
    "    'X', 'Y', 'DESCRIPTION', 'REFERENCE_FILE#', 'FOLDERRSN', \n",
    "    'COMMUNITY_MEETING_DATE', 'COMMUNITY_MEETING_TIME', \n",
    "    'COMMUNITY_MEETING_LOCATION', 'APPLICATION_URL', \n",
    "    'CONTACT_NAME', 'CONTACT_PHONE', 'CONTACT_EMAIL', 'PARENT_FOLDER_NUMBER'\n",
    "]\n",
    "\n",
    "# Check if the Development Applications DataFrame exists in the dictionary\n",
    "development_df_name = \"Development Applications Development Applications\"\n",
    "if development_df_name in dataframes:\n",
    "    development_df = dataframes[development_df_name]\n",
    "    \n",
    "    # Drop the specified columns\n",
    "    development_df_cleaned = development_df.drop(columns=columns_to_remove, errors='ignore')\n",
    "    \n",
    "    # Update the DataFrame in the dictionary\n",
    "    dataframes[development_df_name] = development_df_cleaned\n",
    "    \n",
    "    print(f\"Columns removed. Updated shape: {development_df_cleaned.shape}\")\n",
    "    print(\"Remaining columns:\")\n",
    "    print(development_df_cleaned.columns.tolist())\n",
    "else:\n",
    "    print(f\"DataFrame '{development_df_name}' not found.\")"
   ]
  },
  {
   "cell_type": "markdown",
   "id": "21d8abf9",
   "metadata": {},
   "source": [
    "Next need to check if any information is missing."
   ]
  },
  {
   "cell_type": "code",
   "execution_count": 16,
   "id": "b5f5c095",
   "metadata": {
    "scrolled": true
   },
   "outputs": [
    {
     "name": "stdout",
     "output_type": "stream",
     "text": [
      "Missing values found in the Development Applications DataFrame:\n",
      "WARD_NUMBER    10\n",
      "WARD_NAME      76\n",
      "dtype: int64\n"
     ]
    }
   ],
   "source": [
    "# Check for missing values in the Development Applications DataFrame\n",
    "if development_df_name in dataframes:\n",
    "    development_df_cleaned = dataframes[development_df_name]\n",
    "    \n",
    "    # Get a summary of missing values\n",
    "    missing_summary = development_df_cleaned.isnull().sum()\n",
    "    missing_info = missing_summary[missing_summary > 0]\n",
    "    \n",
    "    if missing_info.empty:\n",
    "        print(\"No missing values found in the Development Applications DataFrame.\")\n",
    "    else:\n",
    "        print(\"Missing values found in the Development Applications DataFrame:\")\n",
    "        print(missing_info)\n",
    "else:\n",
    "    print(f\"DataFrame '{development_df_name}' not found.\")"
   ]
  },
  {
   "cell_type": "markdown",
   "id": "876b57ea",
   "metadata": {},
   "source": [
    "Now need remove rows with missing data."
   ]
  },
  {
   "cell_type": "code",
   "execution_count": 17,
   "id": "fd9f0fda",
   "metadata": {},
   "outputs": [
    {
     "name": "stdout",
     "output_type": "stream",
     "text": [
      "Rows with missing data removed. New shape: (24140, 6)\n"
     ]
    }
   ],
   "source": [
    "# Remove rows with missing data from the Development Applications DataFrame\n",
    "if development_df_name in dataframes:\n",
    "    development_df_cleaned = dataframes[development_df_name]\n",
    "    \n",
    "    # Drop rows with missing values\n",
    "    development_df_cleaned = development_df_cleaned.dropna()\n",
    "\n",
    "    # Update the DataFrame in the dictionary\n",
    "    dataframes[development_df_name] = development_df_cleaned\n",
    "    \n",
    "    print(f\"Rows with missing data removed. New shape: {development_df_cleaned.shape}\")\n",
    "else:\n",
    "    print(f\"DataFrame '{development_df_name}' not found.\")"
   ]
  },
  {
   "cell_type": "markdown",
   "id": "20d003a8",
   "metadata": {},
   "source": [
    "Now, with cleaned up data, we want to visualize the density of development applications on the map of Toronto.\n",
    "First, we shall geocode each address. This step might take some time, don't get worried. Also, make sure that your connection to internet stays on.\n",
    "Second create a map."
   ]
  },
  {
   "cell_type": "code",
   "execution_count": 22,
   "id": "86aac1cb",
   "metadata": {},
   "outputs": [
    {
     "name": "stdout",
     "output_type": "stream",
     "text": [
      "Geocoding addresses...\n"
     ]
    },
    {
     "ename": "GeocoderUnavailable",
     "evalue": "HTTPSConnectionPool(host='nominatim.openstreetmap.org', port=443): Max retries exceeded with url: /search?q=2939+BLOOR+W%2C+Toronto%2C+Canada&format=json&limit=1 (Caused by NewConnectionError('<urllib3.connection.HTTPSConnection object at 0x00000247802F5910>: Failed to establish a new connection: [Errno 11001] getaddrinfo failed'))",
     "output_type": "error",
     "traceback": [
      "\u001b[1;31m---------------------------------------------------------------------------\u001b[0m",
      "\u001b[1;31mgaierror\u001b[0m                                  Traceback (most recent call last)",
      "File \u001b[1;32m~\\AppData\\Local\\anaconda3\\Lib\\site-packages\\urllib3\\connection.py:174\u001b[0m, in \u001b[0;36mHTTPConnection._new_conn\u001b[1;34m(self)\u001b[0m\n\u001b[0;32m    173\u001b[0m \u001b[38;5;28;01mtry\u001b[39;00m:\n\u001b[1;32m--> 174\u001b[0m     conn \u001b[38;5;241m=\u001b[39m connection\u001b[38;5;241m.\u001b[39mcreate_connection(\n\u001b[0;32m    175\u001b[0m         (\u001b[38;5;28mself\u001b[39m\u001b[38;5;241m.\u001b[39m_dns_host, \u001b[38;5;28mself\u001b[39m\u001b[38;5;241m.\u001b[39mport), \u001b[38;5;28mself\u001b[39m\u001b[38;5;241m.\u001b[39mtimeout, \u001b[38;5;241m*\u001b[39m\u001b[38;5;241m*\u001b[39mextra_kw\n\u001b[0;32m    176\u001b[0m     )\n\u001b[0;32m    178\u001b[0m \u001b[38;5;28;01mexcept\u001b[39;00m SocketTimeout:\n",
      "File \u001b[1;32m~\\AppData\\Local\\anaconda3\\Lib\\site-packages\\urllib3\\util\\connection.py:72\u001b[0m, in \u001b[0;36mcreate_connection\u001b[1;34m(address, timeout, source_address, socket_options)\u001b[0m\n\u001b[0;32m     68\u001b[0m     \u001b[38;5;28;01mreturn\u001b[39;00m six\u001b[38;5;241m.\u001b[39mraise_from(\n\u001b[0;32m     69\u001b[0m         LocationParseError(\u001b[38;5;124mu\u001b[39m\u001b[38;5;124m\"\u001b[39m\u001b[38;5;124m'\u001b[39m\u001b[38;5;132;01m%s\u001b[39;00m\u001b[38;5;124m'\u001b[39m\u001b[38;5;124m, label empty or too long\u001b[39m\u001b[38;5;124m\"\u001b[39m \u001b[38;5;241m%\u001b[39m host), \u001b[38;5;28;01mNone\u001b[39;00m\n\u001b[0;32m     70\u001b[0m     )\n\u001b[1;32m---> 72\u001b[0m \u001b[38;5;28;01mfor\u001b[39;00m res \u001b[38;5;129;01min\u001b[39;00m socket\u001b[38;5;241m.\u001b[39mgetaddrinfo(host, port, family, socket\u001b[38;5;241m.\u001b[39mSOCK_STREAM):\n\u001b[0;32m     73\u001b[0m     af, socktype, proto, canonname, sa \u001b[38;5;241m=\u001b[39m res\n",
      "File \u001b[1;32m~\\AppData\\Local\\anaconda3\\Lib\\socket.py:962\u001b[0m, in \u001b[0;36mgetaddrinfo\u001b[1;34m(host, port, family, type, proto, flags)\u001b[0m\n\u001b[0;32m    961\u001b[0m addrlist \u001b[38;5;241m=\u001b[39m []\n\u001b[1;32m--> 962\u001b[0m \u001b[38;5;28;01mfor\u001b[39;00m res \u001b[38;5;129;01min\u001b[39;00m _socket\u001b[38;5;241m.\u001b[39mgetaddrinfo(host, port, family, \u001b[38;5;28mtype\u001b[39m, proto, flags):\n\u001b[0;32m    963\u001b[0m     af, socktype, proto, canonname, sa \u001b[38;5;241m=\u001b[39m res\n",
      "\u001b[1;31mgaierror\u001b[0m: [Errno 11001] getaddrinfo failed",
      "\nDuring handling of the above exception, another exception occurred:\n",
      "\u001b[1;31mNewConnectionError\u001b[0m                        Traceback (most recent call last)",
      "File \u001b[1;32m~\\AppData\\Local\\anaconda3\\Lib\\site-packages\\urllib3\\connectionpool.py:714\u001b[0m, in \u001b[0;36mHTTPConnectionPool.urlopen\u001b[1;34m(self, method, url, body, headers, retries, redirect, assert_same_host, timeout, pool_timeout, release_conn, chunked, body_pos, **response_kw)\u001b[0m\n\u001b[0;32m    713\u001b[0m \u001b[38;5;66;03m# Make the request on the httplib connection object.\u001b[39;00m\n\u001b[1;32m--> 714\u001b[0m httplib_response \u001b[38;5;241m=\u001b[39m \u001b[38;5;28mself\u001b[39m\u001b[38;5;241m.\u001b[39m_make_request(\n\u001b[0;32m    715\u001b[0m     conn,\n\u001b[0;32m    716\u001b[0m     method,\n\u001b[0;32m    717\u001b[0m     url,\n\u001b[0;32m    718\u001b[0m     timeout\u001b[38;5;241m=\u001b[39mtimeout_obj,\n\u001b[0;32m    719\u001b[0m     body\u001b[38;5;241m=\u001b[39mbody,\n\u001b[0;32m    720\u001b[0m     headers\u001b[38;5;241m=\u001b[39mheaders,\n\u001b[0;32m    721\u001b[0m     chunked\u001b[38;5;241m=\u001b[39mchunked,\n\u001b[0;32m    722\u001b[0m )\n\u001b[0;32m    724\u001b[0m \u001b[38;5;66;03m# If we're going to release the connection in ``finally:``, then\u001b[39;00m\n\u001b[0;32m    725\u001b[0m \u001b[38;5;66;03m# the response doesn't need to know about the connection. Otherwise\u001b[39;00m\n\u001b[0;32m    726\u001b[0m \u001b[38;5;66;03m# it will also try to release it and we'll have a double-release\u001b[39;00m\n\u001b[0;32m    727\u001b[0m \u001b[38;5;66;03m# mess.\u001b[39;00m\n",
      "File \u001b[1;32m~\\AppData\\Local\\anaconda3\\Lib\\site-packages\\urllib3\\connectionpool.py:403\u001b[0m, in \u001b[0;36mHTTPConnectionPool._make_request\u001b[1;34m(self, conn, method, url, timeout, chunked, **httplib_request_kw)\u001b[0m\n\u001b[0;32m    402\u001b[0m \u001b[38;5;28;01mtry\u001b[39;00m:\n\u001b[1;32m--> 403\u001b[0m     \u001b[38;5;28mself\u001b[39m\u001b[38;5;241m.\u001b[39m_validate_conn(conn)\n\u001b[0;32m    404\u001b[0m \u001b[38;5;28;01mexcept\u001b[39;00m (SocketTimeout, BaseSSLError) \u001b[38;5;28;01mas\u001b[39;00m e:\n\u001b[0;32m    405\u001b[0m     \u001b[38;5;66;03m# Py2 raises this as a BaseSSLError, Py3 raises it as socket timeout.\u001b[39;00m\n",
      "File \u001b[1;32m~\\AppData\\Local\\anaconda3\\Lib\\site-packages\\urllib3\\connectionpool.py:1053\u001b[0m, in \u001b[0;36mHTTPSConnectionPool._validate_conn\u001b[1;34m(self, conn)\u001b[0m\n\u001b[0;32m   1052\u001b[0m \u001b[38;5;28;01mif\u001b[39;00m \u001b[38;5;129;01mnot\u001b[39;00m \u001b[38;5;28mgetattr\u001b[39m(conn, \u001b[38;5;124m\"\u001b[39m\u001b[38;5;124msock\u001b[39m\u001b[38;5;124m\"\u001b[39m, \u001b[38;5;28;01mNone\u001b[39;00m):  \u001b[38;5;66;03m# AppEngine might not have  `.sock`\u001b[39;00m\n\u001b[1;32m-> 1053\u001b[0m     conn\u001b[38;5;241m.\u001b[39mconnect()\n\u001b[0;32m   1055\u001b[0m \u001b[38;5;28;01mif\u001b[39;00m \u001b[38;5;129;01mnot\u001b[39;00m conn\u001b[38;5;241m.\u001b[39mis_verified:\n",
      "File \u001b[1;32m~\\AppData\\Local\\anaconda3\\Lib\\site-packages\\urllib3\\connection.py:363\u001b[0m, in \u001b[0;36mHTTPSConnection.connect\u001b[1;34m(self)\u001b[0m\n\u001b[0;32m    361\u001b[0m \u001b[38;5;28;01mdef\u001b[39;00m \u001b[38;5;21mconnect\u001b[39m(\u001b[38;5;28mself\u001b[39m):\n\u001b[0;32m    362\u001b[0m     \u001b[38;5;66;03m# Add certificate verification\u001b[39;00m\n\u001b[1;32m--> 363\u001b[0m     \u001b[38;5;28mself\u001b[39m\u001b[38;5;241m.\u001b[39msock \u001b[38;5;241m=\u001b[39m conn \u001b[38;5;241m=\u001b[39m \u001b[38;5;28mself\u001b[39m\u001b[38;5;241m.\u001b[39m_new_conn()\n\u001b[0;32m    364\u001b[0m     hostname \u001b[38;5;241m=\u001b[39m \u001b[38;5;28mself\u001b[39m\u001b[38;5;241m.\u001b[39mhost\n",
      "File \u001b[1;32m~\\AppData\\Local\\anaconda3\\Lib\\site-packages\\urllib3\\connection.py:186\u001b[0m, in \u001b[0;36mHTTPConnection._new_conn\u001b[1;34m(self)\u001b[0m\n\u001b[0;32m    185\u001b[0m \u001b[38;5;28;01mexcept\u001b[39;00m SocketError \u001b[38;5;28;01mas\u001b[39;00m e:\n\u001b[1;32m--> 186\u001b[0m     \u001b[38;5;28;01mraise\u001b[39;00m NewConnectionError(\n\u001b[0;32m    187\u001b[0m         \u001b[38;5;28mself\u001b[39m, \u001b[38;5;124m\"\u001b[39m\u001b[38;5;124mFailed to establish a new connection: \u001b[39m\u001b[38;5;132;01m%s\u001b[39;00m\u001b[38;5;124m\"\u001b[39m \u001b[38;5;241m%\u001b[39m e\n\u001b[0;32m    188\u001b[0m     )\n\u001b[0;32m    190\u001b[0m \u001b[38;5;28;01mreturn\u001b[39;00m conn\n",
      "\u001b[1;31mNewConnectionError\u001b[0m: <urllib3.connection.HTTPSConnection object at 0x00000247802F5910>: Failed to establish a new connection: [Errno 11001] getaddrinfo failed",
      "\nDuring handling of the above exception, another exception occurred:\n",
      "\u001b[1;31mMaxRetryError\u001b[0m                             Traceback (most recent call last)",
      "File \u001b[1;32m~\\AppData\\Local\\anaconda3\\Lib\\site-packages\\requests\\adapters.py:486\u001b[0m, in \u001b[0;36mHTTPAdapter.send\u001b[1;34m(self, request, stream, timeout, verify, cert, proxies)\u001b[0m\n\u001b[0;32m    485\u001b[0m \u001b[38;5;28;01mtry\u001b[39;00m:\n\u001b[1;32m--> 486\u001b[0m     resp \u001b[38;5;241m=\u001b[39m conn\u001b[38;5;241m.\u001b[39murlopen(\n\u001b[0;32m    487\u001b[0m         method\u001b[38;5;241m=\u001b[39mrequest\u001b[38;5;241m.\u001b[39mmethod,\n\u001b[0;32m    488\u001b[0m         url\u001b[38;5;241m=\u001b[39murl,\n\u001b[0;32m    489\u001b[0m         body\u001b[38;5;241m=\u001b[39mrequest\u001b[38;5;241m.\u001b[39mbody,\n\u001b[0;32m    490\u001b[0m         headers\u001b[38;5;241m=\u001b[39mrequest\u001b[38;5;241m.\u001b[39mheaders,\n\u001b[0;32m    491\u001b[0m         redirect\u001b[38;5;241m=\u001b[39m\u001b[38;5;28;01mFalse\u001b[39;00m,\n\u001b[0;32m    492\u001b[0m         assert_same_host\u001b[38;5;241m=\u001b[39m\u001b[38;5;28;01mFalse\u001b[39;00m,\n\u001b[0;32m    493\u001b[0m         preload_content\u001b[38;5;241m=\u001b[39m\u001b[38;5;28;01mFalse\u001b[39;00m,\n\u001b[0;32m    494\u001b[0m         decode_content\u001b[38;5;241m=\u001b[39m\u001b[38;5;28;01mFalse\u001b[39;00m,\n\u001b[0;32m    495\u001b[0m         retries\u001b[38;5;241m=\u001b[39m\u001b[38;5;28mself\u001b[39m\u001b[38;5;241m.\u001b[39mmax_retries,\n\u001b[0;32m    496\u001b[0m         timeout\u001b[38;5;241m=\u001b[39mtimeout,\n\u001b[0;32m    497\u001b[0m         chunked\u001b[38;5;241m=\u001b[39mchunked,\n\u001b[0;32m    498\u001b[0m     )\n\u001b[0;32m    500\u001b[0m \u001b[38;5;28;01mexcept\u001b[39;00m (ProtocolError, \u001b[38;5;167;01mOSError\u001b[39;00m) \u001b[38;5;28;01mas\u001b[39;00m err:\n",
      "File \u001b[1;32m~\\AppData\\Local\\anaconda3\\Lib\\site-packages\\urllib3\\connectionpool.py:826\u001b[0m, in \u001b[0;36mHTTPConnectionPool.urlopen\u001b[1;34m(self, method, url, body, headers, retries, redirect, assert_same_host, timeout, pool_timeout, release_conn, chunked, body_pos, **response_kw)\u001b[0m\n\u001b[0;32m    823\u001b[0m     log\u001b[38;5;241m.\u001b[39mwarning(\n\u001b[0;32m    824\u001b[0m         \u001b[38;5;124m\"\u001b[39m\u001b[38;5;124mRetrying (\u001b[39m\u001b[38;5;132;01m%r\u001b[39;00m\u001b[38;5;124m) after connection broken by \u001b[39m\u001b[38;5;124m'\u001b[39m\u001b[38;5;132;01m%r\u001b[39;00m\u001b[38;5;124m'\u001b[39m\u001b[38;5;124m: \u001b[39m\u001b[38;5;132;01m%s\u001b[39;00m\u001b[38;5;124m\"\u001b[39m, retries, err, url\n\u001b[0;32m    825\u001b[0m     )\n\u001b[1;32m--> 826\u001b[0m     \u001b[38;5;28;01mreturn\u001b[39;00m \u001b[38;5;28mself\u001b[39m\u001b[38;5;241m.\u001b[39murlopen(\n\u001b[0;32m    827\u001b[0m         method,\n\u001b[0;32m    828\u001b[0m         url,\n\u001b[0;32m    829\u001b[0m         body,\n\u001b[0;32m    830\u001b[0m         headers,\n\u001b[0;32m    831\u001b[0m         retries,\n\u001b[0;32m    832\u001b[0m         redirect,\n\u001b[0;32m    833\u001b[0m         assert_same_host,\n\u001b[0;32m    834\u001b[0m         timeout\u001b[38;5;241m=\u001b[39mtimeout,\n\u001b[0;32m    835\u001b[0m         pool_timeout\u001b[38;5;241m=\u001b[39mpool_timeout,\n\u001b[0;32m    836\u001b[0m         release_conn\u001b[38;5;241m=\u001b[39mrelease_conn,\n\u001b[0;32m    837\u001b[0m         chunked\u001b[38;5;241m=\u001b[39mchunked,\n\u001b[0;32m    838\u001b[0m         body_pos\u001b[38;5;241m=\u001b[39mbody_pos,\n\u001b[0;32m    839\u001b[0m         \u001b[38;5;241m*\u001b[39m\u001b[38;5;241m*\u001b[39mresponse_kw\n\u001b[0;32m    840\u001b[0m     )\n\u001b[0;32m    842\u001b[0m \u001b[38;5;66;03m# Handle redirect?\u001b[39;00m\n",
      "File \u001b[1;32m~\\AppData\\Local\\anaconda3\\Lib\\site-packages\\urllib3\\connectionpool.py:826\u001b[0m, in \u001b[0;36mHTTPConnectionPool.urlopen\u001b[1;34m(self, method, url, body, headers, retries, redirect, assert_same_host, timeout, pool_timeout, release_conn, chunked, body_pos, **response_kw)\u001b[0m\n\u001b[0;32m    823\u001b[0m     log\u001b[38;5;241m.\u001b[39mwarning(\n\u001b[0;32m    824\u001b[0m         \u001b[38;5;124m\"\u001b[39m\u001b[38;5;124mRetrying (\u001b[39m\u001b[38;5;132;01m%r\u001b[39;00m\u001b[38;5;124m) after connection broken by \u001b[39m\u001b[38;5;124m'\u001b[39m\u001b[38;5;132;01m%r\u001b[39;00m\u001b[38;5;124m'\u001b[39m\u001b[38;5;124m: \u001b[39m\u001b[38;5;132;01m%s\u001b[39;00m\u001b[38;5;124m\"\u001b[39m, retries, err, url\n\u001b[0;32m    825\u001b[0m     )\n\u001b[1;32m--> 826\u001b[0m     \u001b[38;5;28;01mreturn\u001b[39;00m \u001b[38;5;28mself\u001b[39m\u001b[38;5;241m.\u001b[39murlopen(\n\u001b[0;32m    827\u001b[0m         method,\n\u001b[0;32m    828\u001b[0m         url,\n\u001b[0;32m    829\u001b[0m         body,\n\u001b[0;32m    830\u001b[0m         headers,\n\u001b[0;32m    831\u001b[0m         retries,\n\u001b[0;32m    832\u001b[0m         redirect,\n\u001b[0;32m    833\u001b[0m         assert_same_host,\n\u001b[0;32m    834\u001b[0m         timeout\u001b[38;5;241m=\u001b[39mtimeout,\n\u001b[0;32m    835\u001b[0m         pool_timeout\u001b[38;5;241m=\u001b[39mpool_timeout,\n\u001b[0;32m    836\u001b[0m         release_conn\u001b[38;5;241m=\u001b[39mrelease_conn,\n\u001b[0;32m    837\u001b[0m         chunked\u001b[38;5;241m=\u001b[39mchunked,\n\u001b[0;32m    838\u001b[0m         body_pos\u001b[38;5;241m=\u001b[39mbody_pos,\n\u001b[0;32m    839\u001b[0m         \u001b[38;5;241m*\u001b[39m\u001b[38;5;241m*\u001b[39mresponse_kw\n\u001b[0;32m    840\u001b[0m     )\n\u001b[0;32m    842\u001b[0m \u001b[38;5;66;03m# Handle redirect?\u001b[39;00m\n",
      "File \u001b[1;32m~\\AppData\\Local\\anaconda3\\Lib\\site-packages\\urllib3\\connectionpool.py:798\u001b[0m, in \u001b[0;36mHTTPConnectionPool.urlopen\u001b[1;34m(self, method, url, body, headers, retries, redirect, assert_same_host, timeout, pool_timeout, release_conn, chunked, body_pos, **response_kw)\u001b[0m\n\u001b[0;32m    796\u001b[0m     e \u001b[38;5;241m=\u001b[39m ProtocolError(\u001b[38;5;124m\"\u001b[39m\u001b[38;5;124mConnection aborted.\u001b[39m\u001b[38;5;124m\"\u001b[39m, e)\n\u001b[1;32m--> 798\u001b[0m retries \u001b[38;5;241m=\u001b[39m retries\u001b[38;5;241m.\u001b[39mincrement(\n\u001b[0;32m    799\u001b[0m     method, url, error\u001b[38;5;241m=\u001b[39me, _pool\u001b[38;5;241m=\u001b[39m\u001b[38;5;28mself\u001b[39m, _stacktrace\u001b[38;5;241m=\u001b[39msys\u001b[38;5;241m.\u001b[39mexc_info()[\u001b[38;5;241m2\u001b[39m]\n\u001b[0;32m    800\u001b[0m )\n\u001b[0;32m    801\u001b[0m retries\u001b[38;5;241m.\u001b[39msleep()\n",
      "File \u001b[1;32m~\\AppData\\Local\\anaconda3\\Lib\\site-packages\\urllib3\\util\\retry.py:592\u001b[0m, in \u001b[0;36mRetry.increment\u001b[1;34m(self, method, url, response, error, _pool, _stacktrace)\u001b[0m\n\u001b[0;32m    591\u001b[0m \u001b[38;5;28;01mif\u001b[39;00m new_retry\u001b[38;5;241m.\u001b[39mis_exhausted():\n\u001b[1;32m--> 592\u001b[0m     \u001b[38;5;28;01mraise\u001b[39;00m MaxRetryError(_pool, url, error \u001b[38;5;129;01mor\u001b[39;00m ResponseError(cause))\n\u001b[0;32m    594\u001b[0m log\u001b[38;5;241m.\u001b[39mdebug(\u001b[38;5;124m\"\u001b[39m\u001b[38;5;124mIncremented Retry for (url=\u001b[39m\u001b[38;5;124m'\u001b[39m\u001b[38;5;132;01m%s\u001b[39;00m\u001b[38;5;124m'\u001b[39m\u001b[38;5;124m): \u001b[39m\u001b[38;5;132;01m%r\u001b[39;00m\u001b[38;5;124m\"\u001b[39m, url, new_retry)\n",
      "\u001b[1;31mMaxRetryError\u001b[0m: HTTPSConnectionPool(host='nominatim.openstreetmap.org', port=443): Max retries exceeded with url: /search?q=2939+BLOOR+W%2C+Toronto%2C+Canada&format=json&limit=1 (Caused by NewConnectionError('<urllib3.connection.HTTPSConnection object at 0x00000247802F5910>: Failed to establish a new connection: [Errno 11001] getaddrinfo failed'))",
      "\nDuring handling of the above exception, another exception occurred:\n",
      "\u001b[1;31mConnectionError\u001b[0m                           Traceback (most recent call last)",
      "File \u001b[1;32m~\\AppData\\Local\\anaconda3\\Lib\\site-packages\\geopy\\adapters.py:482\u001b[0m, in \u001b[0;36mRequestsAdapter._request\u001b[1;34m(self, url, timeout, headers)\u001b[0m\n\u001b[0;32m    481\u001b[0m \u001b[38;5;28;01mtry\u001b[39;00m:\n\u001b[1;32m--> 482\u001b[0m     resp \u001b[38;5;241m=\u001b[39m \u001b[38;5;28mself\u001b[39m\u001b[38;5;241m.\u001b[39msession\u001b[38;5;241m.\u001b[39mget(url, timeout\u001b[38;5;241m=\u001b[39mtimeout, headers\u001b[38;5;241m=\u001b[39mheaders)\n\u001b[0;32m    483\u001b[0m \u001b[38;5;28;01mexcept\u001b[39;00m \u001b[38;5;167;01mException\u001b[39;00m \u001b[38;5;28;01mas\u001b[39;00m error:\n",
      "File \u001b[1;32m~\\AppData\\Local\\anaconda3\\Lib\\site-packages\\requests\\sessions.py:602\u001b[0m, in \u001b[0;36mSession.get\u001b[1;34m(self, url, **kwargs)\u001b[0m\n\u001b[0;32m    601\u001b[0m kwargs\u001b[38;5;241m.\u001b[39msetdefault(\u001b[38;5;124m\"\u001b[39m\u001b[38;5;124mallow_redirects\u001b[39m\u001b[38;5;124m\"\u001b[39m, \u001b[38;5;28;01mTrue\u001b[39;00m)\n\u001b[1;32m--> 602\u001b[0m \u001b[38;5;28;01mreturn\u001b[39;00m \u001b[38;5;28mself\u001b[39m\u001b[38;5;241m.\u001b[39mrequest(\u001b[38;5;124m\"\u001b[39m\u001b[38;5;124mGET\u001b[39m\u001b[38;5;124m\"\u001b[39m, url, \u001b[38;5;241m*\u001b[39m\u001b[38;5;241m*\u001b[39mkwargs)\n",
      "File \u001b[1;32m~\\AppData\\Local\\anaconda3\\Lib\\site-packages\\requests\\sessions.py:589\u001b[0m, in \u001b[0;36mSession.request\u001b[1;34m(self, method, url, params, data, headers, cookies, files, auth, timeout, allow_redirects, proxies, hooks, stream, verify, cert, json)\u001b[0m\n\u001b[0;32m    588\u001b[0m send_kwargs\u001b[38;5;241m.\u001b[39mupdate(settings)\n\u001b[1;32m--> 589\u001b[0m resp \u001b[38;5;241m=\u001b[39m \u001b[38;5;28mself\u001b[39m\u001b[38;5;241m.\u001b[39msend(prep, \u001b[38;5;241m*\u001b[39m\u001b[38;5;241m*\u001b[39msend_kwargs)\n\u001b[0;32m    591\u001b[0m \u001b[38;5;28;01mreturn\u001b[39;00m resp\n",
      "File \u001b[1;32m~\\AppData\\Local\\anaconda3\\Lib\\site-packages\\requests\\sessions.py:703\u001b[0m, in \u001b[0;36mSession.send\u001b[1;34m(self, request, **kwargs)\u001b[0m\n\u001b[0;32m    702\u001b[0m \u001b[38;5;66;03m# Send the request\u001b[39;00m\n\u001b[1;32m--> 703\u001b[0m r \u001b[38;5;241m=\u001b[39m adapter\u001b[38;5;241m.\u001b[39msend(request, \u001b[38;5;241m*\u001b[39m\u001b[38;5;241m*\u001b[39mkwargs)\n\u001b[0;32m    705\u001b[0m \u001b[38;5;66;03m# Total elapsed time of the request (approximately)\u001b[39;00m\n",
      "File \u001b[1;32m~\\AppData\\Local\\anaconda3\\Lib\\site-packages\\requests\\adapters.py:519\u001b[0m, in \u001b[0;36mHTTPAdapter.send\u001b[1;34m(self, request, stream, timeout, verify, cert, proxies)\u001b[0m\n\u001b[0;32m    517\u001b[0m         \u001b[38;5;28;01mraise\u001b[39;00m SSLError(e, request\u001b[38;5;241m=\u001b[39mrequest)\n\u001b[1;32m--> 519\u001b[0m     \u001b[38;5;28;01mraise\u001b[39;00m \u001b[38;5;167;01mConnectionError\u001b[39;00m(e, request\u001b[38;5;241m=\u001b[39mrequest)\n\u001b[0;32m    521\u001b[0m \u001b[38;5;28;01mexcept\u001b[39;00m ClosedPoolError \u001b[38;5;28;01mas\u001b[39;00m e:\n",
      "\u001b[1;31mConnectionError\u001b[0m: HTTPSConnectionPool(host='nominatim.openstreetmap.org', port=443): Max retries exceeded with url: /search?q=2939+BLOOR+W%2C+Toronto%2C+Canada&format=json&limit=1 (Caused by NewConnectionError('<urllib3.connection.HTTPSConnection object at 0x00000247802F5910>: Failed to establish a new connection: [Errno 11001] getaddrinfo failed'))",
      "\nDuring handling of the above exception, another exception occurred:\n",
      "\u001b[1;31mGeocoderUnavailable\u001b[0m                       Traceback (most recent call last)",
      "Cell \u001b[1;32mIn[22], line 22\u001b[0m\n\u001b[0;32m     20\u001b[0m \u001b[38;5;66;03m# Apply geocoding to each row\u001b[39;00m\n\u001b[0;32m     21\u001b[0m \u001b[38;5;28mprint\u001b[39m(\u001b[38;5;124m\"\u001b[39m\u001b[38;5;124mGeocoding addresses...\u001b[39m\u001b[38;5;124m\"\u001b[39m)\n\u001b[1;32m---> 22\u001b[0m development_df_cleaned[[\u001b[38;5;124m\"\u001b[39m\u001b[38;5;124mLAT\u001b[39m\u001b[38;5;124m\"\u001b[39m, \u001b[38;5;124m\"\u001b[39m\u001b[38;5;124mLON\u001b[39m\u001b[38;5;124m\"\u001b[39m]] \u001b[38;5;241m=\u001b[39m development_df_cleaned\u001b[38;5;241m.\u001b[39mapply(\n\u001b[0;32m     23\u001b[0m     \u001b[38;5;28;01mlambda\u001b[39;00m row: pd\u001b[38;5;241m.\u001b[39mSeries(geocode_address(row)), axis\u001b[38;5;241m=\u001b[39m\u001b[38;5;241m1\u001b[39m\n\u001b[0;32m     24\u001b[0m )\n\u001b[0;32m     25\u001b[0m \u001b[38;5;28mprint\u001b[39m(\u001b[38;5;124m\"\u001b[39m\u001b[38;5;124mGeocoding completed.\u001b[39m\u001b[38;5;124m\"\u001b[39m)\n\u001b[0;32m     27\u001b[0m \u001b[38;5;66;03m# Drop rows with missing geocoded values\u001b[39;00m\n",
      "File \u001b[1;32m~\\AppData\\Local\\anaconda3\\Lib\\site-packages\\pandas\\core\\frame.py:9568\u001b[0m, in \u001b[0;36mDataFrame.apply\u001b[1;34m(self, func, axis, raw, result_type, args, **kwargs)\u001b[0m\n\u001b[0;32m   9557\u001b[0m \u001b[38;5;28;01mfrom\u001b[39;00m \u001b[38;5;21;01mpandas\u001b[39;00m\u001b[38;5;21;01m.\u001b[39;00m\u001b[38;5;21;01mcore\u001b[39;00m\u001b[38;5;21;01m.\u001b[39;00m\u001b[38;5;21;01mapply\u001b[39;00m \u001b[38;5;28;01mimport\u001b[39;00m frame_apply\n\u001b[0;32m   9559\u001b[0m op \u001b[38;5;241m=\u001b[39m frame_apply(\n\u001b[0;32m   9560\u001b[0m     \u001b[38;5;28mself\u001b[39m,\n\u001b[0;32m   9561\u001b[0m     func\u001b[38;5;241m=\u001b[39mfunc,\n\u001b[1;32m   (...)\u001b[0m\n\u001b[0;32m   9566\u001b[0m     kwargs\u001b[38;5;241m=\u001b[39mkwargs,\n\u001b[0;32m   9567\u001b[0m )\n\u001b[1;32m-> 9568\u001b[0m \u001b[38;5;28;01mreturn\u001b[39;00m op\u001b[38;5;241m.\u001b[39mapply()\u001b[38;5;241m.\u001b[39m__finalize__(\u001b[38;5;28mself\u001b[39m, method\u001b[38;5;241m=\u001b[39m\u001b[38;5;124m\"\u001b[39m\u001b[38;5;124mapply\u001b[39m\u001b[38;5;124m\"\u001b[39m)\n",
      "File \u001b[1;32m~\\AppData\\Local\\anaconda3\\Lib\\site-packages\\pandas\\core\\apply.py:764\u001b[0m, in \u001b[0;36mFrameApply.apply\u001b[1;34m(self)\u001b[0m\n\u001b[0;32m    761\u001b[0m \u001b[38;5;28;01melif\u001b[39;00m \u001b[38;5;28mself\u001b[39m\u001b[38;5;241m.\u001b[39mraw:\n\u001b[0;32m    762\u001b[0m     \u001b[38;5;28;01mreturn\u001b[39;00m \u001b[38;5;28mself\u001b[39m\u001b[38;5;241m.\u001b[39mapply_raw()\n\u001b[1;32m--> 764\u001b[0m \u001b[38;5;28;01mreturn\u001b[39;00m \u001b[38;5;28mself\u001b[39m\u001b[38;5;241m.\u001b[39mapply_standard()\n",
      "File \u001b[1;32m~\\AppData\\Local\\anaconda3\\Lib\\site-packages\\pandas\\core\\apply.py:891\u001b[0m, in \u001b[0;36mFrameApply.apply_standard\u001b[1;34m(self)\u001b[0m\n\u001b[0;32m    890\u001b[0m \u001b[38;5;28;01mdef\u001b[39;00m \u001b[38;5;21mapply_standard\u001b[39m(\u001b[38;5;28mself\u001b[39m):\n\u001b[1;32m--> 891\u001b[0m     results, res_index \u001b[38;5;241m=\u001b[39m \u001b[38;5;28mself\u001b[39m\u001b[38;5;241m.\u001b[39mapply_series_generator()\n\u001b[0;32m    893\u001b[0m     \u001b[38;5;66;03m# wrap results\u001b[39;00m\n\u001b[0;32m    894\u001b[0m     \u001b[38;5;28;01mreturn\u001b[39;00m \u001b[38;5;28mself\u001b[39m\u001b[38;5;241m.\u001b[39mwrap_results(results, res_index)\n",
      "File \u001b[1;32m~\\AppData\\Local\\anaconda3\\Lib\\site-packages\\pandas\\core\\apply.py:907\u001b[0m, in \u001b[0;36mFrameApply.apply_series_generator\u001b[1;34m(self)\u001b[0m\n\u001b[0;32m    904\u001b[0m \u001b[38;5;28;01mwith\u001b[39;00m option_context(\u001b[38;5;124m\"\u001b[39m\u001b[38;5;124mmode.chained_assignment\u001b[39m\u001b[38;5;124m\"\u001b[39m, \u001b[38;5;28;01mNone\u001b[39;00m):\n\u001b[0;32m    905\u001b[0m     \u001b[38;5;28;01mfor\u001b[39;00m i, v \u001b[38;5;129;01min\u001b[39;00m \u001b[38;5;28menumerate\u001b[39m(series_gen):\n\u001b[0;32m    906\u001b[0m         \u001b[38;5;66;03m# ignore SettingWithCopy here in case the user mutates\u001b[39;00m\n\u001b[1;32m--> 907\u001b[0m         results[i] \u001b[38;5;241m=\u001b[39m \u001b[38;5;28mself\u001b[39m\u001b[38;5;241m.\u001b[39mf(v)\n\u001b[0;32m    908\u001b[0m         \u001b[38;5;28;01mif\u001b[39;00m \u001b[38;5;28misinstance\u001b[39m(results[i], ABCSeries):\n\u001b[0;32m    909\u001b[0m             \u001b[38;5;66;03m# If we have a view on v, we need to make a copy because\u001b[39;00m\n\u001b[0;32m    910\u001b[0m             \u001b[38;5;66;03m#  series_generator will swap out the underlying data\u001b[39;00m\n\u001b[0;32m    911\u001b[0m             results[i] \u001b[38;5;241m=\u001b[39m results[i]\u001b[38;5;241m.\u001b[39mcopy(deep\u001b[38;5;241m=\u001b[39m\u001b[38;5;28;01mFalse\u001b[39;00m)\n",
      "Cell \u001b[1;32mIn[22], line 23\u001b[0m, in \u001b[0;36m<lambda>\u001b[1;34m(row)\u001b[0m\n\u001b[0;32m     20\u001b[0m \u001b[38;5;66;03m# Apply geocoding to each row\u001b[39;00m\n\u001b[0;32m     21\u001b[0m \u001b[38;5;28mprint\u001b[39m(\u001b[38;5;124m\"\u001b[39m\u001b[38;5;124mGeocoding addresses...\u001b[39m\u001b[38;5;124m\"\u001b[39m)\n\u001b[0;32m     22\u001b[0m development_df_cleaned[[\u001b[38;5;124m\"\u001b[39m\u001b[38;5;124mLAT\u001b[39m\u001b[38;5;124m\"\u001b[39m, \u001b[38;5;124m\"\u001b[39m\u001b[38;5;124mLON\u001b[39m\u001b[38;5;124m\"\u001b[39m]] \u001b[38;5;241m=\u001b[39m development_df_cleaned\u001b[38;5;241m.\u001b[39mapply(\n\u001b[1;32m---> 23\u001b[0m     \u001b[38;5;28;01mlambda\u001b[39;00m row: pd\u001b[38;5;241m.\u001b[39mSeries(geocode_address(row)), axis\u001b[38;5;241m=\u001b[39m\u001b[38;5;241m1\u001b[39m\n\u001b[0;32m     24\u001b[0m )\n\u001b[0;32m     25\u001b[0m \u001b[38;5;28mprint\u001b[39m(\u001b[38;5;124m\"\u001b[39m\u001b[38;5;124mGeocoding completed.\u001b[39m\u001b[38;5;124m\"\u001b[39m)\n\u001b[0;32m     27\u001b[0m \u001b[38;5;66;03m# Drop rows with missing geocoded values\u001b[39;00m\n",
      "Cell \u001b[1;32mIn[22], line 8\u001b[0m, in \u001b[0;36mgeocode_address\u001b[1;34m(row)\u001b[0m\n\u001b[0;32m      6\u001b[0m \u001b[38;5;28;01mtry\u001b[39;00m:\n\u001b[0;32m      7\u001b[0m     address \u001b[38;5;241m=\u001b[39m \u001b[38;5;124mf\u001b[39m\u001b[38;5;124m\"\u001b[39m\u001b[38;5;132;01m{\u001b[39;00mrow[\u001b[38;5;124m'\u001b[39m\u001b[38;5;124mSTREET_NUM\u001b[39m\u001b[38;5;124m'\u001b[39m]\u001b[38;5;132;01m}\u001b[39;00m\u001b[38;5;124m \u001b[39m\u001b[38;5;132;01m{\u001b[39;00mrow[\u001b[38;5;124m'\u001b[39m\u001b[38;5;124mSTREET_NAME\u001b[39m\u001b[38;5;124m'\u001b[39m]\u001b[38;5;132;01m}\u001b[39;00m\u001b[38;5;124m \u001b[39m\u001b[38;5;132;01m{\u001b[39;00mrow[\u001b[38;5;124m'\u001b[39m\u001b[38;5;124mSTREET_DIRECTION\u001b[39m\u001b[38;5;124m'\u001b[39m]\u001b[38;5;132;01m}\u001b[39;00m\u001b[38;5;124m, Toronto, Canada\u001b[39m\u001b[38;5;124m\"\u001b[39m\n\u001b[1;32m----> 8\u001b[0m     location \u001b[38;5;241m=\u001b[39m geolocator\u001b[38;5;241m.\u001b[39mgeocode(address, timeout\u001b[38;5;241m=\u001b[39m\u001b[38;5;241m10\u001b[39m)\n\u001b[0;32m      9\u001b[0m     \u001b[38;5;28;01mif\u001b[39;00m location:\n\u001b[0;32m     10\u001b[0m         \u001b[38;5;28;01mreturn\u001b[39;00m (location\u001b[38;5;241m.\u001b[39mlatitude, location\u001b[38;5;241m.\u001b[39mlongitude)\n",
      "File \u001b[1;32m~\\AppData\\Local\\anaconda3\\Lib\\site-packages\\geopy\\geocoders\\nominatim.py:297\u001b[0m, in \u001b[0;36mNominatim.geocode\u001b[1;34m(self, query, exactly_one, timeout, limit, addressdetails, language, geometry, extratags, country_codes, viewbox, bounded, featuretype, namedetails)\u001b[0m\n\u001b[0;32m    295\u001b[0m logger\u001b[38;5;241m.\u001b[39mdebug(\u001b[38;5;124m\"\u001b[39m\u001b[38;5;132;01m%s\u001b[39;00m\u001b[38;5;124m.geocode: \u001b[39m\u001b[38;5;132;01m%s\u001b[39;00m\u001b[38;5;124m\"\u001b[39m, \u001b[38;5;28mself\u001b[39m\u001b[38;5;241m.\u001b[39m\u001b[38;5;18m__class__\u001b[39m\u001b[38;5;241m.\u001b[39m\u001b[38;5;18m__name__\u001b[39m, url)\n\u001b[0;32m    296\u001b[0m callback \u001b[38;5;241m=\u001b[39m partial(\u001b[38;5;28mself\u001b[39m\u001b[38;5;241m.\u001b[39m_parse_json, exactly_one\u001b[38;5;241m=\u001b[39mexactly_one)\n\u001b[1;32m--> 297\u001b[0m \u001b[38;5;28;01mreturn\u001b[39;00m \u001b[38;5;28mself\u001b[39m\u001b[38;5;241m.\u001b[39m_call_geocoder(url, callback, timeout\u001b[38;5;241m=\u001b[39mtimeout)\n",
      "File \u001b[1;32m~\\AppData\\Local\\anaconda3\\Lib\\site-packages\\geopy\\geocoders\\base.py:368\u001b[0m, in \u001b[0;36mGeocoder._call_geocoder\u001b[1;34m(self, url, callback, timeout, is_json, headers)\u001b[0m\n\u001b[0;32m    366\u001b[0m \u001b[38;5;28;01mtry\u001b[39;00m:\n\u001b[0;32m    367\u001b[0m     \u001b[38;5;28;01mif\u001b[39;00m is_json:\n\u001b[1;32m--> 368\u001b[0m         result \u001b[38;5;241m=\u001b[39m \u001b[38;5;28mself\u001b[39m\u001b[38;5;241m.\u001b[39madapter\u001b[38;5;241m.\u001b[39mget_json(url, timeout\u001b[38;5;241m=\u001b[39mtimeout, headers\u001b[38;5;241m=\u001b[39mreq_headers)\n\u001b[0;32m    369\u001b[0m     \u001b[38;5;28;01melse\u001b[39;00m:\n\u001b[0;32m    370\u001b[0m         result \u001b[38;5;241m=\u001b[39m \u001b[38;5;28mself\u001b[39m\u001b[38;5;241m.\u001b[39madapter\u001b[38;5;241m.\u001b[39mget_text(url, timeout\u001b[38;5;241m=\u001b[39mtimeout, headers\u001b[38;5;241m=\u001b[39mreq_headers)\n",
      "File \u001b[1;32m~\\AppData\\Local\\anaconda3\\Lib\\site-packages\\geopy\\adapters.py:472\u001b[0m, in \u001b[0;36mRequestsAdapter.get_json\u001b[1;34m(self, url, timeout, headers)\u001b[0m\n\u001b[0;32m    471\u001b[0m \u001b[38;5;28;01mdef\u001b[39;00m \u001b[38;5;21mget_json\u001b[39m(\u001b[38;5;28mself\u001b[39m, url, \u001b[38;5;241m*\u001b[39m, timeout, headers):\n\u001b[1;32m--> 472\u001b[0m     resp \u001b[38;5;241m=\u001b[39m \u001b[38;5;28mself\u001b[39m\u001b[38;5;241m.\u001b[39m_request(url, timeout\u001b[38;5;241m=\u001b[39mtimeout, headers\u001b[38;5;241m=\u001b[39mheaders)\n\u001b[0;32m    473\u001b[0m     \u001b[38;5;28;01mtry\u001b[39;00m:\n\u001b[0;32m    474\u001b[0m         \u001b[38;5;28;01mreturn\u001b[39;00m resp\u001b[38;5;241m.\u001b[39mjson()\n",
      "File \u001b[1;32m~\\AppData\\Local\\anaconda3\\Lib\\site-packages\\geopy\\adapters.py:494\u001b[0m, in \u001b[0;36mRequestsAdapter._request\u001b[1;34m(self, url, timeout, headers)\u001b[0m\n\u001b[0;32m    492\u001b[0m         \u001b[38;5;28;01mraise\u001b[39;00m GeocoderServiceError(message)\n\u001b[0;32m    493\u001b[0m     \u001b[38;5;28;01melse\u001b[39;00m:\n\u001b[1;32m--> 494\u001b[0m         \u001b[38;5;28;01mraise\u001b[39;00m GeocoderUnavailable(message)\n\u001b[0;32m    495\u001b[0m \u001b[38;5;28;01melif\u001b[39;00m \u001b[38;5;28misinstance\u001b[39m(error, requests\u001b[38;5;241m.\u001b[39mTimeout):\n\u001b[0;32m    496\u001b[0m     \u001b[38;5;28;01mraise\u001b[39;00m GeocoderTimedOut(\u001b[38;5;124m\"\u001b[39m\u001b[38;5;124mService timed out\u001b[39m\u001b[38;5;124m\"\u001b[39m)\n",
      "\u001b[1;31mGeocoderUnavailable\u001b[0m: HTTPSConnectionPool(host='nominatim.openstreetmap.org', port=443): Max retries exceeded with url: /search?q=2939+BLOOR+W%2C+Toronto%2C+Canada&format=json&limit=1 (Caused by NewConnectionError('<urllib3.connection.HTTPSConnection object at 0x00000247802F5910>: Failed to establish a new connection: [Errno 11001] getaddrinfo failed'))"
     ]
    }
   ],
   "source": [
    "# Initialize geolocator\n",
    "geolocator = Nominatim(user_agent=\"toronto_development_geocoder\")\n",
    "\n",
    "# Function to geocode an address\n",
    "def geocode_address(row):\n",
    "    try:\n",
    "        address = f\"{row['STREET_NUM']} {row['STREET_NAME']} {row['STREET_DIRECTION']}, Toronto, Canada\"\n",
    "        location = geolocator.geocode(address, timeout=10)\n",
    "        if location:\n",
    "            return (location.latitude, location.longitude)\n",
    "    except GeocoderTimedOut:\n",
    "        time.sleep(1)  # Wait a second and retry\n",
    "        return geocode_address(row)\n",
    "    return (None, None)\n",
    "\n",
    "# Geocode the Development Applications DataFrame\n",
    "if development_df_name in dataframes:\n",
    "    development_df_cleaned = dataframes[development_df_name]\n",
    "\n",
    "    # Apply geocoding to each row\n",
    "    print(\"Geocoding addresses...\")\n",
    "    development_df_cleaned[[\"LAT\", \"LON\"]] = development_df_cleaned.apply(\n",
    "        lambda row: pd.Series(geocode_address(row)), axis=1\n",
    "    )\n",
    "    print(\"Geocoding completed.\")\n",
    "    \n",
    "    # Drop rows with missing geocoded values\n",
    "    development_df_cleaned = development_df_cleaned.dropna(subset=[\"LAT\", \"LON\"])\n",
    "    \n",
    "    # Convert to a GeoDataFrame\n",
    "    development_gdf = gpd.GeoDataFrame(\n",
    "        development_df_cleaned,\n",
    "        geometry=gpd.points_from_xy(development_df_cleaned[\"LON\"], development_df_cleaned[\"LAT\"]),\n",
    "        crs=\"EPSG:4326\"\n",
    "    )\n",
    "\n",
    "    # Visualization using Folium\n",
    "    toronto_map = folium.Map(location=[43.7, -79.4], zoom_start=11)\n",
    "\n",
    "    # Add points to the map\n",
    "    for _, row in development_gdf.iterrows():\n",
    "        folium.CircleMarker(\n",
    "            location=[row.geometry.y, row.geometry.x],\n",
    "            radius=3,\n",
    "            color=\"blue\",\n",
    "            fill=True,\n",
    "            fill_opacity=0.6\n",
    "        ).add_to(toronto_map)\n",
    "\n",
    "    # Save and display the map\n",
    "    toronto_map.save(\"toronto_development_density.html\")\n",
    "    print(\"Map has been saved as 'toronto_development_density.html'.\")\n",
    "else:\n",
    "    print(f\"DataFrame '{development_df_name}' not found.\")"
   ]
  },
  {
   "cell_type": "markdown",
   "id": "db733197",
   "metadata": {},
   "source": [
    "Now let's review the dataframe and see if it is ready for merge based on geometry and locations."
   ]
  },
  {
   "cell_type": "markdown",
   "id": "a1654779",
   "metadata": {},
   "source": [
    "# Dataframe 2 - Neighbourhood Shapes"
   ]
  },
  {
   "cell_type": "markdown",
   "id": "4b838f48",
   "metadata": {},
   "source": [
    "Let's prepare another dataframe with Neighbourhood shape information. Let's review the file and see what information it offers to us."
   ]
  },
  {
   "cell_type": "code",
   "execution_count": 6,
   "id": "0c0f194e",
   "metadata": {},
   "outputs": [
    {
     "name": "stdout",
     "output_type": "stream",
     "text": [
      "List of columns in Neighbourhoods DataFrame:\n",
      "['_id', 'AREA_ID', 'AREA_ATTR_ID', 'PARENT_AREA_ID', 'AREA_SHORT_CODE', 'AREA_LONG_CODE', 'AREA_NAME', 'AREA_DESC', 'CLASSIFICATION', 'CLASSIFICATION_CODE', 'OBJECTID', 'geometry']\n"
     ]
    }
   ],
   "source": [
    "# Display the list of columns for the Neighbourhoods DataFrame\n",
    "neighbourhoods_df_name = \"Neighbourhoods Neighbourhoods - 4326\"\n",
    "if neighbourhoods_df_name in dataframes:\n",
    "    neighbourhoods_df = dataframes[neighbourhoods_df_name]\n",
    "    print(\"List of columns in Neighbourhoods DataFrame:\")\n",
    "    print(neighbourhoods_df.columns.tolist())\n",
    "else:\n",
    "    print(f\"DataFrame '{neighbourhoods_df_name}' not found.\")"
   ]
  },
  {
   "cell_type": "markdown",
   "id": "b4f0e22d",
   "metadata": {},
   "source": [
    "We do not need following columns and they can be removed from or dataframe: 'AREA_ATTR_ID', 'PARENT_AREA_ID', 'CLASSIFICATION_CODE', 'AREA_DESC'. Let's keep remaining columns for now as they might be useful during dataframes merge. "
   ]
  },
  {
   "cell_type": "code",
   "execution_count": 7,
   "id": "a4d9d5e4",
   "metadata": {},
   "outputs": [
    {
     "name": "stdout",
     "output_type": "stream",
     "text": [
      "Columns removed. Updated shape: (158, 8)\n",
      "Remaining columns:\n",
      "['_id', 'AREA_ID', 'AREA_SHORT_CODE', 'AREA_LONG_CODE', 'AREA_NAME', 'CLASSIFICATION', 'OBJECTID', 'geometry']\n"
     ]
    }
   ],
   "source": [
    "# List of columns to remove\n",
    "columns_to_remove_neighbourhoods = [\n",
    "    'AREA_ATTR_ID', 'PARENT_AREA_ID', 'CLASSIFICATION_CODE', 'AREA_DESC'\n",
    "]\n",
    "\n",
    "# Check if the Neighbourhoods DataFrame exists in the dictionary\n",
    "neighbourhoods_df_name = \"Neighbourhoods Neighbourhoods - 4326\"\n",
    "if neighbourhoods_df_name in dataframes:\n",
    "    neighbourhoods_df = dataframes[neighbourhoods_df_name]\n",
    "    \n",
    "    # Drop the specified columns\n",
    "    neighbourhoods_df_cleaned = neighbourhoods_df.drop(columns=columns_to_remove_neighbourhoods, errors='ignore')\n",
    "    \n",
    "    # Update the DataFrame in the dictionary\n",
    "    dataframes[neighbourhoods_df_name] = neighbourhoods_df_cleaned\n",
    "    \n",
    "    print(f\"Columns removed. Updated shape: {neighbourhoods_df_cleaned.shape}\")\n",
    "    print(\"Remaining columns:\")\n",
    "    print(neighbourhoods_df_cleaned.columns.tolist())\n",
    "else:\n",
    "    print(f\"DataFrame '{neighbourhoods_df_name}' not found.\")"
   ]
  },
  {
   "cell_type": "markdown",
   "id": "a7f5a086",
   "metadata": {},
   "source": [
    "Next need to check if any information is missing."
   ]
  },
  {
   "cell_type": "code",
   "execution_count": 8,
   "id": "df32dbf1",
   "metadata": {},
   "outputs": [
    {
     "name": "stdout",
     "output_type": "stream",
     "text": [
      "No missing values found in the Neighbourhoods DataFrame.\n"
     ]
    }
   ],
   "source": [
    "# Check for missing values in the Neighbourhoods DataFrame\n",
    "if neighbourhoods_df_name in dataframes:\n",
    "    neighbourhoods_df_cleaned = dataframes[neighbourhoods_df_name]\n",
    "    \n",
    "    # Get a summary of missing values\n",
    "    missing_summary = neighbourhoods_df_cleaned.isnull().sum()\n",
    "    missing_info = missing_summary[missing_summary > 0]\n",
    "    \n",
    "    if missing_info.empty:\n",
    "        print(\"No missing values found in the Neighbourhoods DataFrame.\")\n",
    "    else:\n",
    "        print(\"Missing values found in the Neighbourhoods DataFrame:\")\n",
    "        print(missing_info)\n",
    "else:\n",
    "    print(f\"DataFrame '{neighbourhoods_df_name}' not found.\")"
   ]
  },
  {
   "cell_type": "markdown",
   "id": "0323e06e",
   "metadata": {},
   "source": [
    "Now need remove rows with missing data."
   ]
  },
  {
   "cell_type": "code",
   "execution_count": 9,
   "id": "617b1e71",
   "metadata": {},
   "outputs": [
    {
     "name": "stdout",
     "output_type": "stream",
     "text": [
      "Rows with missing data removed. New shape: (158, 8)\n"
     ]
    }
   ],
   "source": [
    "# Remove rows with missing data from the Neighbourhoods DataFrame\n",
    "if neighbourhoods_df_name in dataframes:\n",
    "    neighbourhoods_df_cleaned = dataframes[neighbourhoods_df_name]\n",
    "    \n",
    "    # Drop rows with missing values\n",
    "    neighbourhoods_df_cleaned = neighbourhoods_df_cleaned.dropna()\n",
    "    \n",
    "    # Update the DataFrame in the dictionary\n",
    "    dataframes[neighbourhoods_df_name] = neighbourhoods_df_cleaned\n",
    "    \n",
    "    print(f\"Rows with missing data removed. New shape: {neighbourhoods_df_cleaned.shape}\")\n",
    "else:\n",
    "    print(f\"DataFrame '{neighbourhoods_df_name}' not found.\")"
   ]
  },
  {
   "cell_type": "markdown",
   "id": "4831024f",
   "metadata": {},
   "source": [
    "Here, we want to see how we can merge the dataframes. "
   ]
  },
  {
   "cell_type": "markdown",
   "id": "e4769e51",
   "metadata": {},
   "source": [
    "# Dataframe 3 - Neighbourhood Profiles"
   ]
  },
  {
   "cell_type": "markdown",
   "id": "2b7c86a1",
   "metadata": {},
   "source": [
    "Let's prepare another dataframe with Neighbourhood Profiles information. Let's review the file and see what information it offers to us. Let's take a look at list of columnts and see if all necessary for our analysis."
   ]
  },
  {
   "cell_type": "code",
   "execution_count": 4,
   "id": "0c1b814f",
   "metadata": {},
   "outputs": [
    {
     "name": "stdout",
     "output_type": "stream",
     "text": [
      "Initial size of the DataFrame: (2383, 146)\n",
      "\n",
      "Head of the DataFrame:\n",
      "   _id                   Category                      Topic  \\\n",
      "0    1  Neighbourhood Information  Neighbourhood Information   \n",
      "1    2  Neighbourhood Information  Neighbourhood Information   \n",
      "2    3                 Population   Population and dwellings   \n",
      "3    4                 Population   Population and dwellings   \n",
      "4    5                 Population   Population and dwellings   \n",
      "\n",
      "                      Data Source               Characteristic  \\\n",
      "0                 City of Toronto         Neighbourhood Number   \n",
      "1                 City of Toronto         TSNS2020 Designation   \n",
      "2  Census Profile 98-316-X2016001             Population, 2016   \n",
      "3  Census Profile 98-316-X2016001             Population, 2011   \n",
      "4  Census Profile 98-316-X2016001  Population Change 2011-2016   \n",
      "\n",
      "  City of Toronto Agincourt North Agincourt South-Malvern West  \\\n",
      "0             NaN             129                          128   \n",
      "1             NaN  No Designation               No Designation   \n",
      "2       2,731,571          29,113                       23,757   \n",
      "3       2,615,060          30,279                       21,988   \n",
      "4           4.50%          -3.90%                        8.00%   \n",
      "\n",
      "        Alderwood           Annex  ... Willowdale West  \\\n",
      "0              20              95  ...              37   \n",
      "1  No Designation  No Designation  ...  No Designation   \n",
      "2          12,054          30,526  ...          16,936   \n",
      "3          11,904          29,177  ...          15,004   \n",
      "4           1.30%           4.60%  ...          12.90%   \n",
      "\n",
      "  Willowridge-Martingrove-Richview  Woburn Woodbine Corridor Woodbine-Lumsden  \\\n",
      "0                                7     137                64               60   \n",
      "1                   No Designation     NIA    No Designation   No Designation   \n",
      "2                           22,156  53,485            12,541            7,865   \n",
      "3                           21,343  53,350            11,703            7,826   \n",
      "4                            3.80%   0.30%             7.20%            0.50%   \n",
      "\n",
      "         Wychwood  Yonge-Eglinton  Yonge-St.Clair York University Heights  \\\n",
      "0              94             100              97                      27   \n",
      "1  No Designation  No Designation  No Designation                     NIA   \n",
      "2          14,349          11,817          12,528                  27,593   \n",
      "3          13,986          10,578          11,652                  27,713   \n",
      "4           2.60%          11.70%           7.50%                  -0.40%   \n",
      "\n",
      "       Yorkdale-Glen Park  \n",
      "0                      31  \n",
      "1  Emerging Neighbourhood  \n",
      "2                  14,804  \n",
      "3                  14,687  \n",
      "4                   0.80%  \n",
      "\n",
      "[5 rows x 146 columns]\n",
      "\n",
      "Info of the DataFrame:\n",
      "<class 'pandas.core.frame.DataFrame'>\n",
      "RangeIndex: 2383 entries, 0 to 2382\n",
      "Columns: 146 entries, _id to Yorkdale-Glen Park\n",
      "dtypes: int64(1), object(145)\n",
      "memory usage: 2.7+ MB\n"
     ]
    }
   ],
   "source": [
    "# Display the head, size, and info for the Neighbourhood Profiles DataFrame\n",
    "neighbourhood_profiles_df_name = \"Neighbourhood Profiles Neighbourhood-Profiles-2016-140-Model\"\n",
    "\n",
    "if neighbourhood_profiles_df_name in dataframes:\n",
    "    neighbourhood_profiles_df = dataframes[neighbourhood_profiles_df_name]\n",
    "    \n",
    "    # Display the size of the DataFrame\n",
    "    print(f\"Initial size of the DataFrame: {neighbourhood_profiles_df.shape}\")\n",
    "    \n",
    "    # Display head\n",
    "    print(\"\\nHead of the DataFrame:\")\n",
    "    print(neighbourhood_profiles_df.head())\n",
    "    \n",
    "    # Display info\n",
    "    print(\"\\nInfo of the DataFrame:\")\n",
    "    neighbourhood_profiles_df.info()\n",
    "else:\n",
    "    print(f\"DataFrame '{neighbourhood_profiles_df_name}' not found.\")"
   ]
  },
  {
   "cell_type": "markdown",
   "id": "98398ead",
   "metadata": {},
   "source": [
    "The dataframe is very large and perhaps we do not need every bit of information available in there for our analysis. Now we need to remove unecessary information from it. Lets remove all entreies related to the \"language\", \"Immigration and citizenship\", \"Visible minority\", \"Mobility\", \"Labour\", \"Ethnic origin\", \"Journey to work\", \"Families, households and marital status\" and \"Housing\" under Category."
   ]
  },
  {
   "cell_type": "code",
   "execution_count": 5,
   "id": "62ae3d75",
   "metadata": {},
   "outputs": [
    {
     "name": "stdout",
     "output_type": "stream",
     "text": [
      "After removing unnecessary categories and families-related entries: (402, 146)\n"
     ]
    }
   ],
   "source": [
    "# Step 1 Remove unnecessary entries\n",
    "if \"Category\" in neighbourhood_profiles_df.columns:\n",
    "    # Combine patterns for unnecessary categories\n",
    "    patterns = r\"language|education|immigration and citizenship|visible minority|mobility|housing|labour|ethnic origin|journey to work|families|households|marital status\"\n",
    "    \n",
    "    # Filter out rows matching the combined patterns\n",
    "    filtered_profiles_df = neighbourhood_profiles_df[\n",
    "        ~neighbourhood_profiles_df[\"Category\"].str.contains(patterns, case=False, na=False)\n",
    "    ]\n",
    "    print(f\"After removing unnecessary categories and families-related entries: {filtered_profiles_df.shape}\")\n",
    "else:\n",
    "    print(\"'Category' column not found for filtering.\")"
   ]
  },
  {
   "cell_type": "markdown",
   "id": "c6ddd51e",
   "metadata": {},
   "source": [
    "Now, we do not need different different information on population age groups, so we can drop all entries with the exception of population status in 2016 across all neighbourhoods. "
   ]
  },
  {
   "cell_type": "code",
   "execution_count": 6,
   "id": "4ae34170",
   "metadata": {},
   "outputs": [
    {
     "name": "stdout",
     "output_type": "stream",
     "text": [
      "After keeping only 'Population, 2016': (348, 146)\n"
     ]
    }
   ],
   "source": [
    "# Step 2: Keep only 'Population, 2016'\n",
    "filtered_profiles_df = filtered_profiles_df[\n",
    "        ~((filtered_profiles_df[\"Category\"] == \"Population\") &\n",
    "          (filtered_profiles_df[\"Characteristic\"] != \"Population, 2016\"))\n",
    "    ]\n",
    "print(f\"After keeping only 'Population, 2016': {filtered_profiles_df.shape}\")"
   ]
  },
  {
   "cell_type": "markdown",
   "id": "da22651a",
   "metadata": {},
   "source": [
    "For entries under Aboriginal peoples we are only interested in the one with Charecteristics Aboriginal identity. The rest of them can be removed. "
   ]
  },
  {
   "cell_type": "code",
   "execution_count": 7,
   "id": "c65f6b95",
   "metadata": {},
   "outputs": [
    {
     "name": "stdout",
     "output_type": "stream",
     "text": [
      "After keeping only 'Aboriginal identity': (314, 146)\n"
     ]
    }
   ],
   "source": [
    " # Step 3: Keep only \"Aboriginal identity\"\n",
    "filtered_profiles_df = filtered_profiles_df[\n",
    "        ~((filtered_profiles_df[\"Category\"] == \"Aboriginal peoples\") &\n",
    "          (filtered_profiles_df[\"Characteristic\"] != \"Aboriginal identity\"))\n",
    "    ]\n",
    "print(f\"After keeping only 'Aboriginal identity': {filtered_profiles_df.shape}\")"
   ]
  },
  {
   "cell_type": "markdown",
   "id": "b627f7ce",
   "metadata": {},
   "source": [
    "Next, we start looking through different information on incomes in different neighbourhoods. For the purpose of our analysis we do not need entries related to Low Income and and Income of economic families in 2015 under Topic."
   ]
  },
  {
   "cell_type": "code",
   "execution_count": 8,
   "id": "e295da40",
   "metadata": {},
   "outputs": [
    {
     "name": "stdout",
     "output_type": "stream",
     "text": [
      "After removing specific income topics: (245, 146)\n"
     ]
    }
   ],
   "source": [
    "# Step 4: Remove specific income topics\n",
    "filtered_profiles_df = filtered_profiles_df[\n",
    "        ~filtered_profiles_df[\"Topic\"].str.contains(\n",
    "            \"Income of economic families in 2015|Low income in 2015\", case=False, na=False\n",
    "        )\n",
    "    ]\n",
    "print(f\"After removing specific income topics: {filtered_profiles_df.shape}\")"
   ]
  },
  {
   "cell_type": "markdown",
   "id": "c679ef2e",
   "metadata": {},
   "source": [
    "Now, we want to remove entries from Category of Income with topic \"\"Income sources\" and \"Income taxes\"."
   ]
  },
  {
   "cell_type": "code",
   "execution_count": 9,
   "id": "27c98b84",
   "metadata": {},
   "outputs": [
    {
     "name": "stdout",
     "output_type": "stream",
     "text": [
      "After removing 'Income sources' and 'Income taxes' under 'Income' category: (142, 146)\n"
     ]
    }
   ],
   "source": [
    "# Step 5: Remove entries under 'Income' with 'Income sources' or 'Income taxes'\n",
    "if \"Category\" in filtered_profiles_df.columns and \"Topic\" in filtered_profiles_df.columns:\n",
    "    filtered_profiles_df = filtered_profiles_df[\n",
    "        ~((filtered_profiles_df[\"Category\"] == \"Income\") & \n",
    "          (filtered_profiles_df[\"Topic\"].isin([\"Income sources\", \"Income taxes\"])))\n",
    "    ]\n",
    "    print(f\"After removing 'Income sources' and 'Income taxes' under 'Income' category: {filtered_profiles_df.shape}\")\n",
    "else:\n",
    "    print(\"'Category' or 'Topic' column not found in the DataFrame.\")"
   ]
  },
  {
   "cell_type": "markdown",
   "id": "4027cc55",
   "metadata": {},
   "source": [
    "Let's keep only household incomes in our dataframe. "
   ]
  },
  {
   "cell_type": "code",
   "execution_count": 10,
   "id": "d6c7d391",
   "metadata": {},
   "outputs": [
    {
     "name": "stdout",
     "output_type": "stream",
     "text": [
      "After keeping only household incomes: (62, 146)\n"
     ]
    }
   ],
   "source": [
    "# Step 6: Keep only household incomes\n",
    "filtered_profiles_df = filtered_profiles_df[\n",
    "        ~((filtered_profiles_df[\"Category\"] == \"Income\") &\n",
    "          (filtered_profiles_df[\"Topic\"] == \"Income of individuals in 2015\"))\n",
    "    ]\n",
    "print(f\"After keeping only household incomes: {filtered_profiles_df.shape}\")"
   ]
  },
  {
   "cell_type": "markdown",
   "id": "2a5c30fd",
   "metadata": {},
   "source": [
    "After reviewing a dataframe, we can see that there are still a lot of data entries income related. We are particularly interested in incore ranges under \"Charasteristic\". Therefore, let's remove all entries under Income \"Category\" that do not have a range in \"Characteristic\"."
   ]
  },
  {
   "cell_type": "code",
   "execution_count": 11,
   "id": "6470cea9",
   "metadata": {},
   "outputs": [
    {
     "name": "stdout",
     "output_type": "stream",
     "text": [
      "After retaining valid income ranges: (40, 146)\n"
     ]
    }
   ],
   "source": [
    "# Step 7: Retain rows with valid income ranges\n",
    "filtered_profiles_df = filtered_profiles_df[\n",
    "        ~((filtered_profiles_df[\"Category\"] == \"Income\") &\n",
    "          ~filtered_profiles_df[\"Characteristic\"].str.contains(\n",
    "              r'\\$[\\d,]+ to \\$[\\d,]+|^Under \\$[\\d,]+|and over$', na=False))\n",
    "    ]\n",
    "print(f\"After retaining valid income ranges: {filtered_profiles_df.shape}\")"
   ]
  },
  {
   "cell_type": "markdown",
   "id": "915b0683",
   "metadata": {},
   "source": [
    "Next, we want to get rid of '  $100,000 and over' since it is controdicting other values."
   ]
  },
  {
   "cell_type": "code",
   "execution_count": 12,
   "id": "8f835b73",
   "metadata": {},
   "outputs": [
    {
     "name": "stdout",
     "output_type": "stream",
     "text": [
      "After removing '$100,000 and over': (38, 146)\n"
     ]
    }
   ],
   "source": [
    "# Step 8: Remove \"$100,000 and over\"\n",
    "if \"Characteristic\" in filtered_profiles_df.columns:\n",
    "    # Strip any leading/trailing spaces from the Characteristic column (common issue)\n",
    "    filtered_profiles_df[\"Characteristic\"] = filtered_profiles_df[\"Characteristic\"].str.strip()\n",
    "\n",
    "    # Remove rows where \"Characteristic\" is \"$100,000 and over\"\n",
    "    filtered_profiles_df = filtered_profiles_df[\n",
    "        filtered_profiles_df[\"Characteristic\"] != \"$100,000 and over\"\n",
    "    ]\n",
    "    print(f\"After removing '$100,000 and over': {filtered_profiles_df.shape}\")\n",
    "else:\n",
    "    print(\"Column 'Characteristic' not found in the DataFrame.\")"
   ]
  },
  {
   "cell_type": "code",
   "execution_count": 20,
   "id": "c6fb8bf3",
   "metadata": {},
   "outputs": [
    {
     "name": "stdout",
     "output_type": "stream",
     "text": [
      "DataFrame has been saved as 'filtered_profiles.csv'.\n"
     ]
    }
   ],
   "source": [
    "# Save the current DataFrame to a CSV file\n",
    "filtered_profiles_df.to_csv(\"filtered_profiles.csv\", index=False)\n",
    "\n",
    "print(\"DataFrame has been saved as 'filtered_profiles.csv'.\")"
   ]
  },
  {
   "cell_type": "markdown",
   "id": "86154f05",
   "metadata": {},
   "source": [
    "Now, we need to take care of the duplicating ranges by adding values together:"
   ]
  },
  {
   "cell_type": "code",
   "execution_count": 20,
   "id": "5b3cbfd9",
   "metadata": {},
   "outputs": [
    {
     "name": "stdout",
     "output_type": "stream",
     "text": [
      "After grouping duplicate income ranges: (20, 145)\n"
     ]
    }
   ],
   "source": [
    "# Step 9: Handle duplicating income ranges by summing values across neighborhoods\n",
    "# Removing commas and converting columns to numeric if possible\n",
    "filtered_profiles_cleaned = filtered_profiles_df.copy()\n",
    "\n",
    "# Assuming columns from index 5 onwards are neighborhoods (adjust index if necessary)\n",
    "for col in filtered_profiles_cleaned.columns[5:]:\n",
    "    filtered_profiles_cleaned[col] = (\n",
    "        filtered_profiles_cleaned[col]\n",
    "        .replace(\",\", \"\", regex=True)  # Remove commas\n",
    "        .replace(\" \", \"\", regex=True)  # Remove spaces\n",
    "        .apply(pd.to_numeric, errors=\"coerce\")  # Convert to numeric, coerce errors\n",
    "    )\n",
    "\n",
    "# Check again for numeric columns after cleaning\n",
    "numeric_columns = filtered_profiles_cleaned.select_dtypes(include=[\"number\"]).columns\n",
    "\n",
    "# Aggregate only if numeric columns exist\n",
    "if numeric_columns.any():\n",
    "    # Filter for Income category\n",
    "    income_df = filtered_profiles_cleaned[filtered_profiles_cleaned[\"Category\"] == \"Income\"]\n",
    "\n",
    "    # Group by 'Characteristic' and sum numeric columns\n",
    "    grouped_income_df = income_df.groupby(\"Characteristic\", as_index=False)[numeric_columns].sum()\n",
    "\n",
    "    # Add back static columns like \"Category\" and \"Topic\"\n",
    "    grouped_income_df[\"Category\"] = \"Income\"\n",
    "    if \"Topic\" in income_df.columns:\n",
    "        grouped_income_df[\"Topic\"] = income_df[\"Topic\"].iloc[0]\n",
    "\n",
    "    # Replace original Income rows in the DataFrame with the aggregated data\n",
    "    non_income_df = filtered_profiles_cleaned[filtered_profiles_cleaned[\"Category\"] != \"Income\"]\n",
    "    filtered_profiles_df = pd.concat([non_income_df, grouped_income_df], ignore_index=True)\n",
    "\n",
    "    # Display the result\n",
    "    print(f\"After grouping duplicate income ranges: {final_df.shape}\")\n",
    "else:\n",
    "    print(\"No numeric columns found even after cleaning. Check your data formatting.\")\n"
   ]
  },
  {
   "cell_type": "markdown",
   "id": "36d2c692",
   "metadata": {},
   "source": [
    "Finally, we just need to remove some miscilaneous items that would not be helpful in our analysis. "
   ]
  },
  {
   "cell_type": "code",
   "execution_count": 21,
   "id": "6982f495",
   "metadata": {},
   "outputs": [
    {
     "name": "stdout",
     "output_type": "stream",
     "text": [
      "Size of the DataFrame after removing specific rows and columns: (20, 145)\n"
     ]
    }
   ],
   "source": [
    "# Remove the specific row containing \"Neighbourhood Information\" and \"TSNS2020 Designation\"\n",
    "filtered_profiles_df = filtered_profiles_df[\n",
    "    ~((filtered_profiles_df.iloc[:, 1] == \"Neighbourhood Information\") &\n",
    "      (filtered_profiles_df.iloc[:, 4] == \"TSNS2020 Designation\"))\n",
    "]\n",
    "\n",
    "# Drop the 'Data Source' column if it exists\n",
    "if \"Data Source\" in filtered_profiles_df.columns:\n",
    "    filtered_profiles_df = filtered_profiles_df.drop(columns=[\"Data Source\"])\n",
    "    print(\"The 'Data Source' column has been removed.\")\n",
    "\n",
    "# Display the size of the DataFrame after these changes\n",
    "print(f\"Size of the DataFrame after removing specific rows and columns: {filtered_profiles_df.shape}\")"
   ]
  },
  {
   "cell_type": "code",
   "execution_count": 22,
   "id": "a1fa6d6b",
   "metadata": {},
   "outputs": [
    {
     "name": "stdout",
     "output_type": "stream",
     "text": [
      "     _id                   Category                         Topic  \\\n",
      "0      1  Neighbourhood Information     Neighbourhood Information   \n",
      "1      3                 Population      Population and dwellings   \n",
      "2   2099                     Income  Income of households in 2015   \n",
      "3   2101                     Income  Income of households in 2015   \n",
      "4   2109                     Income  Income of households in 2015   \n",
      "5   2081                     Income  Income of households in 2015   \n",
      "6   1343                     Income  Income of households in 2015   \n",
      "7   2102                     Income  Income of households in 2015   \n",
      "8   1054                     Income  Income of households in 2015   \n",
      "9   2104                     Income  Income of households in 2015   \n",
      "10  2106                     Income  Income of households in 2015   \n",
      "11  2108                     Income  Income of households in 2015   \n",
      "12  2110                     Income  Income of households in 2015   \n",
      "13  2112                     Income  Income of households in 2015   \n",
      "14  2097                     Income  Income of households in 2015   \n",
      "15  2114                     Income  Income of households in 2015   \n",
      "16  2116                     Income  Income of households in 2015   \n",
      "17  2118                     Income  Income of households in 2015   \n",
      "18  2120                     Income  Income of households in 2015   \n",
      "19  2122                     Income  Income of households in 2015   \n",
      "\n",
      "          Characteristic City of Toronto  Agincourt North  \\\n",
      "0   Neighbourhood Number             NaN              129   \n",
      "1       Population, 2016       2,731,571            29113   \n",
      "2     $10,000 to $14,999             NaN              325   \n",
      "3   $100,000 to $124,999             NaN             1890   \n",
      "4   $125,000 to $149,999             NaN             1105   \n",
      "5     $15,000 to $19,999             NaN              900   \n",
      "6   $150,000 to $199,999             NaN             1105   \n",
      "7     $20,000 to $24,999             NaN              660   \n",
      "8      $200,000 and over             NaN              325   \n",
      "9     $25,000 to $29,999             NaN             1105   \n",
      "10    $30,000 to $34,999             NaN              870   \n",
      "11    $35,000 to $39,999             NaN              965   \n",
      "12    $40,000 to $44,999             NaN              875   \n",
      "13    $45,000 to $49,999             NaN              910   \n",
      "14      $5,000 to $9,999             NaN              210   \n",
      "15    $50,000 to $59,999             NaN             1730   \n",
      "16    $60,000 to $69,999             NaN             1455   \n",
      "17    $70,000 to $79,999             NaN             1330   \n",
      "18    $80,000 to $89,999             NaN             1165   \n",
      "19    $90,000 to $99,999             NaN             1015   \n",
      "\n",
      "    Agincourt South-Malvern West  Alderwood  Annex  Banbury-Don Mills  ...  \\\n",
      "0                            128         20     95                 42  ...   \n",
      "1                          23757      12054  30526              27695  ...   \n",
      "2                            400        160   1315                480  ...   \n",
      "3                           1490       1125   2425               2165  ...   \n",
      "4                            845        925   1685               1440  ...   \n",
      "5                            540        175   1525                835  ...   \n",
      "6                            900       1030   3895               2850  ...   \n",
      "7                            665        305   1300                825  ...   \n",
      "8                            285        360   2670               1750  ...   \n",
      "9                            815        325   1155                940  ...   \n",
      "10                           765        325   1155                905  ...   \n",
      "11                           835        380   1230               1045  ...   \n",
      "12                           840        345   1185               1015  ...   \n",
      "13                           860        390   1170                975  ...   \n",
      "14                           270         80    970                305  ...   \n",
      "15                          1630        725   2160               2110  ...   \n",
      "16                          1400        655   1960               1885  ...   \n",
      "17                          1225        685   1615               1570  ...   \n",
      "18                          1010        585   1465               1345  ...   \n",
      "19                           810        515   1225               1200  ...   \n",
      "\n",
      "    Willowdale West  Willowridge-Martingrove-Richview  Woburn  \\\n",
      "0                37                                 7     137   \n",
      "1             16936                             22156   53485   \n",
      "2               515                               310    1370   \n",
      "3              1265                              1755    3145   \n",
      "4               875                              1170    1740   \n",
      "5              1215                               600    2330   \n",
      "6              1330                              1580    1510   \n",
      "7               695                               770    1730   \n",
      "8               640                               655     430   \n",
      "9               645                               825    1980   \n",
      "10              600                               755    1945   \n",
      "11              555                               825    2010   \n",
      "12              565                               835    2030   \n",
      "13              535                               760    1835   \n",
      "14              440                               165     925   \n",
      "15              930                              1435    3630   \n",
      "16              875                              1295    2950   \n",
      "17              840                              1155    2555   \n",
      "18              795                              1065    2140   \n",
      "19              650                               870    1715   \n",
      "\n",
      "    Woodbine Corridor  Woodbine-Lumsden  Wychwood  Yonge-Eglinton  \\\n",
      "0                  64                60        94             100   \n",
      "1               12541              7865     14349           11817   \n",
      "2                 525               215       370             285   \n",
      "3                1080               775       950             925   \n",
      "4                 910               580       680             670   \n",
      "5                 640               395       800             365   \n",
      "6                1320               625      1165            1565   \n",
      "7                 570               325       705             385   \n",
      "8                 610               210       610            1110   \n",
      "9                 415               280       515             385   \n",
      "10                445               250       490             420   \n",
      "11                380               270       515             465   \n",
      "12                410               280       505             435   \n",
      "13                390               255       450             420   \n",
      "14                250               125       245             210   \n",
      "15                655               535       900             845   \n",
      "16                615               440       790             790   \n",
      "17                520               445       695             670   \n",
      "18                555               430       605             530   \n",
      "19                485               380       525             485   \n",
      "\n",
      "    Yonge-St.Clair  York University Heights  Yorkdale-Glen Park  \n",
      "0               97                       27                  31  \n",
      "1            12528                    27593               14804  \n",
      "2              375                      690                 240  \n",
      "3             1150                     1525                 985  \n",
      "4              785                      845                 625  \n",
      "5              440                     1060                 445  \n",
      "6             1855                      765                 815  \n",
      "7              480                     1080                 520  \n",
      "8             1380                      195                 325  \n",
      "9              470                     1105                 515  \n",
      "10             495                     1240                 590  \n",
      "11             545                     1215                 610  \n",
      "12             590                     1165                 585  \n",
      "13             575                     1095                 515  \n",
      "14             245                      450                 135  \n",
      "15            1130                     2015                 970  \n",
      "16             920                     1715                 815  \n",
      "17             865                     1330                 725  \n",
      "18             675                     1180                 585  \n",
      "19             630                      950                 505  \n",
      "\n",
      "[20 rows x 145 columns]\n"
     ]
    }
   ],
   "source": [
    "print(filtered_profiles_df.head(20))"
   ]
  },
  {
   "cell_type": "markdown",
   "id": "73b2697a",
   "metadata": {},
   "source": [
    "Now, let's save our dataframe prior to doing additional manipulations. "
   ]
  },
  {
   "cell_type": "code",
   "execution_count": 27,
   "id": "86c82bc2",
   "metadata": {},
   "outputs": [
    {
     "name": "stdout",
     "output_type": "stream",
     "text": [
      "The final filtered Neighbourhood Profiles DataFrame has been saved as 'filtered_neighbourhood_profiles.csv'.\n"
     ]
    }
   ],
   "source": [
    "# Check if the DataFrame exists\n",
    "if \"filtered_profiles_df\" in locals():  # Replace \"filtered_profiles_df\" with the actual variable name if different\n",
    "    # Save the final filtered DataFrame\n",
    "    filtered_profiles_df.to_csv(\"filtered_neighbourhood_profiles.csv\", index=False)\n",
    "    print(\"The final filtered Neighbourhood Profiles DataFrame has been saved as 'filtered_neighbourhood_profiles.csv'.\")\n",
    "else:\n",
    "    print(f\"DataFrame 'filtered_profiles_df' not found.\")\n"
   ]
  },
  {
   "cell_type": "markdown",
   "id": "885f6b7d",
   "metadata": {},
   "source": [
    "Final manipulation we want to do to our dataframe is to pivot it so it will be easier to merge in the future."
   ]
  },
  {
   "cell_type": "code",
   "execution_count": 28,
   "id": "d21d2456",
   "metadata": {},
   "outputs": [
    {
     "name": "stdout",
     "output_type": "stream",
     "text": [
      "The pivoted Neighbourhood Profiles DataFrame has been saved as 'pivoted_neighbourhood_profiles.csv'.\n"
     ]
    }
   ],
   "source": [
    "# Pivot the DataFrame by transposing (switching rows and columns)\n",
    "pivoted_df = filtered_profiles_df.T\n",
    "\n",
    "# Save the pivoted DataFrame\n",
    "pivoted_df.to_csv(\"pivoted_neighbourhood_profiles.csv\", index=True)\n",
    "print(\"The pivoted Neighbourhood Profiles DataFrame has been saved as 'pivoted_neighbourhood_profiles.csv'.\")"
   ]
  },
  {
   "cell_type": "markdown",
   "id": "0ddbfe09",
   "metadata": {},
   "source": [
    "# Dataframe 4 - Parks and Recreational Facilities"
   ]
  },
  {
   "cell_type": "markdown",
   "id": "81376092",
   "metadata": {},
   "source": [
    "Let's prepare another dataframe with Parks and Recreational Facilities information. Let's review the file and see what information it offers to us. Let's take a look at list of columnts and see if all necessary for our analysis."
   ]
  },
  {
   "cell_type": "code",
   "execution_count": 29,
   "id": "ed014e7f",
   "metadata": {},
   "outputs": [
    {
     "name": "stdout",
     "output_type": "stream",
     "text": [
      "List of columns in Parks and Recreational Facilities DataFrame:\n",
      "['_id', 'LOCATIONID', 'ASSET_ID', 'ASSET_NAME', 'TYPE', 'AMENITIES', 'ADDRESS', 'PHONE', 'URL', 'geometry']\n"
     ]
    }
   ],
   "source": [
    "# Display the list of columns for the Parks and Recreational Facilities DataFrame\n",
    "parks_df_name = \"Parks And Recreational Facilities Parks And Recreation Facilities - 4326\"\n",
    "if parks_df_name in dataframes:\n",
    "    parks_df = dataframes[parks_df_name]\n",
    "    print(\"List of columns in Parks and Recreational Facilities DataFrame:\")\n",
    "    print(parks_df.columns.tolist())\n",
    "else:\n",
    "    print(f\"DataFrame '{parks_df_name}' not found.\")"
   ]
  },
  {
   "cell_type": "markdown",
   "id": "7f3f56fe",
   "metadata": {},
   "source": [
    "We do not need following columns and they can be removed from or dataframe: phone and url. Let's remove them from our dataframe."
   ]
  },
  {
   "cell_type": "code",
   "execution_count": 30,
   "id": "675b5b0f",
   "metadata": {},
   "outputs": [
    {
     "name": "stdout",
     "output_type": "stream",
     "text": [
      "Unnecessary columns have been removed.\n",
      "Updated list of columns: ['_id', 'LOCATIONID', 'ASSET_ID', 'ASSET_NAME', 'TYPE', 'AMENITIES', 'ADDRESS', 'geometry']\n"
     ]
    }
   ],
   "source": [
    "# Step 1: Remove unnecessary columns 'PHONE' and 'URL'\n",
    "parks_df_name = \"Parks And Recreational Facilities Parks And Recreation Facilities - 4326\"\n",
    "\n",
    "if parks_df_name in dataframes:\n",
    "    parks_df = dataframes[parks_df_name]\n",
    "    \n",
    "    # Dropping the unnecessary columns\n",
    "    columns_to_remove = [\"PHONE\", \"URL\"]\n",
    "    parks_df = parks_df.drop(columns=columns_to_remove, errors=\"ignore\")\n",
    "    \n",
    "    print(\"Unnecessary columns have been removed.\")\n",
    "    print(f\"Updated list of columns: {parks_df.columns.tolist()}\")\n",
    "else:\n",
    "    print(f\"DataFrame '{parks_df_name}' not found.\")"
   ]
  },
  {
   "cell_type": "markdown",
   "id": "f5cd1333",
   "metadata": {},
   "source": [
    "Now, we need to check if dataframe has any missing values."
   ]
  },
  {
   "cell_type": "code",
   "execution_count": 31,
   "id": "89de0b61",
   "metadata": {},
   "outputs": [
    {
     "name": "stdout",
     "output_type": "stream",
     "text": [
      "Missing values in each column:\n",
      "_id           0\n",
      "LOCATIONID    0\n",
      "ASSET_ID      0\n",
      "ASSET_NAME    0\n",
      "TYPE          0\n",
      "AMENITIES     0\n",
      "ADDRESS       0\n",
      "PHONE         0\n",
      "URL           0\n",
      "geometry      0\n",
      "dtype: int64\n"
     ]
    }
   ],
   "source": [
    "# Step 2: Check for missing values in the Parks and Recreational Facilities DataFrame\n",
    "if parks_df_name in dataframes:\n",
    "    parks_df = dataframes[parks_df_name]\n",
    "\n",
    "    # Checking for missing values\n",
    "    missing_values = parks_df.isnull().sum()\n",
    "\n",
    "    print(\"Missing values in each column:\")\n",
    "    print(missing_values)\n",
    "else:\n",
    "    print(f\"DataFrame '{parks_df_name}' not found.\")"
   ]
  },
  {
   "cell_type": "markdown",
   "id": "55bd2c74",
   "metadata": {},
   "source": [
    "# Dataframe 5 - Schools"
   ]
  },
  {
   "cell_type": "markdown",
   "id": "95cc6798",
   "metadata": {},
   "source": [
    "Let's prepare another dataframe with Schools information. Let's review the file and see what information it offers to us. Let's take a look at list of columnts and see if all necessary for our analysis."
   ]
  },
  {
   "cell_type": "code",
   "execution_count": 32,
   "id": "31d3e8b0",
   "metadata": {},
   "outputs": [
    {
     "name": "stdout",
     "output_type": "stream",
     "text": [
      "List of columns in Schools DataFrame:\n",
      "['_id', 'OBJECTID', 'GEO_ID', 'NAME', 'SCHOOL_LEVEL', 'SCHOOL_TYPE', 'BOARD_NAME', 'SOURCE_ADDRESS', 'SCHOOL_TYPE_DESC', 'ADDRESS_POINT_ID', 'ADDRESS_NUMBER', 'LINEAR_NAME_FULL', 'ADDRESS_FULL', 'POSTAL_CODE', 'MUNICIPALITY', 'CITY', 'PLACE_NAME', 'GENERAL_USE_CODE', 'CENTRELINE_ID', 'LO_NUM', 'LO_NUM_SUF', 'HI_NUM', 'HI_NUM_SUF', 'LINEAR_NAME_ID', 'geometry']\n"
     ]
    }
   ],
   "source": [
    "# Display the list of columns for the Schools DataFrame\n",
    "schools_df_name = \"Schools School Locations-All Types Data - 4326\"\n",
    "if schools_df_name in dataframes:\n",
    "    schools_df = dataframes[schools_df_name]\n",
    "    print(\"List of columns in Schools DataFrame:\")\n",
    "    print(schools_df.columns.tolist())\n",
    "else:\n",
    "    print(f\"DataFrame '{schools_df_name}' not found.\")"
   ]
  },
  {
   "cell_type": "markdown",
   "id": "20745baf",
   "metadata": {},
   "source": [
    "We do not need following columns and they can be removed from or dataframe:school level, school type, school type desc, linear name full, general use code, lo num, lo mun suf, hi num, hi num suf, linera name id. Let's remove them from our dataframe."
   ]
  },
  {
   "cell_type": "code",
   "execution_count": 33,
   "id": "c08cb53e",
   "metadata": {
    "scrolled": true
   },
   "outputs": [
    {
     "name": "stdout",
     "output_type": "stream",
     "text": [
      "Unnecessary columns have been removed.\n",
      "Updated list of columns: ['_id', 'OBJECTID', 'GEO_ID', 'NAME', 'BOARD_NAME', 'SOURCE_ADDRESS', 'ADDRESS_POINT_ID', 'ADDRESS_NUMBER', 'ADDRESS_FULL', 'POSTAL_CODE', 'MUNICIPALITY', 'CITY', 'PLACE_NAME', 'CENTRELINE_ID', 'geometry']\n"
     ]
    }
   ],
   "source": [
    "# Step 1: Remove unnecessary columns from the Schools DataFrame\n",
    "schools_df_name = \"Schools School Locations-All Types Data - 4326\"\n",
    "\n",
    "if schools_df_name in dataframes:\n",
    "    schools_df = dataframes[schools_df_name]\n",
    "    \n",
    "    # List of columns to drop\n",
    "    columns_to_remove = [\n",
    "        'SCHOOL_LEVEL', 'SCHOOL_TYPE', 'SCHOOL_TYPE_DESC', \n",
    "        'LINEAR_NAME_FULL', 'GENERAL_USE_CODE', 'LO_NUM', \n",
    "        'LO_NUM_SUF', 'HI_NUM', 'HI_NUM_SUF', 'LINEAR_NAME_ID'\n",
    "    ]\n",
    "    \n",
    "    # Removing the columns\n",
    "    schools_df = schools_df.drop(columns=columns_to_remove, errors='ignore')\n",
    "    dataframes[schools_df_name] = schools_df  # Update the dataframe in the dataframes dictionary\n",
    "    \n",
    "    # Confirming changes\n",
    "    print(\"Unnecessary columns have been removed.\")\n",
    "    print(\"Updated list of columns:\", schools_df.columns.tolist())\n",
    "else:\n",
    "    print(f\"DataFrame '{schools_df_name}' not found.\")"
   ]
  },
  {
   "cell_type": "markdown",
   "id": "6050811e",
   "metadata": {},
   "source": [
    "Now, we need to check if dataframe has any missing values."
   ]
  },
  {
   "cell_type": "code",
   "execution_count": 34,
   "id": "08d9150d",
   "metadata": {},
   "outputs": [
    {
     "name": "stdout",
     "output_type": "stream",
     "text": [
      "Missing data in the Schools DataFrame:\n",
      "Series([], dtype: int64)\n",
      "\n",
      "Total missing values in the Schools DataFrame: 0\n"
     ]
    }
   ],
   "source": [
    "# Step 2: Check for missing data in the Schools DataFrame\n",
    "if schools_df_name in dataframes:\n",
    "    schools_df = dataframes[schools_df_name]\n",
    "    \n",
    "    # Check for missing values\n",
    "    missing_data = schools_df.isnull().sum()\n",
    "    print(\"Missing data in the Schools DataFrame:\")\n",
    "    print(missing_data[missing_data > 0])  # Display columns with missing values only\n",
    "    \n",
    "    # Summary of missing data\n",
    "    total_missing = missing_data.sum()\n",
    "    print(f\"\\nTotal missing values in the Schools DataFrame: {total_missing}\")\n",
    "else:\n",
    "    print(f\"DataFrame '{schools_df_name}' not found.\")"
   ]
  },
  {
   "cell_type": "markdown",
   "id": "95d9427f",
   "metadata": {},
   "source": [
    "# Now need to deal with Homless shelters file\n",
    "It needs to be extracted, read and prepared to be merged with the rest of the data."
   ]
  },
  {
   "cell_type": "code",
   "execution_count": 6,
   "id": "ee854555",
   "metadata": {},
   "outputs": [
    {
     "name": "stdout",
     "output_type": "stream",
     "text": [
      "Skipping non-ZIP file: Homeless_Shelters_drop-in-readme\n",
      "Extracted ZIP file: Homeless_Shelters_drop-in-wgs84\n",
      "<class 'geopandas.geodataframe.GeoDataFrame'>\n",
      "RangeIndex: 51 entries, 0 to 50\n",
      "Data columns (total 11 columns):\n",
      " #   Column      Non-Null Count  Dtype   \n",
      "---  ------      --------------  -----   \n",
      " 0   ADDRESS_PO  51 non-null     int32   \n",
      " 1   POSTAL_COD  49 non-null     object  \n",
      " 2   MUNICIPALI  51 non-null     object  \n",
      " 3   CITY        51 non-null     object  \n",
      " 4   CENTRELINE  51 non-null     int32   \n",
      " 5   OBJECTID    51 non-null     int64   \n",
      " 6   NAME        51 non-null     object  \n",
      " 7   ORGANIZATI  51 non-null     object  \n",
      " 8   FACILITY    51 non-null     object  \n",
      " 9   Address     51 non-null     object  \n",
      " 10  geometry    51 non-null     geometry\n",
      "dtypes: geometry(1), int32(2), int64(1), object(7)\n",
      "memory usage: 4.1+ KB\n",
      "None\n",
      "   ADDRESS_PO POSTAL_COD      MUNICIPALI     CITY  CENTRELINE  OBJECTID  \\\n",
      "0     2884346     M5C2H4  former TORONTO  Toronto     2884350        12   \n",
      "1     7641992     M5B2P3  former TORONTO  Toronto     7641989        35   \n",
      "2     4014968     M5A2G3  former TORONTO  Toronto     4014966       111   \n",
      "3     8292595     M4M1G5  former TORONTO  Toronto     8292593       121   \n",
      "4     5724486    M3L 1B2      NORTH YORK  Toronto      444991       127   \n",
      "\n",
      "                                               NAME  \\\n",
      "0                           Gateway Shelter Drop-In   \n",
      "1                            Covenant House Drop-In   \n",
      "2  Neighbourhood Information Post Self-Help Drop In   \n",
      "3                                 WoodGreen Drop-In   \n",
      "4                          COSTI North York Drop-In   \n",
      "\n",
      "                                  ORGANIZATI  \\\n",
      "0  Salvation Army Govering Council in Canada   \n",
      "1                             Covenant House   \n",
      "2             Neighbourhood Information Post   \n",
      "3               WoodGreen Community Services   \n",
      "4                   COSTI Immigrant Services   \n",
      "\n",
      "                           FACILITY                       Address  \\\n",
      "0    Salvation Army Gateway Shelter                 107 Jarvis St   \n",
      "1                    Covenant House               20 Gerrard St E   \n",
      "2  Parliament Street Public Library  269 Gerrard St E - 2nd Floor   \n",
      "3      WoodGreen Community Services                650 Queen St E   \n",
      "4                     Sheridan Mall       1700 Wilson Ave - # 114   \n",
      "\n",
      "                     geometry  \n",
      "0  POINT (-79.37248 43.65232)  \n",
      "1   POINT (-79.38144 43.6595)  \n",
      "2  POINT (-79.36796 43.66184)  \n",
      "3  POINT (-79.35205 43.65856)  \n",
      "4  POINT (-79.51253 43.72097)  \n"
     ]
    },
    {
     "data": {
      "image/png": "[encoded data removed]",
      "text/plain": [
       "<Figure size 1000x1000 with 1 Axes>"
      ]
     },
     "metadata": {},
     "output_type": "display_data"
    },
    {
     "name": "stdout",
     "output_type": "stream",
     "text": [
      "Skipping non-ZIP file: Homeless_Shelters_extracted\n"
     ]
    }
   ],
   "source": [
    "# Directory containing the dataset files\n",
    "output_dir = \"toronto_datasets_api\"\n",
    "\n",
    "# Locate the homeless shelters ZIP file\n",
    "shelters_files = [f for f in os.listdir(output_dir) if \"homeless_shelters\" in f.lower()]\n",
    "if not shelters_files:\n",
    "    raise FileNotFoundError(\"Homeless shelters file not found in the output directory.\")\n",
    "\n",
    "# Process each file\n",
    "for shelters_file in shelters_files:\n",
    "    shelters_file_path = os.path.join(output_dir, shelters_file)\n",
    "    \n",
    "    # If the file is a ZIP archive, extract it\n",
    "    if zipfile.is_zipfile(shelters_file_path):\n",
    "        try:\n",
    "            with zipfile.ZipFile(shelters_file_path, 'r') as zip_ref:\n",
    "                extract_dir = os.path.join(output_dir, \"homeless_shelters_extracted\")\n",
    "                zip_ref.extractall(extract_dir)\n",
    "            print(f\"Extracted ZIP file: {shelters_file}\")\n",
    "        except zipfile.BadZipFile:\n",
    "            print(f\"Skipping invalid ZIP file: {shelters_file}\")\n",
    "            continue\n",
    "\n",
    "        # Locate the shapefile inside the extracted contents\n",
    "        shapefile = [f for f in os.listdir(extract_dir) if f.endswith(\".shp\")]\n",
    "        if not shapefile:\n",
    "            print(\"No shapefile found in the extracted ZIP contents.\")\n",
    "            continue\n",
    "        shapefile_path = os.path.join(extract_dir, shapefile[0])\n",
    "\n",
    "    # If the file is not a ZIP archive, skip it\n",
    "    else:\n",
    "        print(f\"Skipping non-ZIP file: {shelters_file}\")\n",
    "        continue\n",
    "\n",
    "    # Read the shapefile into a GeoDataFrame\n",
    "    gdf = gpd.read_file(shapefile_path)\n",
    "\n",
    "    # Display basic information about the data\n",
    "    print(gdf.info())\n",
    "    print(gdf.head())\n",
    "\n",
    "    # Plot the GeoDataFrame to visualize the data\n",
    "    fig, ax = plt.subplots(figsize=(10, 10))\n",
    "    gdf.plot(ax=ax, color=\"blue\", edgecolor=\"black\", alpha=0.7)\n",
    "    ax.set_title(\"Homeless Shelters Locations\")\n",
    "    plt.show()   "
   ]
  },
  {
   "cell_type": "markdown",
   "id": "4620c6fa",
   "metadata": {},
   "source": [
    "We do not need all the information available in dataframe, therefore we will only keep 'FACILITY', 'Address', and 'geometry'. "
   ]
  },
  {
   "cell_type": "code",
   "execution_count": 8,
   "id": "c824faf8",
   "metadata": {},
   "outputs": [
    {
     "name": "stdout",
     "output_type": "stream",
     "text": [
      "                           FACILITY                       Address  \\\n",
      "0    Salvation Army Gateway Shelter                 107 Jarvis St   \n",
      "1                    Covenant House               20 Gerrard St E   \n",
      "2  Parliament Street Public Library  269 Gerrard St E - 2nd Floor   \n",
      "3      WoodGreen Community Services                650 Queen St E   \n",
      "4                     Sheridan Mall       1700 Wilson Ave - # 114   \n",
      "\n",
      "                     geometry  \n",
      "0  POINT (-79.37248 43.65232)  \n",
      "1   POINT (-79.38144 43.6595)  \n",
      "2  POINT (-79.36796 43.66184)  \n",
      "3  POINT (-79.35205 43.65856)  \n",
      "4  POINT (-79.51253 43.72097)  \n"
     ]
    },
    {
     "data": {
      "image/png": "[encoded data removed]",
      "text/plain": [
       "<Figure size 1000x1000 with 1 Axes>"
      ]
     },
     "metadata": {},
     "output_type": "display_data"
    }
   ],
   "source": [
    "# Filter the columns to keep only the specified ones\n",
    "filtered_gdf = gdf[['FACILITY', 'Address', 'geometry']]\n",
    "\n",
    "# Display the filtered GeoDataFrame\n",
    "print(filtered_gdf.head())\n",
    "\n",
    "# Save the streamlined GeoDataFrame to a new file (optional)\n",
    "output_filtered_file = os.path.join(output_dir, \"Homeless_Shelters_filtered.shp\")\n",
    "filtered_gdf.to_file(output_filtered_file)\n",
    "\n",
    "# Visualization (optional)\n",
    "fig, ax = plt.subplots(figsize=(10, 10))\n",
    "filtered_gdf.plot(ax=ax, color=\"blue\", edgecolor=\"black\", alpha=0.7)\n",
    "ax.set_title(\"Filtered Homeless Shelters Locations\")\n",
    "plt.show()"
   ]
  },
  {
   "cell_type": "markdown",
   "id": "e34531c5",
   "metadata": {},
   "source": [
    "Before finalizing our handelling of Homeless Shelter data, let's confirm that there are no values missing."
   ]
  },
  {
   "cell_type": "code",
   "execution_count": 11,
   "id": "d1b1eec1",
   "metadata": {},
   "outputs": [
    {
     "name": "stdout",
     "output_type": "stream",
     "text": [
      "Missing values per column:\n",
      "FACILITY    0\n",
      "Address     0\n",
      "geometry    0\n",
      "dtype: int64\n",
      "\n",
      "Percentage of missing values per column:\n",
      "FACILITY    0.0\n",
      "Address     0.0\n",
      "geometry    0.0\n",
      "dtype: float64\n",
      "\n",
      "Number of rows with missing values: 0\n"
     ]
    }
   ],
   "source": [
    "# Check for missing values in the filtered GeoDataFrame\n",
    "missing_info = filtered_gdf.isnull().sum()\n",
    "print(\"Missing values per column:\")\n",
    "print(missing_info)\n",
    "\n",
    "# Calculate percentage of missing data\n",
    "missing_percentage = (filtered_gdf.isnull().mean()) * 100\n",
    "print(\"\\nPercentage of missing values per column:\")\n",
    "print(missing_percentage)\n",
    "\n",
    "# Identify rows with missing values in any column\n",
    "rows_with_missing = filtered_gdf[filtered_gdf.isnull().any(axis=1)]\n",
    "print(f\"\\nNumber of rows with missing values: {len(rows_with_missing)}\")"
   ]
  },
  {
   "cell_type": "markdown",
   "id": "9ce2822f",
   "metadata": {},
   "source": [
    "# Now, it is time to merge the dataframes"
   ]
  },
  {
   "cell_type": "code",
   "execution_count": null,
   "id": "f3e245b6",
   "metadata": {},
   "outputs": [],
   "source": []
  }
 ],
 "metadata": {
  "kernelspec": {
   "display_name": "Python 3 (ipykernel)",
   "language": "python",
   "name": "python3"
  },
  "language_info": {
   "codemirror_mode": {
    "name": "ipython",
    "version": 3
   },
   "file_extension": ".py",
   "mimetype": "text/x-python",
   "name": "python",
   "nbconvert_exporter": "python",
   "pygments_lexer": "ipython3",
   "version": "3.11.4"
  }
 },
 "nbformat": 4,
 "nbformat_minor": 5
}
