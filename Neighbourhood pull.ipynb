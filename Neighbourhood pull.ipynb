{
 "cells": [
  {
   "cell_type": "markdown",
   "id": "63a2ec05",
   "metadata": {},
   "source": [
    "# Installs"
   ]
  },
  {
   "cell_type": "code",
   "execution_count": 1,
   "id": "139a17c7",
   "metadata": {
    "scrolled": true
   },
   "outputs": [],
   "source": [
    "#pip install requests #enable if necessary"
   ]
  },
  {
   "cell_type": "markdown",
   "id": "107e5ab4",
   "metadata": {},
   "source": [
    "# Import Libraries"
   ]
  },
  {
   "cell_type": "code",
   "execution_count": 2,
   "id": "ac13536c",
   "metadata": {},
   "outputs": [],
   "source": [
    "import requests\n",
    "import os\n",
    "import folium\n",
    "import zipfile\n",
    "import time\n",
    "import pandas as pd\n",
    "import numpy as np\n",
    "import geopandas as gpd\n",
    "import json\n",
    "from shapely.geometry import shape\n",
    "from IPython.display import IFrame\n",
    "from shapely.geometry import Point\n",
    "from geopy.geocoders import Nominatim\n",
    "from geopy.exc import GeocoderTimedOut\n",
    "import matplotlib.pyplot as plt\n",
    "from folium import Choropleth"
   ]
  },
  {
   "cell_type": "markdown",
   "id": "2faf97c3",
   "metadata": {},
   "source": [
    "# Connect to City of Toronto Database APIs"
   ]
  },
  {
   "cell_type": "markdown",
   "id": "aa1d002f",
   "metadata": {},
   "source": [
    "This part outlines how to connect to City of Toronto Open Database. It runs a function to fetch and save resources available in the datasets. Commented out code below grabs all information available. Aftre careful review of data available, second code below was modified to pull only selected files."
   ]
  },
  {
   "cell_type": "code",
   "execution_count": 3,
   "id": "aff71833",
   "metadata": {},
   "outputs": [],
   "source": [
    "# # Define API endpoints for the datasets\n",
    "# api_endpoints = {\n",
    "#     \"Neighbourhood Profiles\": \"https://ckan0.cf.opendata.inter.prod-toronto.ca/api/3/action/package_show?id=neighbourhood-profiles\",\n",
    "#     \"Neighbourhoods\": \"https://ckan0.cf.opendata.inter.prod-toronto.ca/api/3/action/package_show?id=neighbourhoods\",\n",
    "#     \"Homeless Shelters\": \"https://ckan0.cf.opendata.inter.prod-toronto.ca/api/3/action/package_show?id=drop-in-locations-toronto-drop-in-network-members-tdin\",\n",
    "#     \"Schools\": \"https://ckan0.cf.opendata.inter.prod-toronto.ca/api/3/action/package_show?id=school-locations-all-types\",\n",
    "#     \"Parks and Recreational Facilities\": \"https://ckan0.cf.opendata.inter.prod-toronto.ca/api/3/action/package_show?id=parks-and-recreation-facilities\",\n",
    "#     \"Development Applications\": \"https://ckan0.cf.opendata.inter.prod-toronto.ca/api/3/action/package_show?id=development-applications\"\n",
    "# }\n",
    "\n",
    "# # Directory to save the datasets\n",
    "# output_dir = \"toronto_datasets_api\"\n",
    "# os.makedirs(output_dir, exist_ok=True)\n",
    "\n",
    "# # Function to fetch dataset details and download resources\n",
    "# def fetch_and_save_dataset(api_url, dataset_name):\n",
    "#     response = requests.get(api_url)\n",
    "#     if response.status_code == 200:\n",
    "#         data = response.json()\n",
    "#         resources = data.get(\"result\", {}).get(\"resources\", [])\n",
    "        \n",
    "#         if resources:\n",
    "#             for resource in resources:\n",
    "#                 download_url = resource.get(\"url\")\n",
    "#                 file_name = resource.get(\"name\", \"resource\").replace(\" \", \"_\")\n",
    "#                 file_path = os.path.join(output_dir, f\"{dataset_name}_{file_name}\")\n",
    "                \n",
    "#                 if download_url:\n",
    "#                     print(f\"Downloading {file_name} from {download_url}...\")\n",
    "#                     resource_response = requests.get(download_url)\n",
    "#                     if resource_response.status_code == 200:\n",
    "#                         with open(file_path, \"wb\") as file:\n",
    "#                             file.write(resource_response.content)\n",
    "#                         print(f\"Saved to {file_path}\")\n",
    "#                     else:\n",
    "#                         print(f\"Failed to download {file_name}\")\n",
    "#         else:\n",
    "#             print(f\"No resources found for {dataset_name}\")\n",
    "#     else:\n",
    "#         print(f\"Failed to fetch dataset details for {dataset_name}. Status code: {response.status_code}\")\n",
    "\n",
    "# # Process each dataset\n",
    "# for name, api_url in api_endpoints.items():\n",
    "#     print(f\"Processing {name}...\")\n",
    "#     fetch_and_save_dataset(api_url, name.replace(\" \", \"_\"))"
   ]
  },
  {
   "cell_type": "markdown",
   "id": "e4c68a0e",
   "metadata": {},
   "source": [
    "The code below fetches only certain files from the the Toronto Database. \n",
    "From \"Development Applications\" we want to pull csv file. \n",
    "From \"Homeless Shelters\" we pull everythin.\n",
    "From \"Neighbourhood Profiles\" we pull only csv file and the most recent one.\n",
    "From \"Neighbourhoods\", \"Schools\", and \"Parks_and_Recreational_Facilities\" we pull CSV file, ZIP file, and all of them should be with \"4326\" extension for global mapping. "
   ]
  },
  {
   "cell_type": "code",
   "execution_count": 4,
   "id": "b7914b0f",
   "metadata": {},
   "outputs": [
    {
     "name": "stdout",
     "output_type": "stream",
     "text": [
      "Processing Development Applications...\n",
      "Downloading development_applications.csv from https://ckan0.cf.opendata.inter.prod-toronto.ca/dataset/0aa7e480-9b48-4919-98e0-6af7615b7809/resource/77f8a66a-bd43-40e6-b6c9-12a2b03a5032/download/development-applications.csv...\n",
      "Saved to toronto_datasets_api\\Development_Applications_development_applications.csv\n",
      "Processing Homeless Shelters...\n",
      "Downloading drop-in-wgs84 from https://ckan0.cf.opendata.inter.prod-toronto.ca/dataset/308ea197-5ed8-4f72-9d58-9a5ad7cbf679/resource/c8cb415d-9031-46a8-97d1-45e0518c39d1/download/drop-in-wgs84.zip...\n",
      "Saved to toronto_datasets_api\\Homeless_Shelters_drop-in-wgs84\n",
      "Downloading drop-in-readme from https://ckan0.cf.opendata.inter.prod-toronto.ca/dataset/308ea197-5ed8-4f72-9d58-9a5ad7cbf679/resource/6a3ec462-d84f-415d-81d1-7db54621351b/download/drop-in-readme.xls...\n",
      "Saved to toronto_datasets_api\\Homeless_Shelters_drop-in-readme\n",
      "Processing Neighbourhood Profiles...\n",
      "Downloading neighbourhood-profiles-2016-140-model.csv from https://ckan0.cf.opendata.inter.prod-toronto.ca/dataset/6e19a90f-971c-46b3-852c-0c48c436d1fc/resource/f07fe8f0-fa24-4d68-8cb4-326e280b0b05/download/neighbourhood-profiles-2016-140-model.csv...\n",
      "Saved to toronto_datasets_api\\Neighbourhood_Profiles_neighbourhood-profiles-2016-140-model.csv\n",
      "Processing Neighbourhoods...\n",
      "Downloading neighbourhoods_-_4326.zip from https://ckan0.cf.opendata.inter.prod-toronto.ca/dataset/neighbourhoods/resource/34b409a6-68ef-45f7-9cc8-c85153c1af62/download/neighbourhoods-4326.zip...\n",
      "Saved to toronto_datasets_api\\Neighbourhoods_neighbourhoods_-_4326.zip\n",
      "Downloading neighbourhoods_-_4326.csv from https://ckan0.cf.opendata.inter.prod-toronto.ca/dataset/neighbourhoods/resource/db634f74-36c9-4caa-84be-256e304a89de/download/neighbourhoods-4326.csv...\n",
      "Saved to toronto_datasets_api\\Neighbourhoods_neighbourhoods_-_4326.csv\n",
      "Processing Schools...\n",
      "Downloading school_locations-all_types_data_-_4326.csv from https://ckan0.cf.opendata.inter.prod-toronto.ca/dataset/1a714b5c-64c0-4cdf-9739-0086f80fb3ee/resource/f2c12e37-f533-4ecd-ac93-3166022fadec/download/school-locations-all-types-data-4326.csv...\n",
      "Saved to toronto_datasets_api\\Schools_school_locations-all_types_data_-_4326.csv\n",
      "Downloading school_locations-all_types_data_-_4326.zip from https://ckan0.cf.opendata.inter.prod-toronto.ca/dataset/1a714b5c-64c0-4cdf-9739-0086f80fb3ee/resource/404a4bb7-498a-49fc-ae19-0673ed1e3f6f/download/school-locations-all-types-data-4326.zip...\n",
      "Saved to toronto_datasets_api\\Schools_school_locations-all_types_data_-_4326.zip\n",
      "Processing Parks and Recreational Facilities...\n",
      "Downloading parks_and_recreation_facilities_-_4326.csv from https://ckan0.cf.opendata.inter.prod-toronto.ca/dataset/cbea3a67-9168-4c6d-8186-16ac1a795b5b/resource/61691590-4c3f-42d3-94c5-443ad3856f64/download/parks-and-recreation-facilities-4326.csv...\n",
      "Saved to toronto_datasets_api\\Parks_and_Recreational_Facilities_parks_and_recreation_facilities_-_4326.csv\n",
      "Downloading parks_and_recreation_facilities_-_4326.zip from https://ckan0.cf.opendata.inter.prod-toronto.ca/dataset/cbea3a67-9168-4c6d-8186-16ac1a795b5b/resource/713caa81-72bb-47ad-aaf7-9c8e6ab0c698/download/parks-and-recreation-facilities-4326.zip...\n",
      "Saved to toronto_datasets_api\\Parks_and_Recreational_Facilities_parks_and_recreation_facilities_-_4326.zip\n"
     ]
    }
   ],
   "source": [
    "# Define API endpoints for the datasets\n",
    "api_endpoints = {\n",
    "    \"Development Applications\": \"https://ckan0.cf.opendata.inter.prod-toronto.ca/api/3/action/package_show?id=development-applications\",\n",
    "    \"Homeless Shelters\": \"https://ckan0.cf.opendata.inter.prod-toronto.ca/api/3/action/package_show?id=drop-in-locations-toronto-drop-in-network-members-tdin\",\n",
    "    \"Neighbourhood Profiles\": \"https://ckan0.cf.opendata.inter.prod-toronto.ca/api/3/action/package_show?id=neighbourhood-profiles\",\n",
    "    \"Neighbourhoods\": \"https://ckan0.cf.opendata.inter.prod-toronto.ca/api/3/action/package_show?id=neighbourhoods\",\n",
    "    \"Schools\": \"https://ckan0.cf.opendata.inter.prod-toronto.ca/api/3/action/package_show?id=school-locations-all-types\",\n",
    "    \"Parks and Recreational Facilities\": \"https://ckan0.cf.opendata.inter.prod-toronto.ca/api/3/action/package_show?id=parks-and-recreation-facilities\",\n",
    "}\n",
    "\n",
    "# Directory to save the datasets\n",
    "output_dir = \"toronto_datasets_api\"\n",
    "os.makedirs(output_dir, exist_ok=True)\n",
    "\n",
    "# Function to fetch dataset details and download resources\n",
    "def fetch_and_save_dataset(api_url, dataset_name):\n",
    "    response = requests.get(api_url)\n",
    "    if response.status_code == 200:\n",
    "        data = response.json()\n",
    "        resources = data.get(\"result\", {}).get(\"resources\", [])\n",
    "        \n",
    "        if resources:\n",
    "            for resource in resources:\n",
    "                # Fetching the required files based on conditions\n",
    "                download_url = resource.get(\"url\")\n",
    "                file_name = resource.get(\"name\", \"resource\").replace(\" \", \"_\").lower()\n",
    "                file_path = os.path.join(output_dir, f\"{dataset_name}_{file_name}\")\n",
    "                \n",
    "                # Define filters based on your requirements\n",
    "                if dataset_name == \"Development_Applications\" and file_name.endswith(\".csv\"):\n",
    "                    pass\n",
    "                elif dataset_name == \"Neighbourhood_Profiles\" and file_name.endswith(\".csv\") and \"2016\" in file_name:\n",
    "                    pass\n",
    "                elif dataset_name == \"Neighbourhoods\" and \"historical\" not in file_name and file_name.endswith((\".csv\", \".zip\")) and \"4326\" in file_name:\n",
    "                    pass\n",
    "                elif dataset_name in [\"Schools\", \"Parks_and_Recreational_Facilities\"] and file_name.endswith((\".csv\", \".zip\")) and \"4326\" in file_name:\n",
    "                    pass\n",
    "                elif dataset_name == \"Homeless_Shelters\":\n",
    "                    pass\n",
    "                else:\n",
    "                    continue\n",
    "\n",
    "                # Download the selected file\n",
    "                if download_url:\n",
    "                    print(f\"Downloading {file_name} from {download_url}...\")\n",
    "                    resource_response = requests.get(download_url)\n",
    "                    if resource_response.status_code == 200:\n",
    "                        with open(file_path, \"wb\") as file:\n",
    "                            file.write(resource_response.content)\n",
    "                        print(f\"Saved to {file_path}\")\n",
    "                    else:\n",
    "                        print(f\"Failed to download {file_name}\")\n",
    "        else:\n",
    "            print(f\"No resources found for {dataset_name}\")\n",
    "    else:\n",
    "        print(f\"Failed to fetch dataset details for {dataset_name}. Status code: {response.status_code}\")\n",
    "\n",
    "# Process each dataset\n",
    "for name, api_url in api_endpoints.items():\n",
    "    print(f\"Processing {name}...\")\n",
    "    fetch_and_save_dataset(api_url, name.replace(\" \", \"_\"))"
   ]
  },
  {
   "cell_type": "markdown",
   "id": "73ae5f57",
   "metadata": {},
   "source": [
    "Next we want to load in all CSV files and turn them into dataframes."
   ]
  },
  {
   "cell_type": "code",
   "execution_count": 5,
   "id": "7c98cc1c",
   "metadata": {
    "scrolled": true
   },
   "outputs": [
    {
     "name": "stdout",
     "output_type": "stream",
     "text": [
      "Loaded development_applications_cleaned_geocoded.csv into DataFrame. Shape: (24140, 6)\n",
      "Loaded Development_Applications_development_applications.csv into DataFrame. Shape: (24216, 26)\n",
      "Loaded Neighbourhoods_neighbourhoods_-_4326.csv into DataFrame. Shape: (158, 12)\n",
      "Loaded Neighbourhood_Profiles_neighbourhood-profiles-2016-140-model.csv into DataFrame. Shape: (2383, 146)\n",
      "Loaded Parks_and_Recreational_Facilities_parks_and_recreation_facilities_-_4326.csv into DataFrame. Shape: (1663, 10)\n",
      "Loaded Schools_school_locations-all_types_data_-_4326.csv into DataFrame. Shape: (1194, 25)\n",
      "\n",
      "Summary of Loaded DataFrames:\n",
      "Development Applications Cleaned Geocoded: (24140, 6)\n",
      "Development Applications Development Applications: (24216, 26)\n",
      "Neighbourhoods Neighbourhoods - 4326: (158, 12)\n",
      "Neighbourhood Profiles Neighbourhood-Profiles-2016-140-Model: (2383, 146)\n",
      "Parks And Recreational Facilities Parks And Recreation Facilities - 4326: (1663, 10)\n",
      "Schools School Locations-All Types Data - 4326: (1194, 25)\n"
     ]
    }
   ],
   "source": [
    "# Directory containing the saved datasets\n",
    "output_dir = \"toronto_datasets_api\"\n",
    "\n",
    "# Dictionary to store DataFrames\n",
    "dataframes = {}\n",
    "\n",
    "# Iterate through files in the output directory\n",
    "for file_name in os.listdir(output_dir):\n",
    "    file_path = os.path.join(output_dir, file_name)\n",
    "    \n",
    "    # Check if the file is a CSV\n",
    "    if file_name.endswith(\".csv\"):\n",
    "        try:\n",
    "            # Load CSV into a DataFrame\n",
    "            df = pd.read_csv(file_path)\n",
    "            \n",
    "            # Store the DataFrame in the dictionary using a cleaned-up name\n",
    "            dataset_name = file_name.replace(\".csv\", \"\").replace(\"_\", \" \").title()\n",
    "            dataframes[dataset_name] = df\n",
    "            \n",
    "            print(f\"Loaded {file_name} into DataFrame. Shape: {df.shape}\")\n",
    "        except Exception as e:\n",
    "            print(f\"Failed to load {file_name}: {e}\")\n",
    "\n",
    "# Display summary of loaded DataFrames\n",
    "print(\"\\nSummary of Loaded DataFrames:\")\n",
    "for name, df in dataframes.items():\n",
    "    print(f\"{name}: {df.shape}\")"
   ]
  },
  {
   "cell_type": "markdown",
   "id": "e47bbcd5",
   "metadata": {},
   "source": [
    "# Prepare Dataframes"
   ]
  },
  {
   "cell_type": "markdown",
   "id": "18ed20c8",
   "metadata": {},
   "source": [
    "Starting one by one, we need to prepare dataframes for further analysis. "
   ]
  },
  {
   "cell_type": "markdown",
   "id": "c3dd94d7",
   "metadata": {},
   "source": [
    "# Dataframe 1 - Development Applications"
   ]
  },
  {
   "cell_type": "markdown",
   "id": "9df2a1cb",
   "metadata": {},
   "source": [
    "Let's take a look at list of columnts and see if all necessary for our analysis."
   ]
  },
  {
   "cell_type": "code",
   "execution_count": 6,
   "id": "d5d72e06",
   "metadata": {},
   "outputs": [
    {
     "name": "stdout",
     "output_type": "stream",
     "text": [
      "List of columns in Development Applications DataFrame:\n",
      "['_id', 'APPLICATION_TYPE', 'APPLICATION#', 'STREET_NUM', 'STREET_NAME', 'STREET_TYPE', 'STREET_DIRECTION', 'POSTAL', 'DATE_SUBMITTED', 'STATUS', 'HEARING_DATE', 'X', 'Y', 'DESCRIPTION', 'REFERENCE_FILE#', 'FOLDERRSN', 'WARD_NUMBER', 'WARD_NAME', 'COMMUNITY_MEETING_DATE', 'COMMUNITY_MEETING_TIME', 'COMMUNITY_MEETING_LOCATION', 'APPLICATION_URL', 'CONTACT_NAME', 'CONTACT_PHONE', 'CONTACT_EMAIL', 'PARENT_FOLDER_NUMBER']\n"
     ]
    }
   ],
   "source": [
    "# Display the list of columns for the Development Applications DataFrame\n",
    "development_df_name = \"Development Applications Development Applications\"  # Replace with exact DataFrame name\n",
    "if development_df_name in dataframes:\n",
    "    development_df = dataframes[development_df_name]\n",
    "    print(\"List of columns in Development Applications DataFrame:\")\n",
    "    print(development_df.columns.tolist())\n",
    "else:\n",
    "    print(f\"DataFrame '{development_df_name}' not found.\")"
   ]
  },
  {
   "cell_type": "markdown",
   "id": "e02adf12",
   "metadata": {},
   "source": [
    "We do not need following columns and they can be removed from or dataframe: '_id', 'APPLICATION_TYPE', 'APPLICATION#', 'STREET_TYPE', 'DATE_SUBMITTED', 'STATUS', 'HEARING_DATE', 'X', 'Y', 'DESCRIPTION', 'REFERENCE_FILE#', 'FOLDERRSN', 'COMMUNITY_MEETING_DATE', 'COMMUNITY_MEETING_TIME', 'COMMUNITY_MEETING_LOCATION', 'APPLICATION_URL', 'CONTACT_NAME', 'CONTACT_PHONE', 'CONTACT_EMAIL', 'PARENT_FOLDER_NUMBER'"
   ]
  },
  {
   "cell_type": "code",
   "execution_count": 7,
   "id": "4876df5d",
   "metadata": {},
   "outputs": [
    {
     "name": "stdout",
     "output_type": "stream",
     "text": [
      "Columns removed. Updated shape: (24216, 6)\n",
      "Remaining columns:\n",
      "['STREET_NUM', 'STREET_NAME', 'STREET_DIRECTION', 'POSTAL', 'WARD_NUMBER', 'WARD_NAME']\n"
     ]
    }
   ],
   "source": [
    "# List of columns to remove\n",
    "columns_to_remove = [\n",
    "    '_id', 'APPLICATION_TYPE', 'APPLICATION#', 'STREET_TYPE', 'DATE_SUBMITTED', 'STATUS', 'HEARING_DATE', \n",
    "    'X', 'Y', 'DESCRIPTION', 'REFERENCE_FILE#', 'FOLDERRSN', \n",
    "    'COMMUNITY_MEETING_DATE', 'COMMUNITY_MEETING_TIME', \n",
    "    'COMMUNITY_MEETING_LOCATION', 'APPLICATION_URL', \n",
    "    'CONTACT_NAME', 'CONTACT_PHONE', 'CONTACT_EMAIL', 'PARENT_FOLDER_NUMBER'\n",
    "]\n",
    "\n",
    "# Check if the Development Applications DataFrame exists in the dictionary\n",
    "development_df_name = \"Development Applications Development Applications\"\n",
    "if development_df_name in dataframes:\n",
    "    development_df = dataframes[development_df_name]\n",
    "    \n",
    "    # Drop the specified columns\n",
    "    development_df_cleaned = development_df.drop(columns=columns_to_remove, errors='ignore')\n",
    "    \n",
    "    # Update the DataFrame in the dictionary\n",
    "    dataframes[development_df_name] = development_df_cleaned\n",
    "    \n",
    "    print(f\"Columns removed. Updated shape: {development_df_cleaned.shape}\")\n",
    "    print(\"Remaining columns:\")\n",
    "    print(development_df_cleaned.columns.tolist())\n",
    "else:\n",
    "    print(f\"DataFrame '{development_df_name}' not found.\")"
   ]
  },
  {
   "cell_type": "markdown",
   "id": "09b46c8e",
   "metadata": {},
   "source": [
    "Next need to check if any information is missing."
   ]
  },
  {
   "cell_type": "code",
   "execution_count": 8,
   "id": "52344733",
   "metadata": {
    "scrolled": true
   },
   "outputs": [
    {
     "name": "stdout",
     "output_type": "stream",
     "text": [
      "Missing values found in the Development Applications DataFrame:\n",
      "WARD_NUMBER    10\n",
      "WARD_NAME      76\n",
      "dtype: int64\n"
     ]
    }
   ],
   "source": [
    "# Check for missing values in the Development Applications DataFrame\n",
    "if development_df_name in dataframes:\n",
    "    development_df_cleaned = dataframes[development_df_name]\n",
    "    \n",
    "    # Get a summary of missing values\n",
    "    missing_summary = development_df_cleaned.isnull().sum()\n",
    "    missing_info = missing_summary[missing_summary > 0]\n",
    "    \n",
    "    if missing_info.empty:\n",
    "        print(\"No missing values found in the Development Applications DataFrame.\")\n",
    "    else:\n",
    "        print(\"Missing values found in the Development Applications DataFrame:\")\n",
    "        print(missing_info)\n",
    "else:\n",
    "    print(f\"DataFrame '{development_df_name}' not found.\")"
   ]
  },
  {
   "cell_type": "markdown",
   "id": "319eb1a8",
   "metadata": {},
   "source": [
    "Now need remove rows with missing data."
   ]
  },
  {
   "cell_type": "code",
   "execution_count": 9,
   "id": "318d49a9",
   "metadata": {},
   "outputs": [
    {
     "name": "stdout",
     "output_type": "stream",
     "text": [
      "Rows with missing data removed. New shape: (24140, 6)\n"
     ]
    }
   ],
   "source": [
    "# Remove rows with missing data from the Development Applications DataFrame\n",
    "if development_df_name in dataframes:\n",
    "    development_df_cleaned = dataframes[development_df_name]\n",
    "    \n",
    "    # Drop rows with missing values\n",
    "    development_df_cleaned = development_df_cleaned.dropna()\n",
    "\n",
    "    # Update the DataFrame in the dictionary\n",
    "    dataframes[development_df_name] = development_df_cleaned\n",
    "    \n",
    "    print(f\"Rows with missing data removed. New shape: {development_df_cleaned.shape}\")\n",
    "else:\n",
    "    print(f\"DataFrame '{development_df_name}' not found.\")"
   ]
  },
  {
   "cell_type": "markdown",
   "id": "4ad19443",
   "metadata": {},
   "source": [
    "Now, with cleaned up data, we want to visualize the density of development applications on the map of Toronto.\n",
    "First, we shall geocode each address. This step might take some time, don't get worried. Also, make sure that your connection to internet stays on.\n",
    "Second create a map."
   ]
  },
  {
   "cell_type": "code",
   "execution_count": 10,
   "id": "a6e14982",
   "metadata": {},
   "outputs": [],
   "source": [
    "# # Initialize geolocator\n",
    "# geolocator = Nominatim(user_agent=\"toronto_development_geocoder\")\n",
    "\n",
    "# # Function to geocode an address\n",
    "# def geocode_address(row):\n",
    "#     try:\n",
    "#         address = f\"{row['STREET_NUM']} {row['STREET_NAME']} {row['STREET_DIRECTION']}, Toronto, Canada\"\n",
    "#         location = geolocator.geocode(address, timeout=10)\n",
    "#         if location:\n",
    "#             return (location.latitude, location.longitude)\n",
    "#     except GeocoderTimedOut:\n",
    "#         time.sleep(1)  # Wait a second and retry\n",
    "#         return geocode_address(row)\n",
    "#     return (None, None)\n",
    "\n",
    "# # Geocode the Development Applications DataFrame\n",
    "# if development_df_name in dataframes:\n",
    "#     development_df_cleaned = dataframes[development_df_name]\n",
    "\n",
    "#     # Apply geocoding to each row\n",
    "#     print(\"Geocoding addresses...\")\n",
    "#     development_df_cleaned[[\"LAT\", \"LON\"]] = development_df_cleaned.apply(\n",
    "#         lambda row: pd.Series(geocode_address(row)), axis=1\n",
    "#     )\n",
    "#     print(\"Geocoding completed.\")\n",
    "    \n",
    "#     # Drop rows with missing geocoded values\n",
    "#     development_df_cleaned = development_df_cleaned.dropna(subset=[\"LAT\", \"LON\"])\n",
    "    \n",
    "#     # Convert to a GeoDataFrame\n",
    "#     development_gdf = gpd.GeoDataFrame(\n",
    "#         development_df_cleaned,\n",
    "#         geometry=gpd.points_from_xy(development_df_cleaned[\"LON\"], development_df_cleaned[\"LAT\"]),\n",
    "#         crs=\"EPSG:4326\"\n",
    "#     )\n",
    "\n",
    "#     # Visualization using Folium\n",
    "#     toronto_map = folium.Map(location=[43.7, -79.4], zoom_start=11)\n",
    "\n",
    "#     # Add points to the map\n",
    "#     for _, row in development_gdf.iterrows():\n",
    "#         folium.CircleMarker(\n",
    "#             location=[row.geometry.y, row.geometry.x],\n",
    "#             radius=3,\n",
    "#             color=\"blue\",\n",
    "#             fill=True,\n",
    "#             fill_opacity=0.6\n",
    "#         ).add_to(toronto_map)\n",
    "\n",
    "#     # Save and display the map\n",
    "#     toronto_map.save(\"toronto_development_density.html\")\n",
    "#     print(\"Map has been saved as 'toronto_development_density.html'.\")\n",
    "# else:\n",
    "#     print(f\"DataFrame '{development_df_name}' not found.\")"
   ]
  },
  {
   "cell_type": "code",
   "execution_count": null,
   "id": "41324bc9",
   "metadata": {},
   "outputs": [],
   "source": []
  },
  {
   "cell_type": "markdown",
   "id": "5d87ae54",
   "metadata": {},
   "source": [
    "Since Geocoding is a time consuming process, we will save the cuurent Development Application fime as a CSV so in case we need to re-run a kernl we can just pull that database instead of going though geocoding again. "
   ]
  },
  {
   "cell_type": "code",
   "execution_count": 11,
   "id": "8ed8dafa",
   "metadata": {},
   "outputs": [
    {
     "name": "stdout",
     "output_type": "stream",
     "text": [
      "Cleaned and geocoded dataset saved to: toronto_datasets_api\\development_applications_cleaned_geocoded.csv\n"
     ]
    }
   ],
   "source": [
    "# Save the cleaned and geocoded DataFrame to a CSV file\n",
    "output_csv_path = os.path.join(output_dir, \"development_applications_cleaned_geocoded.csv\")\n",
    "\n",
    "if development_df_name in dataframes:\n",
    "    development_df_cleaned = dataframes[development_df_name]\n",
    "    development_df_cleaned.to_csv(output_csv_path, index=False)\n",
    "    print(f\"Cleaned and geocoded dataset saved to: {output_csv_path}\")\n",
    "else:\n",
    "    print(f\"DataFrame '{development_df_name}' not found.\")"
   ]
  },
  {
   "cell_type": "markdown",
   "id": "cba2ca45",
   "metadata": {},
   "source": [
    "Now let's review the dataframe and see if it is ready for merge based on geometry and locations."
   ]
  },
  {
   "cell_type": "code",
   "execution_count": 12,
   "id": "c17e0dea",
   "metadata": {},
   "outputs": [
    {
     "name": "stdout",
     "output_type": "stream",
     "text": [
      "Geocoded dataset loaded successfully.\n"
     ]
    },
    {
     "name": "stdout",
     "output_type": "stream",
     "text": [
      "  STREET_NUM STREET_NAME STREET_DIRECTION POSTAL  WARD_NUMBER  \\\n",
      "0       2681    DANFORTH                     M4C           19   \n",
      "1         50       LAING                     M4L           14   \n",
      "2         23     TORONTO                     M5C           13   \n",
      "3          5     JOPLING                S    M9B            3   \n",
      "4          0      EXMOOR                                    3   \n",
      "\n",
      "             WARD_NAME  \n",
      "0    Beaches-East York  \n",
      "1     Toronto-Danforth  \n",
      "2       Toronto Centre  \n",
      "3  Etobicoke-Lakeshore  \n",
      "4  Etobicoke-Lakeshore  \n"
     ]
    }
   ],
   "source": [
    "# Load the saved geocoded dataset\n",
    "geocoded_csv_path = os.path.join(output_dir, \"development_applications_cleaned_geocoded.csv\")\n",
    "geocoded_df = pd.read_csv(geocoded_csv_path)\n",
    "\n",
    "print(\"Geocoded dataset loaded successfully.\")\n",
    "print(geocoded_df.head())"
   ]
  },
  {
   "cell_type": "code",
   "execution_count": 13,
   "id": "e50d1aff",
   "metadata": {},
   "outputs": [
    {
     "data": {
      "text/html": [
       "\n",
       "        <iframe\n",
       "            width=\"800\"\n",
       "            height=\"600\"\n",
       "            src=\"toronto_development_density.html\"\n",
       "            frameborder=\"0\"\n",
       "            allowfullscreen\n",
       "            \n",
       "        ></iframe>\n",
       "        "
      ],
      "text/plain": [
       "<IPython.lib.display.IFrame at 0x21c134f1a30>"
      ]
     },
     "execution_count": 13,
     "metadata": {},
     "output_type": "execute_result"
    }
   ],
   "source": [
    "# Path to the saved map\n",
    "map_path = \"toronto_development_density.html\"\n",
    "\n",
    "# Display the map in the notebook\n",
    "IFrame(map_path, width=800, height=600)"
   ]
  },
  {
   "cell_type": "markdown",
   "id": "383e9fd5",
   "metadata": {},
   "source": [
    "# Dataframe 2 - Neighbourhood Shapes"
   ]
  },
  {
   "cell_type": "markdown",
   "id": "9435a840",
   "metadata": {},
   "source": [
    "Let's prepare another dataframe with Neighbourhood shape information. Let's review the file and see what information it offers to us."
   ]
  },
  {
   "cell_type": "code",
   "execution_count": 14,
   "id": "78a0de18",
   "metadata": {},
   "outputs": [
    {
     "name": "stdout",
     "output_type": "stream",
     "text": [
      "List of columns in Neighbourhoods DataFrame:\n",
      "['_id', 'AREA_ID', 'AREA_ATTR_ID', 'PARENT_AREA_ID', 'AREA_SHORT_CODE', 'AREA_LONG_CODE', 'AREA_NAME', 'AREA_DESC', 'CLASSIFICATION', 'CLASSIFICATION_CODE', 'OBJECTID', 'geometry']\n"
     ]
    }
   ],
   "source": [
    "# Display the list of columns for the Neighbourhoods DataFrame\n",
    "neighbourhoods_df_name = \"Neighbourhoods Neighbourhoods - 4326\"\n",
    "if neighbourhoods_df_name in dataframes:\n",
    "    neighbourhoods_df = dataframes[neighbourhoods_df_name]\n",
    "    print(\"List of columns in Neighbourhoods DataFrame:\")\n",
    "    print(neighbourhoods_df.columns.tolist())\n",
    "else:\n",
    "    print(f\"DataFrame '{neighbourhoods_df_name}' not found.\")"
   ]
  },
  {
   "cell_type": "markdown",
   "id": "b1c3f7cd",
   "metadata": {},
   "source": [
    "We do not need following columns and they can be removed from or dataframe: 'AREA_ATTR_ID', 'PARENT_AREA_ID', 'CLASSIFICATION_CODE', 'AREA_DESC'. Let's keep remaining columns for now as they might be useful during dataframes merge. "
   ]
  },
  {
   "cell_type": "code",
   "execution_count": 15,
   "id": "d1bbcd04",
   "metadata": {},
   "outputs": [
    {
     "name": "stdout",
     "output_type": "stream",
     "text": [
      "Columns removed. Updated shape: (158, 8)\n",
      "Remaining columns:\n",
      "['_id', 'AREA_ID', 'AREA_SHORT_CODE', 'AREA_LONG_CODE', 'AREA_NAME', 'CLASSIFICATION', 'OBJECTID', 'geometry']\n"
     ]
    }
   ],
   "source": [
    "# List of columns to remove\n",
    "columns_to_remove_neighbourhoods = [\n",
    "    'AREA_ATTR_ID', 'PARENT_AREA_ID', 'CLASSIFICATION_CODE', 'AREA_DESC'\n",
    "]\n",
    "\n",
    "# Check if the Neighbourhoods DataFrame exists in the dictionary\n",
    "neighbourhoods_df_name = \"Neighbourhoods Neighbourhoods - 4326\"\n",
    "if neighbourhoods_df_name in dataframes:\n",
    "    neighbourhoods_df = dataframes[neighbourhoods_df_name]\n",
    "    \n",
    "    # Drop the specified columns\n",
    "    neighbourhoods_df_cleaned = neighbourhoods_df.drop(columns=columns_to_remove_neighbourhoods, errors='ignore')\n",
    "    \n",
    "    # Update the DataFrame in the dictionary\n",
    "    dataframes[neighbourhoods_df_name] = neighbourhoods_df_cleaned\n",
    "    \n",
    "    print(f\"Columns removed. Updated shape: {neighbourhoods_df_cleaned.shape}\")\n",
    "    print(\"Remaining columns:\")\n",
    "    print(neighbourhoods_df_cleaned.columns.tolist())\n",
    "else:\n",
    "    print(f\"DataFrame '{neighbourhoods_df_name}' not found.\")"
   ]
  },
  {
   "cell_type": "markdown",
   "id": "ba7f65ac",
   "metadata": {},
   "source": [
    "Next need to check if any information is missing."
   ]
  },
  {
   "cell_type": "code",
   "execution_count": 16,
   "id": "07299419",
   "metadata": {},
   "outputs": [
    {
     "name": "stdout",
     "output_type": "stream",
     "text": [
      "No missing values found in the Neighbourhoods DataFrame.\n"
     ]
    }
   ],
   "source": [
    "# Check for missing values in the Neighbourhoods DataFrame\n",
    "if neighbourhoods_df_name in dataframes:\n",
    "    neighbourhoods_df_cleaned = dataframes[neighbourhoods_df_name]\n",
    "    \n",
    "    # Get a summary of missing values\n",
    "    missing_summary = neighbourhoods_df_cleaned.isnull().sum()\n",
    "    missing_info = missing_summary[missing_summary > 0]\n",
    "    \n",
    "    if missing_info.empty:\n",
    "        print(\"No missing values found in the Neighbourhoods DataFrame.\")\n",
    "    else:\n",
    "        print(\"Missing values found in the Neighbourhoods DataFrame:\")\n",
    "        print(missing_info)\n",
    "else:\n",
    "    print(f\"DataFrame '{neighbourhoods_df_name}' not found.\")"
   ]
  },
  {
   "cell_type": "markdown",
   "id": "5965f45d",
   "metadata": {},
   "source": [
    "Now need remove rows with missing data."
   ]
  },
  {
   "cell_type": "code",
   "execution_count": 17,
   "id": "465ccf73",
   "metadata": {},
   "outputs": [
    {
     "name": "stdout",
     "output_type": "stream",
     "text": [
      "Rows with missing data removed. New shape: (158, 8)\n"
     ]
    }
   ],
   "source": [
    "# Remove rows with missing data from the Neighbourhoods DataFrame\n",
    "if neighbourhoods_df_name in dataframes:\n",
    "    neighbourhoods_df_cleaned = dataframes[neighbourhoods_df_name]\n",
    "    \n",
    "    # Drop rows with missing values\n",
    "    neighbourhoods_df_cleaned = neighbourhoods_df_cleaned.dropna()\n",
    "    \n",
    "    # Update the DataFrame in the dictionary\n",
    "    dataframes[neighbourhoods_df_name] = neighbourhoods_df_cleaned\n",
    "    \n",
    "    print(f\"Rows with missing data removed. New shape: {neighbourhoods_df_cleaned.shape}\")\n",
    "else:\n",
    "    print(f\"DataFrame '{neighbourhoods_df_name}' not found.\")"
   ]
  },
  {
   "cell_type": "markdown",
   "id": "70f71221",
   "metadata": {},
   "source": [
    "Here, we want to see how we can merge the dataframes. "
   ]
  },
  {
   "cell_type": "markdown",
   "id": "77e884b6",
   "metadata": {},
   "source": [
    "# Dataframe 3 - Neighbourhood Profiles"
   ]
  },
  {
   "cell_type": "markdown",
   "id": "705de714",
   "metadata": {},
   "source": [
    "Let's prepare another dataframe with Neighbourhood Profiles information. Let's review the file and see what information it offers to us. Let's take a look at list of columnts and see if all necessary for our analysis."
   ]
  },
  {
   "cell_type": "code",
   "execution_count": 18,
   "id": "22e0be12",
   "metadata": {},
   "outputs": [
    {
     "name": "stdout",
     "output_type": "stream",
     "text": [
      "Initial size of the DataFrame: (2383, 146)\n",
      "\n",
      "Head of the DataFrame:\n",
      "   _id                   Category                      Topic  \\\n",
      "0    1  Neighbourhood Information  Neighbourhood Information   \n",
      "1    2  Neighbourhood Information  Neighbourhood Information   \n",
      "2    3                 Population   Population and dwellings   \n",
      "3    4                 Population   Population and dwellings   \n",
      "4    5                 Population   Population and dwellings   \n",
      "\n",
      "                      Data Source               Characteristic  \\\n",
      "0                 City of Toronto         Neighbourhood Number   \n",
      "1                 City of Toronto         TSNS2020 Designation   \n",
      "2  Census Profile 98-316-X2016001             Population, 2016   \n",
      "3  Census Profile 98-316-X2016001             Population, 2011   \n",
      "4  Census Profile 98-316-X2016001  Population Change 2011-2016   \n",
      "\n",
      "  City of Toronto Agincourt North Agincourt South-Malvern West  \\\n",
      "0             NaN             129                          128   \n",
      "1             NaN  No Designation               No Designation   \n",
      "2       2,731,571          29,113                       23,757   \n",
      "3       2,615,060          30,279                       21,988   \n",
      "4           4.50%          -3.90%                        8.00%   \n",
      "\n",
      "        Alderwood           Annex  ... Willowdale West  \\\n",
      "0              20              95  ...              37   \n",
      "1  No Designation  No Designation  ...  No Designation   \n",
      "2          12,054          30,526  ...          16,936   \n",
      "3          11,904          29,177  ...          15,004   \n",
      "4           1.30%           4.60%  ...          12.90%   \n",
      "\n",
      "  Willowridge-Martingrove-Richview  Woburn Woodbine Corridor Woodbine-Lumsden  \\\n",
      "0                                7     137                64               60   \n",
      "1                   No Designation     NIA    No Designation   No Designation   \n",
      "2                           22,156  53,485            12,541            7,865   \n",
      "3                           21,343  53,350            11,703            7,826   \n",
      "4                            3.80%   0.30%             7.20%            0.50%   \n",
      "\n",
      "         Wychwood  Yonge-Eglinton  Yonge-St.Clair York University Heights  \\\n",
      "0              94             100              97                      27   \n",
      "1  No Designation  No Designation  No Designation                     NIA   \n",
      "2          14,349          11,817          12,528                  27,593   \n",
      "3          13,986          10,578          11,652                  27,713   \n",
      "4           2.60%          11.70%           7.50%                  -0.40%   \n",
      "\n",
      "       Yorkdale-Glen Park  \n",
      "0                      31  \n",
      "1  Emerging Neighbourhood  \n",
      "2                  14,804  \n",
      "3                  14,687  \n",
      "4                   0.80%  \n",
      "\n",
      "[5 rows x 146 columns]\n",
      "\n",
      "Info of the DataFrame:\n",
      "<class 'pandas.core.frame.DataFrame'>\n",
      "RangeIndex: 2383 entries, 0 to 2382\n",
      "Columns: 146 entries, _id to Yorkdale-Glen Park\n",
      "dtypes: int64(1), object(145)\n",
      "memory usage: 2.7+ MB\n"
     ]
    }
   ],
   "source": [
    "# Display the head, size, and info for the Neighbourhood Profiles DataFrame\n",
    "neighbourhood_profiles_df_name = \"Neighbourhood Profiles Neighbourhood-Profiles-2016-140-Model\"\n",
    "\n",
    "if neighbourhood_profiles_df_name in dataframes:\n",
    "    neighbourhood_profiles_df = dataframes[neighbourhood_profiles_df_name]\n",
    "    \n",
    "    # Display the size of the DataFrame\n",
    "    print(f\"Initial size of the DataFrame: {neighbourhood_profiles_df.shape}\")\n",
    "    \n",
    "    # Display head\n",
    "    print(\"\\nHead of the DataFrame:\")\n",
    "    print(neighbourhood_profiles_df.head())\n",
    "    \n",
    "    # Display info\n",
    "    print(\"\\nInfo of the DataFrame:\")\n",
    "    neighbourhood_profiles_df.info()\n",
    "else:\n",
    "    print(f\"DataFrame '{neighbourhood_profiles_df_name}' not found.\")"
   ]
  },
  {
   "cell_type": "markdown",
   "id": "db84a972",
   "metadata": {},
   "source": [
    "The dataframe is very large and perhaps we do not need every bit of information available in there for our analysis. Now we need to remove unecessary information from it. Lets remove all entreies related to the \"language\", \"Immigration and citizenship\", \"Visible minority\", \"Mobility\", \"Labour\", \"Ethnic origin\", \"Journey to work\", \"Families, households and marital status\" and \"Housing\" under Category."
   ]
  },
  {
   "cell_type": "code",
   "execution_count": 19,
   "id": "dd42247b",
   "metadata": {},
   "outputs": [
    {
     "name": "stdout",
     "output_type": "stream",
     "text": [
      "After removing unnecessary categories and families-related entries: (402, 146)\n"
     ]
    }
   ],
   "source": [
    "# Step 1 Remove unnecessary entries\n",
    "if \"Category\" in neighbourhood_profiles_df.columns:\n",
    "    # Combine patterns for unnecessary categories\n",
    "    patterns = r\"language|education|immigration and citizenship|visible minority|mobility|housing|labour|ethnic origin|journey to work|families|households|marital status\"\n",
    "    \n",
    "    # Filter out rows matching the combined patterns\n",
    "    filtered_profiles_df = neighbourhood_profiles_df[\n",
    "        ~neighbourhood_profiles_df[\"Category\"].str.contains(patterns, case=False, na=False)\n",
    "    ]\n",
    "    print(f\"After removing unnecessary categories and families-related entries: {filtered_profiles_df.shape}\")\n",
    "else:\n",
    "    print(\"'Category' column not found for filtering.\")"
   ]
  },
  {
   "cell_type": "markdown",
   "id": "464ec349",
   "metadata": {},
   "source": [
    "Now, we do not need different different information on population age groups, so we can drop all entries with the exception of population status in 2016 across all neighbourhoods. "
   ]
  },
  {
   "cell_type": "code",
   "execution_count": 20,
   "id": "e470f950",
   "metadata": {},
   "outputs": [
    {
     "name": "stdout",
     "output_type": "stream",
     "text": [
      "After keeping only 'Population, 2016': (348, 146)\n"
     ]
    }
   ],
   "source": [
    "# Step 2: Keep only 'Population, 2016'\n",
    "filtered_profiles_df = filtered_profiles_df[\n",
    "        ~((filtered_profiles_df[\"Category\"] == \"Population\") &\n",
    "          (filtered_profiles_df[\"Characteristic\"] != \"Population, 2016\"))\n",
    "    ]\n",
    "print(f\"After keeping only 'Population, 2016': {filtered_profiles_df.shape}\")"
   ]
  },
  {
   "cell_type": "markdown",
   "id": "3dc3d28a",
   "metadata": {},
   "source": [
    "For entries under Aboriginal peoples we are only interested in the one with Charecteristics Aboriginal identity. The rest of them can be removed. "
   ]
  },
  {
   "cell_type": "code",
   "execution_count": 21,
   "id": "526758bb",
   "metadata": {},
   "outputs": [
    {
     "name": "stdout",
     "output_type": "stream",
     "text": [
      "After keeping only 'Aboriginal identity': (314, 146)\n"
     ]
    }
   ],
   "source": [
    " # Step 3: Keep only \"Aboriginal identity\"\n",
    "filtered_profiles_df = filtered_profiles_df[\n",
    "        ~((filtered_profiles_df[\"Category\"] == \"Aboriginal peoples\") &\n",
    "          (filtered_profiles_df[\"Characteristic\"] != \"Aboriginal identity\"))\n",
    "    ]\n",
    "print(f\"After keeping only 'Aboriginal identity': {filtered_profiles_df.shape}\")"
   ]
  },
  {
   "cell_type": "markdown",
   "id": "d1a365b2",
   "metadata": {},
   "source": [
    "Next, we start looking through different information on incomes in different neighbourhoods. For the purpose of our analysis we do not need entries related to Low Income and and Income of economic families in 2015 under Topic."
   ]
  },
  {
   "cell_type": "code",
   "execution_count": 22,
   "id": "7e9b0324",
   "metadata": {},
   "outputs": [
    {
     "name": "stdout",
     "output_type": "stream",
     "text": [
      "After removing specific income topics: (245, 146)\n"
     ]
    }
   ],
   "source": [
    "# Step 4: Remove specific income topics\n",
    "filtered_profiles_df = filtered_profiles_df[\n",
    "        ~filtered_profiles_df[\"Topic\"].str.contains(\n",
    "            \"Income of economic families in 2015|Low income in 2015\", case=False, na=False\n",
    "        )\n",
    "    ]\n",
    "print(f\"After removing specific income topics: {filtered_profiles_df.shape}\")"
   ]
  },
  {
   "cell_type": "markdown",
   "id": "4300e054",
   "metadata": {},
   "source": [
    "Now, we want to remove entries from Category of Income with topic \"\"Income sources\" and \"Income taxes\"."
   ]
  },
  {
   "cell_type": "code",
   "execution_count": 23,
   "id": "850d01f7",
   "metadata": {},
   "outputs": [
    {
     "name": "stdout",
     "output_type": "stream",
     "text": [
      "After removing 'Income sources' and 'Income taxes' under 'Income' category: (142, 146)\n"
     ]
    }
   ],
   "source": [
    "# Step 5: Remove entries under 'Income' with 'Income sources' or 'Income taxes'\n",
    "if \"Category\" in filtered_profiles_df.columns and \"Topic\" in filtered_profiles_df.columns:\n",
    "    filtered_profiles_df = filtered_profiles_df[\n",
    "        ~((filtered_profiles_df[\"Category\"] == \"Income\") & \n",
    "          (filtered_profiles_df[\"Topic\"].isin([\"Income sources\", \"Income taxes\"])))\n",
    "    ]\n",
    "    print(f\"After removing 'Income sources' and 'Income taxes' under 'Income' category: {filtered_profiles_df.shape}\")\n",
    "else:\n",
    "    print(\"'Category' or 'Topic' column not found in the DataFrame.\")"
   ]
  },
  {
   "cell_type": "markdown",
   "id": "3acda500",
   "metadata": {},
   "source": [
    "Let's keep only household incomes in our dataframe. "
   ]
  },
  {
   "cell_type": "code",
   "execution_count": 24,
   "id": "24d86c0e",
   "metadata": {},
   "outputs": [
    {
     "name": "stdout",
     "output_type": "stream",
     "text": [
      "After keeping only household incomes: (62, 146)\n"
     ]
    }
   ],
   "source": [
    "# Step 6: Keep only household incomes\n",
    "filtered_profiles_df = filtered_profiles_df[\n",
    "        ~((filtered_profiles_df[\"Category\"] == \"Income\") &\n",
    "          (filtered_profiles_df[\"Topic\"] == \"Income of individuals in 2015\"))\n",
    "    ]\n",
    "print(f\"After keeping only household incomes: {filtered_profiles_df.shape}\")"
   ]
  },
  {
   "cell_type": "markdown",
   "id": "d9b44101",
   "metadata": {},
   "source": [
    "After reviewing a dataframe, we can see that there are still a lot of data entries income related. We are particularly interested in incore ranges under \"Charasteristic\". Therefore, let's remove all entries under Income \"Category\" that do not have a range in \"Characteristic\"."
   ]
  },
  {
   "cell_type": "code",
   "execution_count": 25,
   "id": "06d8dc21",
   "metadata": {},
   "outputs": [
    {
     "name": "stdout",
     "output_type": "stream",
     "text": [
      "After retaining valid income ranges: (40, 146)\n"
     ]
    }
   ],
   "source": [
    "# Step 7: Retain rows with valid income ranges\n",
    "filtered_profiles_df = filtered_profiles_df[\n",
    "        ~((filtered_profiles_df[\"Category\"] == \"Income\") &\n",
    "          ~filtered_profiles_df[\"Characteristic\"].str.contains(\n",
    "              r'\\$[\\d,]+ to \\$[\\d,]+|^Under \\$[\\d,]+|and over$', na=False))\n",
    "    ]\n",
    "print(f\"After retaining valid income ranges: {filtered_profiles_df.shape}\")"
   ]
  },
  {
   "cell_type": "markdown",
   "id": "48ab9b36",
   "metadata": {},
   "source": [
    "Next, we want to get rid of '  $100,000 and over' since it is controdicting other values."
   ]
  },
  {
   "cell_type": "code",
   "execution_count": 26,
   "id": "48289f5b",
   "metadata": {},
   "outputs": [
    {
     "name": "stdout",
     "output_type": "stream",
     "text": [
      "After removing '$100,000 and over': (38, 146)\n"
     ]
    }
   ],
   "source": [
    "# Step 8: Remove \"$100,000 and over\"\n",
    "if \"Characteristic\" in filtered_profiles_df.columns:\n",
    "    # Strip any leading/trailing spaces from the Characteristic column (common issue)\n",
    "    filtered_profiles_df[\"Characteristic\"] = filtered_profiles_df[\"Characteristic\"].str.strip()\n",
    "\n",
    "    # Remove rows where \"Characteristic\" is \"$100,000 and over\"\n",
    "    filtered_profiles_df = filtered_profiles_df[\n",
    "        filtered_profiles_df[\"Characteristic\"] != \"$100,000 and over\"\n",
    "    ]\n",
    "    print(f\"After removing '$100,000 and over': {filtered_profiles_df.shape}\")\n",
    "else:\n",
    "    print(\"Column 'Characteristic' not found in the DataFrame.\")"
   ]
  },
  {
   "cell_type": "code",
   "execution_count": 27,
   "id": "2aaa1281",
   "metadata": {},
   "outputs": [
    {
     "name": "stdout",
     "output_type": "stream",
     "text": [
      "DataFrame has been saved as 'filtered_profiles.csv'.\n"
     ]
    }
   ],
   "source": [
    "# Save the current DataFrame to a CSV file\n",
    "filtered_profiles_df.to_csv(\"filtered_profiles.csv\", index=False)\n",
    "\n",
    "print(\"DataFrame has been saved as 'filtered_profiles.csv'.\")"
   ]
  },
  {
   "cell_type": "markdown",
   "id": "224b1fde",
   "metadata": {},
   "source": [
    "Now, we need to take care of the duplicating ranges by adding values together:"
   ]
  },
  {
   "cell_type": "code",
   "execution_count": 28,
   "id": "c9795246",
   "metadata": {},
   "outputs": [
    {
     "name": "stdout",
     "output_type": "stream",
     "text": [
      "After grouping duplicate income ranges: (21, 146)\n"
     ]
    },
    {
     "name": "stderr",
     "output_type": "stream",
     "text": [
      "C:\\Users\\clara\\AppData\\Local\\Temp\\ipykernel_18516\\1735975004.py:23: PerformanceWarning: DataFrame is highly fragmented.  This is usually the result of calling `frame.insert` many times, which has poor performance.  Consider joining all columns at once using pd.concat(axis=1) instead. To get a de-fragmented frame, use `newframe = frame.copy()`\n",
      "  grouped_income_df = income_df.groupby(\"Characteristic\", as_index=False)[numeric_columns].sum()\n"
     ]
    }
   ],
   "source": [
    "# Step 9: Handle duplicating income ranges by summing values across neighborhoods\n",
    "# Removing commas and converting columns to numeric if possible\n",
    "filtered_profiles_cleaned = filtered_profiles_df.copy()\n",
    "\n",
    "# Assuming columns from index 5 onwards are neighborhoods (adjust index if necessary)\n",
    "for col in filtered_profiles_cleaned.columns[5:]:\n",
    "    filtered_profiles_cleaned[col] = (\n",
    "        filtered_profiles_cleaned[col]\n",
    "        .replace(\",\", \"\", regex=True)  # Remove commas\n",
    "        .replace(\" \", \"\", regex=True)  # Remove spaces\n",
    "        .apply(pd.to_numeric, errors=\"coerce\")  # Convert to numeric, coerce errors\n",
    "    )\n",
    "\n",
    "# Check again for numeric columns after cleaning\n",
    "numeric_columns = filtered_profiles_cleaned.select_dtypes(include=[\"number\"]).columns\n",
    "\n",
    "# Aggregate only if numeric columns exist\n",
    "if numeric_columns.any():\n",
    "    # Filter for Income category\n",
    "    income_df = filtered_profiles_cleaned[filtered_profiles_cleaned[\"Category\"] == \"Income\"]\n",
    "\n",
    "    # Group by 'Characteristic' and sum numeric columns\n",
    "    grouped_income_df = income_df.groupby(\"Characteristic\", as_index=False)[numeric_columns].sum()\n",
    "\n",
    "    # Add back static columns like \"Category\" and \"Topic\"\n",
    "    grouped_income_df[\"Category\"] = \"Income\"\n",
    "    if \"Topic\" in income_df.columns:\n",
    "        grouped_income_df[\"Topic\"] = income_df[\"Topic\"].iloc[0]\n",
    "\n",
    "    # Replace original Income rows in the DataFrame with the aggregated data\n",
    "    non_income_df = filtered_profiles_cleaned[filtered_profiles_cleaned[\"Category\"] != \"Income\"]\n",
    "    filtered_profiles_df = pd.concat([non_income_df, grouped_income_df], ignore_index=True)\n",
    "\n",
    "    # Display the result\n",
    "    print(f\"After grouping duplicate income ranges: {filtered_profiles_df.shape}\")\n",
    "else:\n",
    "    print(\"No numeric columns found even after cleaning. Check your data formatting.\")\n"
   ]
  },
  {
   "cell_type": "markdown",
   "id": "01fa1906",
   "metadata": {},
   "source": [
    "Finally, we just need to remove some miscilaneous items that would not be helpful in our analysis. "
   ]
  },
  {
   "cell_type": "code",
   "execution_count": 29,
   "id": "1c1d5c8c",
   "metadata": {},
   "outputs": [
    {
     "name": "stdout",
     "output_type": "stream",
     "text": [
      "The 'Data Source' column has been removed.\n",
      "Size of the DataFrame after removing specific rows and columns: (20, 145)\n"
     ]
    }
   ],
   "source": [
    "# Remove the specific row containing \"Neighbourhood Information\" and \"TSNS2020 Designation\"\n",
    "filtered_profiles_df = filtered_profiles_df[\n",
    "    ~((filtered_profiles_df.iloc[:, 1] == \"Neighbourhood Information\") &\n",
    "      (filtered_profiles_df.iloc[:, 4] == \"TSNS2020 Designation\"))\n",
    "]\n",
    "\n",
    "# Drop the 'Data Source' column if it exists\n",
    "if \"Data Source\" in filtered_profiles_df.columns:\n",
    "    filtered_profiles_df = filtered_profiles_df.drop(columns=[\"Data Source\"])\n",
    "    print(\"The 'Data Source' column has been removed.\")\n",
    "\n",
    "# Display the size of the DataFrame after these changes\n",
    "print(f\"Size of the DataFrame after removing specific rows and columns: {filtered_profiles_df.shape}\")"
   ]
  },
  {
   "cell_type": "code",
   "execution_count": 30,
   "id": "6c7dbfd2",
   "metadata": {},
   "outputs": [
    {
     "name": "stdout",
     "output_type": "stream",
     "text": [
      "     _id                   Category                         Topic  \\\n",
      "0      1  Neighbourhood Information     Neighbourhood Information   \n",
      "2      3                 Population      Population and dwellings   \n",
      "3   2099                     Income  Income of households in 2015   \n",
      "4   2101                     Income  Income of households in 2015   \n",
      "5   2109                     Income  Income of households in 2015   \n",
      "6   2081                     Income  Income of households in 2015   \n",
      "7   1343                     Income  Income of households in 2015   \n",
      "8   2102                     Income  Income of households in 2015   \n",
      "9   1054                     Income  Income of households in 2015   \n",
      "10  2104                     Income  Income of households in 2015   \n",
      "11  2106                     Income  Income of households in 2015   \n",
      "12  2108                     Income  Income of households in 2015   \n",
      "13  2110                     Income  Income of households in 2015   \n",
      "14  2112                     Income  Income of households in 2015   \n",
      "15  2097                     Income  Income of households in 2015   \n",
      "16  2114                     Income  Income of households in 2015   \n",
      "17  2116                     Income  Income of households in 2015   \n",
      "18  2118                     Income  Income of households in 2015   \n",
      "19  2120                     Income  Income of households in 2015   \n",
      "20  2122                     Income  Income of households in 2015   \n",
      "\n",
      "          Characteristic  City of Toronto  Agincourt North  \\\n",
      "0   Neighbourhood Number              NaN            129.0   \n",
      "2       Population, 2016        2731571.0          29113.0   \n",
      "3     $10,000 to $14,999          73630.0            325.0   \n",
      "4   $100,000 to $124,999         194830.0           1890.0   \n",
      "5   $125,000 to $149,999         126560.0           1105.0   \n",
      "6     $15,000 to $19,999         109955.0            900.0   \n",
      "7   $150,000 to $199,999         188995.0           1105.0   \n",
      "8     $20,000 to $24,999          99225.0            660.0   \n",
      "9      $200,000 and over          96600.0            325.0   \n",
      "10    $25,000 to $29,999          99705.0           1105.0   \n",
      "11    $30,000 to $34,999         100460.0            870.0   \n",
      "12    $35,000 to $39,999         102660.0            965.0   \n",
      "13    $40,000 to $44,999         102055.0            875.0   \n",
      "14    $45,000 to $49,999          98035.0            910.0   \n",
      "15      $5,000 to $9,999          47070.0            210.0   \n",
      "16    $50,000 to $59,999         183090.0           1730.0   \n",
      "17    $60,000 to $69,999         162875.0           1455.0   \n",
      "18    $70,000 to $79,999         143310.0           1330.0   \n",
      "19    $80,000 to $89,999         123760.0           1165.0   \n",
      "20    $90,000 to $99,999         105055.0           1015.0   \n",
      "\n",
      "    Agincourt South-Malvern West  Alderwood    Annex  Banbury-Don Mills  ...  \\\n",
      "0                          128.0       20.0     95.0               42.0  ...   \n",
      "2                        23757.0    12054.0  30526.0            27695.0  ...   \n",
      "3                          400.0      160.0   1315.0              480.0  ...   \n",
      "4                         1490.0     1125.0   2425.0             2165.0  ...   \n",
      "5                          845.0      925.0   1685.0             1440.0  ...   \n",
      "6                          540.0      175.0   1525.0              835.0  ...   \n",
      "7                          900.0     1030.0   3895.0             2850.0  ...   \n",
      "8                          665.0      305.0   1300.0              825.0  ...   \n",
      "9                          285.0      360.0   2670.0             1750.0  ...   \n",
      "10                         815.0      325.0   1155.0              940.0  ...   \n",
      "11                         765.0      325.0   1155.0              905.0  ...   \n",
      "12                         835.0      380.0   1230.0             1045.0  ...   \n",
      "13                         840.0      345.0   1185.0             1015.0  ...   \n",
      "14                         860.0      390.0   1170.0              975.0  ...   \n",
      "15                         270.0       80.0    970.0              305.0  ...   \n",
      "16                        1630.0      725.0   2160.0             2110.0  ...   \n",
      "17                        1400.0      655.0   1960.0             1885.0  ...   \n",
      "18                        1225.0      685.0   1615.0             1570.0  ...   \n",
      "19                        1010.0      585.0   1465.0             1345.0  ...   \n",
      "20                         810.0      515.0   1225.0             1200.0  ...   \n",
      "\n",
      "    Willowdale West  Willowridge-Martingrove-Richview   Woburn  \\\n",
      "0              37.0                               7.0    137.0   \n",
      "2           16936.0                           22156.0  53485.0   \n",
      "3             515.0                             310.0   1370.0   \n",
      "4            1265.0                            1755.0   3145.0   \n",
      "5             875.0                            1170.0   1740.0   \n",
      "6            1215.0                             600.0   2330.0   \n",
      "7            1330.0                            1580.0   1510.0   \n",
      "8             695.0                             770.0   1730.0   \n",
      "9             640.0                             655.0    430.0   \n",
      "10            645.0                             825.0   1980.0   \n",
      "11            600.0                             755.0   1945.0   \n",
      "12            555.0                             825.0   2010.0   \n",
      "13            565.0                             835.0   2030.0   \n",
      "14            535.0                             760.0   1835.0   \n",
      "15            440.0                             165.0    925.0   \n",
      "16            930.0                            1435.0   3630.0   \n",
      "17            875.0                            1295.0   2950.0   \n",
      "18            840.0                            1155.0   2555.0   \n",
      "19            795.0                            1065.0   2140.0   \n",
      "20            650.0                             870.0   1715.0   \n",
      "\n",
      "    Woodbine Corridor  Woodbine-Lumsden  Wychwood  Yonge-Eglinton  \\\n",
      "0                64.0              60.0      94.0           100.0   \n",
      "2             12541.0            7865.0   14349.0         11817.0   \n",
      "3               525.0             215.0     370.0           285.0   \n",
      "4              1080.0             775.0     950.0           925.0   \n",
      "5               910.0             580.0     680.0           670.0   \n",
      "6               640.0             395.0     800.0           365.0   \n",
      "7              1320.0             625.0    1165.0          1565.0   \n",
      "8               570.0             325.0     705.0           385.0   \n",
      "9               610.0             210.0     610.0          1110.0   \n",
      "10              415.0             280.0     515.0           385.0   \n",
      "11              445.0             250.0     490.0           420.0   \n",
      "12              380.0             270.0     515.0           465.0   \n",
      "13              410.0             280.0     505.0           435.0   \n",
      "14              390.0             255.0     450.0           420.0   \n",
      "15              250.0             125.0     245.0           210.0   \n",
      "16              655.0             535.0     900.0           845.0   \n",
      "17              615.0             440.0     790.0           790.0   \n",
      "18              520.0             445.0     695.0           670.0   \n",
      "19              555.0             430.0     605.0           530.0   \n",
      "20              485.0             380.0     525.0           485.0   \n",
      "\n",
      "    Yonge-St.Clair  York University Heights  Yorkdale-Glen Park  \n",
      "0             97.0                     27.0                31.0  \n",
      "2          12528.0                  27593.0             14804.0  \n",
      "3            375.0                    690.0               240.0  \n",
      "4           1150.0                   1525.0               985.0  \n",
      "5            785.0                    845.0               625.0  \n",
      "6            440.0                   1060.0               445.0  \n",
      "7           1855.0                    765.0               815.0  \n",
      "8            480.0                   1080.0               520.0  \n",
      "9           1380.0                    195.0               325.0  \n",
      "10           470.0                   1105.0               515.0  \n",
      "11           495.0                   1240.0               590.0  \n",
      "12           545.0                   1215.0               610.0  \n",
      "13           590.0                   1165.0               585.0  \n",
      "14           575.0                   1095.0               515.0  \n",
      "15           245.0                    450.0               135.0  \n",
      "16          1130.0                   2015.0               970.0  \n",
      "17           920.0                   1715.0               815.0  \n",
      "18           865.0                   1330.0               725.0  \n",
      "19           675.0                   1180.0               585.0  \n",
      "20           630.0                    950.0               505.0  \n",
      "\n",
      "[20 rows x 145 columns]\n"
     ]
    }
   ],
   "source": [
    "print(filtered_profiles_df.head(20))"
   ]
  },
  {
   "cell_type": "markdown",
   "id": "1c18e751",
   "metadata": {},
   "source": [
    "Now, let's save our dataframe prior to doing additional manipulations. "
   ]
  },
  {
   "cell_type": "code",
   "execution_count": 31,
   "id": "4fda9f9d",
   "metadata": {},
   "outputs": [
    {
     "name": "stdout",
     "output_type": "stream",
     "text": [
      "The final filtered Neighbourhood Profiles DataFrame has been saved as 'filtered_neighbourhood_profiles.csv'.\n"
     ]
    }
   ],
   "source": [
    "# Check if the DataFrame exists\n",
    "if \"filtered_profiles_df\" in locals():  # Replace \"filtered_profiles_df\" with the actual variable name if different\n",
    "    # Save the final filtered DataFrame\n",
    "    filtered_profiles_df.to_csv(\"filtered_neighbourhood_profiles.csv\", index=False)\n",
    "    print(\"The final filtered Neighbourhood Profiles DataFrame has been saved as 'filtered_neighbourhood_profiles.csv'.\")\n",
    "else:\n",
    "    print(f\"DataFrame 'filtered_profiles_df' not found.\")\n"
   ]
  },
  {
   "cell_type": "markdown",
   "id": "4c366b45",
   "metadata": {},
   "source": [
    "Final manipulation we want to do to our dataframe is to pivot it so it will be easier to merge in the future."
   ]
  },
  {
   "cell_type": "code",
   "execution_count": 32,
   "id": "e2e9a3e9",
   "metadata": {},
   "outputs": [
    {
     "name": "stdout",
     "output_type": "stream",
     "text": [
      "The pivoted Neighbourhood Profiles DataFrame has been saved as 'pivoted_neighbourhood_profiles.csv'.\n"
     ]
    }
   ],
   "source": [
    "# Pivot the DataFrame by transposing (switching rows and columns)\n",
    "pivoted_df = filtered_profiles_df.T\n",
    "\n",
    "# Save the pivoted DataFrame\n",
    "pivoted_df.to_csv(\"pivoted_neighbourhood_profiles.csv\", index=True)\n",
    "print(\"The pivoted Neighbourhood Profiles DataFrame has been saved as 'pivoted_neighbourhood_profiles.csv'.\")"
   ]
  },
  {
   "cell_type": "markdown",
   "id": "a55f5fde",
   "metadata": {},
   "source": [
    "# Dataframe 4 - Parks and Recreational Facilities"
   ]
  },
  {
   "cell_type": "markdown",
   "id": "32d801bf",
   "metadata": {},
   "source": [
    "Let's prepare another dataframe with Parks and Recreational Facilities information. Let's review the file and see what information it offers to us. Let's take a look at list of columnts and see if all necessary for our analysis."
   ]
  },
  {
   "cell_type": "code",
   "execution_count": 33,
   "id": "2d706ce3",
   "metadata": {},
   "outputs": [
    {
     "name": "stdout",
     "output_type": "stream",
     "text": [
      "List of columns in Parks and Recreational Facilities DataFrame:\n",
      "['_id', 'LOCATIONID', 'ASSET_ID', 'ASSET_NAME', 'TYPE', 'AMENITIES', 'ADDRESS', 'PHONE', 'URL', 'geometry']\n"
     ]
    }
   ],
   "source": [
    "# Display the list of columns for the Parks and Recreational Facilities DataFrame\n",
    "parks_df_name = \"Parks And Recreational Facilities Parks And Recreation Facilities - 4326\"\n",
    "if parks_df_name in dataframes:\n",
    "    parks_df = dataframes[parks_df_name]\n",
    "    print(\"List of columns in Parks and Recreational Facilities DataFrame:\")\n",
    "    print(parks_df.columns.tolist())\n",
    "else:\n",
    "    print(f\"DataFrame '{parks_df_name}' not found.\")"
   ]
  },
  {
   "cell_type": "markdown",
   "id": "79f6f0a6",
   "metadata": {},
   "source": [
    "We do not need following columns and they can be removed from or dataframe: phone and url. Let's remove them from our dataframe."
   ]
  },
  {
   "cell_type": "code",
   "execution_count": 34,
   "id": "f35711ba",
   "metadata": {},
   "outputs": [
    {
     "name": "stdout",
     "output_type": "stream",
     "text": [
      "Unnecessary columns have been removed.\n",
      "Updated list of columns: ['_id', 'LOCATIONID', 'ASSET_ID', 'ASSET_NAME', 'TYPE', 'AMENITIES', 'ADDRESS', 'geometry']\n"
     ]
    }
   ],
   "source": [
    "# Step 1: Remove unnecessary columns 'PHONE' and 'URL'\n",
    "parks_df_name = \"Parks And Recreational Facilities Parks And Recreation Facilities - 4326\"\n",
    "\n",
    "if parks_df_name in dataframes:\n",
    "    parks_df = dataframes[parks_df_name]\n",
    "    \n",
    "    # Dropping the unnecessary columns\n",
    "    columns_to_remove = [\"PHONE\", \"URL\"]\n",
    "    parks_df = parks_df.drop(columns=columns_to_remove, errors=\"ignore\")\n",
    "    \n",
    "    print(\"Unnecessary columns have been removed.\")\n",
    "    print(f\"Updated list of columns: {parks_df.columns.tolist()}\")\n",
    "else:\n",
    "    print(f\"DataFrame '{parks_df_name}' not found.\")"
   ]
  },
  {
   "cell_type": "markdown",
   "id": "e108a904",
   "metadata": {},
   "source": [
    "Now, we need to check if dataframe has any missing values."
   ]
  },
  {
   "cell_type": "code",
   "execution_count": 35,
   "id": "aebdb94e",
   "metadata": {},
   "outputs": [
    {
     "name": "stdout",
     "output_type": "stream",
     "text": [
      "Missing values in each column:\n",
      "_id              0\n",
      "LOCATIONID       0\n",
      "ASSET_ID         0\n",
      "ASSET_NAME       0\n",
      "TYPE             0\n",
      "AMENITIES      547\n",
      "ADDRESS          0\n",
      "PHONE         1502\n",
      "URL              0\n",
      "geometry         0\n",
      "dtype: int64\n"
     ]
    }
   ],
   "source": [
    "# Step 2: Check for missing values in the Parks and Recreational Facilities DataFrame\n",
    "if parks_df_name in dataframes:\n",
    "    parks_df = dataframes[parks_df_name]\n",
    "\n",
    "    # Checking for missing values\n",
    "    missing_values = parks_df.isnull().sum()\n",
    "\n",
    "    print(\"Missing values in each column:\")\n",
    "    print(missing_values)\n",
    "else:\n",
    "    print(f\"DataFrame '{parks_df_name}' not found.\")"
   ]
  },
  {
   "cell_type": "markdown",
   "id": "8eb63569",
   "metadata": {},
   "source": [
    "# Dataframe 5 - Schools"
   ]
  },
  {
   "cell_type": "markdown",
   "id": "56bafa5d",
   "metadata": {},
   "source": [
    "Let's prepare another dataframe with Schools information. Let's review the file and see what information it offers to us. Let's take a look at list of columnts and see if all necessary for our analysis."
   ]
  },
  {
   "cell_type": "code",
   "execution_count": 36,
   "id": "9443acdd",
   "metadata": {},
   "outputs": [
    {
     "name": "stdout",
     "output_type": "stream",
     "text": [
      "List of columns in Schools DataFrame:\n",
      "['_id', 'OBJECTID', 'GEO_ID', 'NAME', 'SCHOOL_LEVEL', 'SCHOOL_TYPE', 'BOARD_NAME', 'SOURCE_ADDRESS', 'SCHOOL_TYPE_DESC', 'ADDRESS_POINT_ID', 'ADDRESS_NUMBER', 'LINEAR_NAME_FULL', 'ADDRESS_FULL', 'POSTAL_CODE', 'MUNICIPALITY', 'CITY', 'PLACE_NAME', 'GENERAL_USE_CODE', 'CENTRELINE_ID', 'LO_NUM', 'LO_NUM_SUF', 'HI_NUM', 'HI_NUM_SUF', 'LINEAR_NAME_ID', 'geometry']\n"
     ]
    }
   ],
   "source": [
    "# Display the list of columns for the Schools DataFrame\n",
    "schools_df_name = \"Schools School Locations-All Types Data - 4326\"\n",
    "if schools_df_name in dataframes:\n",
    "    schools_df = dataframes[schools_df_name]\n",
    "    print(\"List of columns in Schools DataFrame:\")\n",
    "    print(schools_df.columns.tolist())\n",
    "else:\n",
    "    print(f\"DataFrame '{schools_df_name}' not found.\")"
   ]
  },
  {
   "cell_type": "markdown",
   "id": "5fdfe8d1",
   "metadata": {},
   "source": [
    "We do not need following columns and they can be removed from or dataframe:school level, school type, school type desc, linear name full, general use code, lo num, lo mun suf, hi num, hi num suf, linera name id. Let's remove them from our dataframe."
   ]
  },
  {
   "cell_type": "code",
   "execution_count": 37,
   "id": "ffe7d276",
   "metadata": {
    "scrolled": true
   },
   "outputs": [
    {
     "name": "stdout",
     "output_type": "stream",
     "text": [
      "Unnecessary columns have been removed.\n",
      "Updated list of columns: ['_id', 'OBJECTID', 'GEO_ID', 'NAME', 'BOARD_NAME', 'SOURCE_ADDRESS', 'ADDRESS_POINT_ID', 'ADDRESS_NUMBER', 'ADDRESS_FULL', 'POSTAL_CODE', 'MUNICIPALITY', 'CITY', 'PLACE_NAME', 'CENTRELINE_ID', 'geometry']\n"
     ]
    }
   ],
   "source": [
    "# Step 1: Remove unnecessary columns from the Schools DataFrame\n",
    "schools_df_name = \"Schools School Locations-All Types Data - 4326\"\n",
    "\n",
    "if schools_df_name in dataframes:\n",
    "    schools_df = dataframes[schools_df_name]\n",
    "    \n",
    "    # List of columns to drop\n",
    "    columns_to_remove = [\n",
    "        'SCHOOL_LEVEL', 'SCHOOL_TYPE', 'SCHOOL_TYPE_DESC', \n",
    "        'LINEAR_NAME_FULL', 'GENERAL_USE_CODE', 'LO_NUM', \n",
    "        'LO_NUM_SUF', 'HI_NUM', 'HI_NUM_SUF', 'LINEAR_NAME_ID'\n",
    "    ]\n",
    "    \n",
    "    # Removing the columns\n",
    "    schools_df = schools_df.drop(columns=columns_to_remove, errors='ignore')\n",
    "    dataframes[schools_df_name] = schools_df  # Update the dataframe in the dataframes dictionary\n",
    "    \n",
    "    # Confirming changes\n",
    "    print(\"Unnecessary columns have been removed.\")\n",
    "    print(\"Updated list of columns:\", schools_df.columns.tolist())\n",
    "else:\n",
    "    print(f\"DataFrame '{schools_df_name}' not found.\")"
   ]
  },
  {
   "cell_type": "markdown",
   "id": "b64833ce",
   "metadata": {},
   "source": [
    "Now, we need to check if dataframe has any missing values."
   ]
  },
  {
   "cell_type": "code",
   "execution_count": 38,
   "id": "437401eb",
   "metadata": {},
   "outputs": [
    {
     "name": "stdout",
     "output_type": "stream",
     "text": [
      "Missing data in the Schools DataFrame:\n",
      "BOARD_NAME     348\n",
      "POSTAL_CODE      6\n",
      "PLACE_NAME     325\n",
      "dtype: int64\n",
      "\n",
      "Total missing values in the Schools DataFrame: 679\n"
     ]
    }
   ],
   "source": [
    "# Step 2: Check for missing data in the Schools DataFrame\n",
    "if schools_df_name in dataframes:\n",
    "    schools_df = dataframes[schools_df_name]\n",
    "    \n",
    "    # Check for missing values\n",
    "    missing_data = schools_df.isnull().sum()\n",
    "    print(\"Missing data in the Schools DataFrame:\")\n",
    "    print(missing_data[missing_data > 0])  # Display columns with missing values only\n",
    "    \n",
    "    # Summary of missing data\n",
    "    total_missing = missing_data.sum()\n",
    "    print(f\"\\nTotal missing values in the Schools DataFrame: {total_missing}\")\n",
    "else:\n",
    "    print(f\"DataFrame '{schools_df_name}' not found.\")"
   ]
  },
  {
   "cell_type": "markdown",
   "id": "2260b38e",
   "metadata": {},
   "source": [
    "# Now need to deal with Homless shelters file\n",
    "It needs to be extracted, read and prepared to be merged with the rest of the data."
   ]
  },
  {
   "cell_type": "code",
   "execution_count": 39,
   "id": "f9c9e4f8",
   "metadata": {},
   "outputs": [
    {
     "name": "stdout",
     "output_type": "stream",
     "text": [
      "Skipping non-ZIP file: Homeless_Shelters_drop-in-readme\n"
     ]
    },
    {
     "name": "stdout",
     "output_type": "stream",
     "text": [
      "Extracted ZIP file: Homeless_Shelters_drop-in-wgs84\n",
      "<class 'geopandas.geodataframe.GeoDataFrame'>\n",
      "RangeIndex: 51 entries, 0 to 50\n",
      "Data columns (total 11 columns):\n",
      " #   Column      Non-Null Count  Dtype   \n",
      "---  ------      --------------  -----   \n",
      " 0   ADDRESS_PO  51 non-null     int32   \n",
      " 1   POSTAL_COD  49 non-null     object  \n",
      " 2   MUNICIPALI  51 non-null     object  \n",
      " 3   CITY        51 non-null     object  \n",
      " 4   CENTRELINE  51 non-null     int32   \n",
      " 5   OBJECTID    51 non-null     int64   \n",
      " 6   NAME        51 non-null     object  \n",
      " 7   ORGANIZATI  51 non-null     object  \n",
      " 8   FACILITY    51 non-null     object  \n",
      " 9   Address     51 non-null     object  \n",
      " 10  geometry    51 non-null     geometry\n",
      "dtypes: geometry(1), int32(2), int64(1), object(7)\n",
      "memory usage: 4.1+ KB\n",
      "None\n",
      "   ADDRESS_PO POSTAL_COD      MUNICIPALI     CITY  CENTRELINE  OBJECTID  \\\n",
      "0     2884346     M5C2H4  former TORONTO  Toronto     2884350        12   \n",
      "1     7641992     M5B2P3  former TORONTO  Toronto     7641989        35   \n",
      "2     4014968     M5A2G3  former TORONTO  Toronto     4014966       111   \n",
      "3     8292595     M4M1G5  former TORONTO  Toronto     8292593       121   \n",
      "4     5724486    M3L 1B2      NORTH YORK  Toronto      444991       127   \n",
      "\n",
      "                                               NAME  \\\n",
      "0                           Gateway Shelter Drop-In   \n",
      "1                            Covenant House Drop-In   \n",
      "2  Neighbourhood Information Post Self-Help Drop In   \n",
      "3                                 WoodGreen Drop-In   \n",
      "4                          COSTI North York Drop-In   \n",
      "\n",
      "                                  ORGANIZATI  \\\n",
      "0  Salvation Army Govering Council in Canada   \n",
      "1                             Covenant House   \n",
      "2             Neighbourhood Information Post   \n",
      "3               WoodGreen Community Services   \n",
      "4                   COSTI Immigrant Services   \n",
      "\n",
      "                           FACILITY                       Address  \\\n",
      "0    Salvation Army Gateway Shelter                 107 Jarvis St   \n",
      "1                    Covenant House               20 Gerrard St E   \n",
      "2  Parliament Street Public Library  269 Gerrard St E - 2nd Floor   \n",
      "3      WoodGreen Community Services                650 Queen St E   \n",
      "4                     Sheridan Mall       1700 Wilson Ave - # 114   \n",
      "\n",
      "                     geometry  \n",
      "0  POINT (-79.37248 43.65232)  \n",
      "1   POINT (-79.38144 43.6595)  \n",
      "2  POINT (-79.36796 43.66184)  \n",
      "3  POINT (-79.35205 43.65856)  \n",
      "4  POINT (-79.51253 43.72097)  \n"
     ]
    },
    {
     "data": {
      "image/png": "[encoded data removed]",
      "text/plain": [
       "<Figure size 1000x1000 with 1 Axes>"
      ]
     },
     "metadata": {},
     "output_type": "display_data"
    },
    {
     "name": "stdout",
     "output_type": "stream",
     "text": [
      "Skipping non-ZIP file: Homeless_Shelters_extracted\n",
      "Skipping non-ZIP file: Homeless_Shelters_filtered.cpg\n",
      "Skipping non-ZIP file: Homeless_Shelters_filtered.dbf\n",
      "Skipping non-ZIP file: Homeless_Shelters_filtered.prj\n",
      "Skipping non-ZIP file: Homeless_Shelters_filtered.shp\n",
      "Skipping non-ZIP file: Homeless_Shelters_filtered.shx\n"
     ]
    }
   ],
   "source": [
    "# Directory containing the dataset files\n",
    "output_dir = \"toronto_datasets_api\"\n",
    "\n",
    "# Locate the homeless shelters ZIP file\n",
    "shelters_files = [f for f in os.listdir(output_dir) if \"homeless_shelters\" in f.lower()]\n",
    "if not shelters_files:\n",
    "    raise FileNotFoundError(\"Homeless shelters file not found in the output directory.\")\n",
    "\n",
    "# Process each file\n",
    "for shelters_file in shelters_files:\n",
    "    shelters_file_path = os.path.join(output_dir, shelters_file)\n",
    "    \n",
    "    # If the file is a ZIP archive, extract it\n",
    "    if zipfile.is_zipfile(shelters_file_path):\n",
    "        try:\n",
    "            with zipfile.ZipFile(shelters_file_path, 'r') as zip_ref:\n",
    "                extract_dir = os.path.join(output_dir, \"homeless_shelters_extracted\")\n",
    "                zip_ref.extractall(extract_dir)\n",
    "            print(f\"Extracted ZIP file: {shelters_file}\")\n",
    "        except zipfile.BadZipFile:\n",
    "            print(f\"Skipping invalid ZIP file: {shelters_file}\")\n",
    "            continue\n",
    "\n",
    "        # Locate the shapefile inside the extracted contents\n",
    "        shapefile = [f for f in os.listdir(extract_dir) if f.endswith(\".shp\")]\n",
    "        if not shapefile:\n",
    "            print(\"No shapefile found in the extracted ZIP contents.\")\n",
    "            continue\n",
    "        shapefile_path = os.path.join(extract_dir, shapefile[0])\n",
    "\n",
    "    # If the file is not a ZIP archive, skip it\n",
    "    else:\n",
    "        print(f\"Skipping non-ZIP file: {shelters_file}\")\n",
    "        continue\n",
    "\n",
    "    # Read the shapefile into a GeoDataFrame\n",
    "    gdf = gpd.read_file(shapefile_path)\n",
    "\n",
    "    # Display basic information about the data\n",
    "    print(gdf.info())\n",
    "    print(gdf.head())\n",
    "\n",
    "    # Plot the GeoDataFrame to visualize the data\n",
    "    fig, ax = plt.subplots(figsize=(10, 10))\n",
    "    gdf.plot(ax=ax, color=\"blue\", edgecolor=\"black\", alpha=0.7)\n",
    "    ax.set_title(\"Homeless Shelters Locations\")\n",
    "    plt.show()   "
   ]
  },
  {
   "cell_type": "markdown",
   "id": "ab1db8ed",
   "metadata": {},
   "source": [
    "We do not need all the information available in dataframe, therefore we will only keep 'FACILITY', 'Address', and 'geometry'. "
   ]
  },
  {
   "cell_type": "code",
   "execution_count": 40,
   "id": "1cd37ce7",
   "metadata": {},
   "outputs": [
    {
     "name": "stdout",
     "output_type": "stream",
     "text": [
      "                           FACILITY                       Address  \\\n",
      "0    Salvation Army Gateway Shelter                 107 Jarvis St   \n",
      "1                    Covenant House               20 Gerrard St E   \n",
      "2  Parliament Street Public Library  269 Gerrard St E - 2nd Floor   \n",
      "3      WoodGreen Community Services                650 Queen St E   \n",
      "4                     Sheridan Mall       1700 Wilson Ave - # 114   \n",
      "\n",
      "                     geometry  \n",
      "0  POINT (-79.37248 43.65232)  \n",
      "1   POINT (-79.38144 43.6595)  \n",
      "2  POINT (-79.36796 43.66184)  \n",
      "3  POINT (-79.35205 43.65856)  \n",
      "4  POINT (-79.51253 43.72097)  \n"
     ]
    },
    {
     "data": {
      "image/png": "[encoded data removed]",
      "text/plain": [
       "<Figure size 1000x1000 with 1 Axes>"
      ]
     },
     "metadata": {},
     "output_type": "display_data"
    }
   ],
   "source": [
    "# Filter the columns to keep only the specified ones\n",
    "filtered_gdf = gdf[['FACILITY', 'Address', 'geometry']]\n",
    "\n",
    "# Display the filtered GeoDataFrame\n",
    "print(filtered_gdf.head())\n",
    "\n",
    "# Save the streamlined GeoDataFrame to a new file (optional)\n",
    "output_filtered_file = os.path.join(output_dir, \"Homeless_Shelters_filtered.shp\")\n",
    "filtered_gdf.to_file(output_filtered_file)\n",
    "\n",
    "# Visualization (optional)\n",
    "fig, ax = plt.subplots(figsize=(10, 10))\n",
    "filtered_gdf.plot(ax=ax, color=\"blue\", edgecolor=\"black\", alpha=0.7)\n",
    "ax.set_title(\"Filtered Homeless Shelters Locations\")\n",
    "plt.show()"
   ]
  },
  {
   "cell_type": "markdown",
   "id": "f77de207",
   "metadata": {},
   "source": [
    "Before finalizing our handelling of Homeless Shelter data, let's confirm that there are no values missing."
   ]
  },
  {
   "cell_type": "code",
   "execution_count": 41,
   "id": "8fa9ce3f",
   "metadata": {},
   "outputs": [
    {
     "name": "stdout",
     "output_type": "stream",
     "text": [
      "Missing values per column:\n",
      "FACILITY    0\n",
      "Address     0\n",
      "geometry    0\n",
      "dtype: int64\n",
      "\n",
      "Percentage of missing values per column:\n",
      "FACILITY    0.0\n",
      "Address     0.0\n",
      "geometry    0.0\n",
      "dtype: float64\n",
      "\n",
      "Number of rows with missing values: 0\n"
     ]
    }
   ],
   "source": [
    "# Check for missing values in the filtered GeoDataFrame\n",
    "missing_info = filtered_gdf.isnull().sum()\n",
    "print(\"Missing values per column:\")\n",
    "print(missing_info)\n",
    "\n",
    "# Calculate percentage of missing data\n",
    "missing_percentage = (filtered_gdf.isnull().mean()) * 100\n",
    "print(\"\\nPercentage of missing values per column:\")\n",
    "print(missing_percentage)\n",
    "\n",
    "# Identify rows with missing values in any column\n",
    "rows_with_missing = filtered_gdf[filtered_gdf.isnull().any(axis=1)]\n",
    "print(f\"\\nNumber of rows with missing values: {len(rows_with_missing)}\")"
   ]
  },
  {
   "cell_type": "markdown",
   "id": "df46e7f0",
   "metadata": {},
   "source": [
    "# Now, it is time to merge the dataframes"
   ]
  },
  {
   "cell_type": "markdown",
   "id": "17b2a8c8",
   "metadata": {},
   "source": [
    "First, we need to ensure that collumns can be merged based on geometry."
   ]
  },
  {
   "cell_type": "code",
   "execution_count": 43,
   "id": "212c91f9",
   "metadata": {},
   "outputs": [
    {
     "name": "stdout",
     "output_type": "stream",
     "text": [
      "GeoDataFrame 1 is missing 'geometry' column.\n"
     ]
    }
   ],
   "source": [
    "# Check for geometry column in all GeoDataFrames\n",
    "geo_dfs = [geocoded_df, neighbourhoods_df_cleaned, parks_df, schools_df, filtered_gdf]\n",
    "for idx, gdf in enumerate(geo_dfs, start=1):\n",
    "    if 'geometry' not in gdf.columns:\n",
    "        print(f\"GeoDataFrame {idx} is missing 'geometry' column.\")"
   ]
  },
  {
   "cell_type": "markdown",
   "id": "9adc0f56",
   "metadata": {},
   "source": [
    "For that we need to make sire that all DataFrames are GeoDataFrames."
   ]
  },
  {
   "cell_type": "code",
   "execution_count": 44,
   "id": "8af0cffa",
   "metadata": {},
   "outputs": [
    {
     "name": "stdout",
     "output_type": "stream",
     "text": [
      "GeoDataFrame 1 is not a GeoDataFrame. It is of type <class 'pandas.core.frame.DataFrame'>\n",
      "GeoDataFrame 2 is not a GeoDataFrame. It is of type <class 'pandas.core.frame.DataFrame'>\n",
      "GeoDataFrame 3 is not a GeoDataFrame. It is of type <class 'pandas.core.frame.DataFrame'>\n",
      "GeoDataFrame 4 is not a GeoDataFrame. It is of type <class 'pandas.core.frame.DataFrame'>\n"
     ]
    }
   ],
   "source": [
    "for idx, gdf in enumerate(geo_dfs, start=1):\n",
    "    if not isinstance(gdf, gpd.GeoDataFrame):\n",
    "        print(f\"GeoDataFrame {idx} is not a GeoDataFrame. It is of type {type(gdf)}\")\n"
   ]
  },
  {
   "cell_type": "code",
   "execution_count": 45,
   "id": "e8b4e69f",
   "metadata": {},
   "outputs": [
    {
     "name": "stdout",
     "output_type": "stream",
     "text": [
      "0    {\"type\": \"MultiPolygon\", \"coordinates\": [[[[-7...\n",
      "1    {\"type\": \"MultiPolygon\", \"coordinates\": [[[[-7...\n",
      "2    {\"type\": \"MultiPolygon\", \"coordinates\": [[[[-7...\n",
      "3    {\"type\": \"MultiPolygon\", \"coordinates\": [[[[-7...\n",
      "4    {\"type\": \"MultiPolygon\", \"coordinates\": [[[[-7...\n",
      "Name: geometry, dtype: object\n",
      "0    {\"type\": \"MultiPoint\", \"coordinates\": [[-79.31...\n",
      "1    {\"type\": \"MultiPoint\", \"coordinates\": [[-79.49...\n",
      "2    {\"type\": \"MultiPoint\", \"coordinates\": [[-79.41...\n",
      "3    {\"type\": \"MultiPoint\", \"coordinates\": [[-79.55...\n",
      "4    {\"type\": \"MultiPoint\", \"coordinates\": [[-79.38...\n",
      "Name: geometry, dtype: object\n",
      "0    {\"type\": \"MultiPoint\", \"coordinates\": [[-79.26...\n",
      "1    {\"type\": \"MultiPoint\", \"coordinates\": [[-79.32...\n",
      "2    {\"type\": \"MultiPoint\", \"coordinates\": [[-79.32...\n",
      "3    {\"type\": \"MultiPoint\", \"coordinates\": [[-79.36...\n",
      "4    {\"type\": \"MultiPoint\", \"coordinates\": [[-79.31...\n",
      "Name: geometry, dtype: object\n"
     ]
    }
   ],
   "source": [
    "print(neighbourhoods_df_cleaned['geometry'].head())\n",
    "print(parks_df['geometry'].head())\n",
    "print(schools_df['geometry'].head())\n"
   ]
  },
  {
   "cell_type": "markdown",
   "id": "adb40c1b",
   "metadata": {},
   "source": [
    "Since not all DataFrames are GeoDataFrames, we need to convert them. "
   ]
  },
  {
   "cell_type": "code",
   "execution_count": 46,
   "id": "bba51f7c",
   "metadata": {},
   "outputs": [],
   "source": [
    "# Function to parse geometry from GeoJSON-like strings\n",
    "def parse_geojson_geometry(df):\n",
    "    if 'geometry' not in df.columns:\n",
    "        raise ValueError(\"The DataFrame does not have a 'geometry' column.\")\n",
    "    \n",
    "    df['geometry'] = df['geometry'].apply(lambda geom: shape(json.loads(geom)) if isinstance(geom, str) else geom)\n",
    "    return df"
   ]
  },
  {
   "cell_type": "code",
   "execution_count": 47,
   "id": "875ffbb5",
   "metadata": {},
   "outputs": [
    {
     "name": "stdout",
     "output_type": "stream",
     "text": [
      "Error converting DataFrame: ParseException: Unknown type: '{\"TYPE\":'\n"
     ]
    }
   ],
   "source": [
    "from shapely import wkt\n",
    "import geopandas as gpd\n",
    "\n",
    "# Helper function to convert a DataFrame to a GeoDataFrame\n",
    "def convert_to_geodataframe(df, crs=\"EPSG:4326\"):\n",
    "    if 'geometry' not in df.columns:\n",
    "        raise ValueError(\"The DataFrame does not have a 'geometry' column.\")\n",
    "    \n",
    "    # Convert 'geometry' to valid geometry objects if needed\n",
    "    if df['geometry'].dtype == object:  # Likely contains WKT strings\n",
    "        df['geometry'] = df['geometry'].apply(wkt.loads)\n",
    "\n",
    "    # Create a GeoDataFrame\n",
    "    return gpd.GeoDataFrame(df, geometry=df['geometry'], crs=crs)\n",
    "\n",
    "# Convert the problematic DataFrames\n",
    "try:\n",
    "    neighbourhoods_df_cleaned = convert_to_geodataframe(neighbourhoods_df_cleaned)\n",
    "    parks_df = convert_to_geodataframe(parks_df)\n",
    "    schools_df = convert_to_geodataframe(schools_df)\n",
    "    print(\"Converted all DataFrames to GeoDataFrames.\")\n",
    "except Exception as e:\n",
    "    print(f\"Error converting DataFrame: {e}\")"
   ]
  },
  {
   "cell_type": "code",
   "execution_count": 48,
   "id": "8f643bdc",
   "metadata": {},
   "outputs": [],
   "source": [
    "# Parse geometry for each DataFrame\n",
    "neighbourhoods_df_cleaned = parse_geojson_geometry(neighbourhoods_df_cleaned)\n",
    "parks_df = parse_geojson_geometry(parks_df)\n",
    "schools_df = parse_geojson_geometry(schools_df)"
   ]
  },
  {
   "cell_type": "code",
   "execution_count": 49,
   "id": "ebcae0da",
   "metadata": {},
   "outputs": [],
   "source": [
    "# Convert to GeoDataFrame with CRS EPSG:4326\n",
    "neighbourhoods_gdf = gpd.GeoDataFrame(neighbourhoods_df_cleaned, geometry=neighbourhoods_df_cleaned['geometry'], crs=\"EPSG:4326\")\n",
    "parks_gdf = gpd.GeoDataFrame(parks_df, geometry=parks_df['geometry'], crs=\"EPSG:4326\")\n",
    "schools_gdf = gpd.GeoDataFrame(schools_df, geometry=schools_df['geometry'], crs=\"EPSG:4326\")"
   ]
  },
  {
   "cell_type": "code",
   "execution_count": 50,
   "id": "bc8a6b79",
   "metadata": {},
   "outputs": [],
   "source": [
    "geo_dfs[1] = neighbourhoods_gdf\n",
    "geo_dfs[2] = parks_gdf\n",
    "geo_dfs[3] = schools_gdf"
   ]
  },
  {
   "cell_type": "code",
   "execution_count": 51,
   "id": "0cb0f961",
   "metadata": {},
   "outputs": [],
   "source": [
    "for idx, gdf in enumerate(geo_dfs, start=1):\n",
    "    if isinstance(gdf, gpd.GeoDataFrame):\n",
    "        if not gdf.geometry.is_valid.all():\n",
    "            print(f\"Invalid geometries found in GeoDataFrame {idx}.\")\n",
    "            gdf.geometry = gdf.geometry.buffer(0)  # Attempt to fix invalid geometries\n"
   ]
  },
  {
   "cell_type": "code",
   "execution_count": null,
   "id": "d6886b3f",
   "metadata": {},
   "outputs": [
    {
     "ename": "AttributeError",
     "evalue": "'DataFrame' object has no attribute 'crs'",
     "output_type": "error",
     "traceback": [
      "\u001b[1;31m---------------------------------------------------------------------------\u001b[0m",
      "\u001b[1;31mAttributeError\u001b[0m                            Traceback (most recent call last)",
      "\u001b[1;32m~\\AppData\\Local\\Temp\\ipykernel_18516\\1242523242.py\u001b[0m in \u001b[0;36m?\u001b[1;34m()\u001b[0m\n\u001b[0;32m      1\u001b[0m \u001b[1;32mfor\u001b[0m \u001b[0mgdf\u001b[0m \u001b[1;32min\u001b[0m \u001b[0mgeo_dfs\u001b[0m\u001b[1;33m:\u001b[0m\u001b[1;33m\u001b[0m\u001b[1;33m\u001b[0m\u001b[0m\n\u001b[1;32m----> 2\u001b[1;33m     \u001b[1;32mif\u001b[0m \u001b[0mgdf\u001b[0m\u001b[1;33m.\u001b[0m\u001b[0mcrs\u001b[0m \u001b[1;33m!=\u001b[0m \u001b[1;34m\"EPSG:4326\"\u001b[0m\u001b[1;33m:\u001b[0m\u001b[1;33m\u001b[0m\u001b[1;33m\u001b[0m\u001b[0m\n\u001b[0m\u001b[0;32m      3\u001b[0m         \u001b[0mgdf\u001b[0m\u001b[1;33m.\u001b[0m\u001b[0mto_crs\u001b[0m\u001b[1;33m(\u001b[0m\u001b[1;34m\"EPSG:4326\"\u001b[0m\u001b[1;33m,\u001b[0m \u001b[0minplace\u001b[0m\u001b[1;33m=\u001b[0m\u001b[1;32mTrue\u001b[0m\u001b[1;33m)\u001b[0m\u001b[1;33m\u001b[0m\u001b[1;33m\u001b[0m\u001b[0m\n",
      "\u001b[1;32mc:\\Users\\clara\\anaconda3\\Lib\\site-packages\\pandas\\core\\generic.py\u001b[0m in \u001b[0;36m?\u001b[1;34m(self, name)\u001b[0m\n\u001b[0;32m   6295\u001b[0m             \u001b[1;32mand\u001b[0m \u001b[0mname\u001b[0m \u001b[1;32mnot\u001b[0m \u001b[1;32min\u001b[0m \u001b[0mself\u001b[0m\u001b[1;33m.\u001b[0m\u001b[0m_accessors\u001b[0m\u001b[1;33m\u001b[0m\u001b[1;33m\u001b[0m\u001b[0m\n\u001b[0;32m   6296\u001b[0m             \u001b[1;32mand\u001b[0m \u001b[0mself\u001b[0m\u001b[1;33m.\u001b[0m\u001b[0m_info_axis\u001b[0m\u001b[1;33m.\u001b[0m\u001b[0m_can_hold_identifiers_and_holds_name\u001b[0m\u001b[1;33m(\u001b[0m\u001b[0mname\u001b[0m\u001b[1;33m)\u001b[0m\u001b[1;33m\u001b[0m\u001b[1;33m\u001b[0m\u001b[0m\n\u001b[0;32m   6297\u001b[0m         \u001b[1;33m)\u001b[0m\u001b[1;33m:\u001b[0m\u001b[1;33m\u001b[0m\u001b[1;33m\u001b[0m\u001b[0m\n\u001b[0;32m   6298\u001b[0m             \u001b[1;32mreturn\u001b[0m \u001b[0mself\u001b[0m\u001b[1;33m[\u001b[0m\u001b[0mname\u001b[0m\u001b[1;33m]\u001b[0m\u001b[1;33m\u001b[0m\u001b[1;33m\u001b[0m\u001b[0m\n\u001b[1;32m-> 6299\u001b[1;33m         \u001b[1;32mreturn\u001b[0m \u001b[0mobject\u001b[0m\u001b[1;33m.\u001b[0m\u001b[0m__getattribute__\u001b[0m\u001b[1;33m(\u001b[0m\u001b[0mself\u001b[0m\u001b[1;33m,\u001b[0m \u001b[0mname\u001b[0m\u001b[1;33m)\u001b[0m\u001b[1;33m\u001b[0m\u001b[1;33m\u001b[0m\u001b[0m\n\u001b[0m",
      "\u001b[1;31mAttributeError\u001b[0m: 'DataFrame' object has no attribute 'crs'"
     ]
    }
   ],
   "source": [
    "# for gdf in geo_dfs:\n",
    "#     if gdf.crs != \"EPSG:4326\":\n",
    "#         gdf.to_crs(\"EPSG:4326\", inplace=True)"
   ]
  },
  {
   "cell_type": "markdown",
   "id": "e8718a8d",
   "metadata": {},
   "source": [
    "Now that our dataframes are ready, we can proceed with merge. \n",
    "Goal: Merge the cleaned GeoDataFrames (development_gdf, neighbourhoods_gdf, parks_gdf, schools_gdf, and filtered_gdf) into one cohesive GeoDataFrame.\n",
    "Logic: Use spatial relationships (e.g., intersections, containment) to join datasets where they share the same geographical areas or points."
   ]
  },
  {
   "cell_type": "code",
   "execution_count": null,
   "id": "8c9fca5d",
   "metadata": {},
   "outputs": [
    {
     "name": "stdout",
     "output_type": "stream",
     "text": [
      "Shape after merging with Development Applications: (21336, 17)\n"
     ]
    }
   ],
   "source": [
    "# # Spatial join: Neighbourhoods and Development Applications\n",
    "# merged_gdf = gpd.sjoin(neighbourhoods_gdf, development_gdf, how=\"left\", predicate=\"intersects\")\n",
    "# print(f\"Shape after merging with Development Applications: {merged_gdf.shape}\")"
   ]
  },
  {
   "cell_type": "code",
   "execution_count": null,
   "id": "0a2f1c99",
   "metadata": {},
   "outputs": [
    {
     "name": "stdout",
     "output_type": "stream",
     "text": [
      "Shape of neighbourhoods_gdf before merge: (158, 8)\n",
      "Columns in neighbourhoods_gdf before merge:\n",
      "Index(['_id', 'AREA_ID', 'AREA_SHORT_CODE', 'AREA_LONG_CODE', 'AREA_NAME',\n",
      "       'CLASSIFICATION', 'OBJECTID', 'geometry'],\n",
      "      dtype='object')\n",
      "Sample data from neighbourhoods_gdf:\n",
      "   _id  AREA_ID  AREA_SHORT_CODE  AREA_LONG_CODE                  AREA_NAME  \\\n",
      "0    1  2502366              174             174  South Eglinton-Davisville   \n",
      "1    2  2502365              173             173              North Toronto   \n",
      "2    3  2502364              172             172         Dovercourt Village   \n",
      "3    4  2502363              171             171   Junction-Wallace Emerson   \n",
      "4    5  2502362              170             170         Yonge-Bay Corridor   \n",
      "\n",
      "                         CLASSIFICATION  OBJECTID  \\\n",
      "0  Not an NIA or Emerging Neighbourhood  17824737   \n",
      "1  Not an NIA or Emerging Neighbourhood  17824753   \n",
      "2  Not an NIA or Emerging Neighbourhood  17824769   \n",
      "3  Not an NIA or Emerging Neighbourhood  17824785   \n",
      "4  Not an NIA or Emerging Neighbourhood  17824801   \n",
      "\n",
      "                                            geometry  \n",
      "0  MULTIPOLYGON (((-79.38635 43.69783, -79.38623 ...  \n",
      "1  MULTIPOLYGON (((-79.39744 43.70693, -79.39837 ...  \n",
      "2  MULTIPOLYGON (((-79.43411 43.66015, -79.43537 ...  \n",
      "3  MULTIPOLYGON (((-79.4387 43.66766, -79.43841 4...  \n",
      "4  MULTIPOLYGON (((-79.38404 43.64497, -79.38502 ...  \n"
     ]
    }
   ],
   "source": [
    "# # Shape and columns of neighbourhoods_gdf\n",
    "# print(f\"Shape of neighbourhoods_gdf before merge: {neighbourhoods_gdf.shape}\")\n",
    "# print(\"Columns in neighbourhoods_gdf before merge:\")\n",
    "# print(neighbourhoods_gdf.columns)\n",
    "\n",
    "# # Sample data\n",
    "# print(\"Sample data from neighbourhoods_gdf:\")\n",
    "# print(neighbourhoods_gdf.head())"
   ]
  },
  {
   "cell_type": "code",
   "execution_count": 53,
   "id": "60f88df9",
   "metadata": {},
   "outputs": [],
   "source": [
    "# Saved Cleaned Data to CSV in Folder 'cleaned neighborhood data'\n",
    "# Define the directory to save the CSV files\n",
    "save_directory = \"Cleaned_neighborhood_csvs\"\n",
    "\n",
    "# Create the directory if it doesn't exist\n",
    "if not os.path.exists(save_directory):\n",
    "    os.makedirs(save_directory)\n",
    "\n",
    "# Save each DataFrame to the CSV folder\n",
    "geocoded_df.to_csv(os.path.join(save_directory, \"geocoded_df.csv\"), index=False)\n",
    "neighbourhoods_df_cleaned.to_csv(os.path.join(save_directory, \"neighbourhoods_df_cleaned.csv\"), index=False)\n",
    "parks_df.to_csv(os.path.join(save_directory, \"parks_df.csv\"), index=False)\n",
    "schools_df.to_csv(os.path.join(save_directory, \"schools_df.csv\"), index=False)\n",
    "filtered_gdf.to_csv(os.path.join(save_directory, \"filtered_gdf.csv\"), index=False)"
   ]
  },
  {
   "cell_type": "code",
   "execution_count": null,
   "id": "f2eb1385",
   "metadata": {},
   "outputs": [],
   "source": []
  }
 ],
 "metadata": {
  "kernelspec": {
   "display_name": "base",
   "language": "python",
   "name": "python3"
  },
  "language_info": {
   "codemirror_mode": {
    "name": "ipython",
    "version": 3
   },
   "file_extension": ".py",
   "mimetype": "text/x-python",
   "name": "python",
   "nbconvert_exporter": "python",
   "pygments_lexer": "ipython3",
   "version": "3.12.4"
  }
 },
 "nbformat": 4,
 "nbformat_minor": 5
}
