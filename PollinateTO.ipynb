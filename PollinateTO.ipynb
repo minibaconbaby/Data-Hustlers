{
 "cells": [
  {
   "cell_type": "markdown",
   "metadata": {},
   "source": [
    "Pollenate TO Dataset"
   ]
  },
  {
   "cell_type": "code",
   "execution_count": 1,
   "metadata": {},
   "outputs": [],
   "source": [
    "import geopandas as gpd\n",
    "\n",
    "# Path to your GeoJSON file\n",
    "geojson_file_path = 'PollinateTO Primary Project Garden Locations - 4326.geojson'\n",
    "\n",
    "# Read the GeoJSON file\n",
    "data = gpd.read_file(geojson_file_path)\n",
    "\n"
   ]
  },
  {
   "cell_type": "code",
   "execution_count": null,
   "metadata": {},
   "outputs": [
    {
     "data": {
      "text/html": [
       "<div>\n",
       "<style scoped>\n",
       "    .dataframe tbody tr th:only-of-type {\n",
       "        vertical-align: middle;\n",
       "    }\n",
       "\n",
       "    .dataframe tbody tr th {\n",
       "        vertical-align: top;\n",
       "    }\n",
       "\n",
       "    .dataframe thead th {\n",
       "        text-align: right;\n",
       "    }\n",
       "</style>\n",
       "<table border=\"1\" class=\"dataframe\">\n",
       "  <thead>\n",
       "    <tr style=\"text-align: right;\">\n",
       "      <th></th>\n",
       "      <th>_id</th>\n",
       "      <th>ID</th>\n",
       "      <th>YEAR_FUNDED</th>\n",
       "      <th>GROUP_NAME</th>\n",
       "      <th>PROJECT_NAME</th>\n",
       "      <th>GARDEN_TYPE</th>\n",
       "      <th>NUMBER_OF_GARDENS</th>\n",
       "      <th>ESTIMATED_GARDEN_SIZE</th>\n",
       "      <th>NEIGHBOURHOOD_NUMBER</th>\n",
       "      <th>NIA_OR_EN</th>\n",
       "      <th>PRIMARY_LOCATION_NAME</th>\n",
       "      <th>PRIMARY_GARDEN_ADDRESS</th>\n",
       "      <th>POSTAL_CODE</th>\n",
       "      <th>IS_INDIGENOUS_GARDEN</th>\n",
       "      <th>WARD_NAME</th>\n",
       "      <th>WARD_NUMBER</th>\n",
       "      <th>DESCRIPTION</th>\n",
       "      <th>IMAGE_NAME</th>\n",
       "      <th>IMAGE_ALT_TEXT</th>\n",
       "      <th>geometry</th>\n",
       "    </tr>\n",
       "  </thead>\n",
       "  <tbody>\n",
       "    <tr>\n",
       "      <th>0</th>\n",
       "      <td>1</td>\n",
       "      <td>1</td>\n",
       "      <td>2020</td>\n",
       "      <td>Appleton Ave. Community Organization</td>\n",
       "      <td>Appleton Ave. Pollinator Corridor</td>\n",
       "      <td>Multiple Front Yard Gardens</td>\n",
       "      <td>18</td>\n",
       "      <td>1250.00</td>\n",
       "      <td>92</td>\n",
       "      <td>None</td>\n",
       "      <td>Private Residential Property</td>\n",
       "      <td>14 Appleton Avenue</td>\n",
       "      <td>M6E 3A4</td>\n",
       "      <td>None</td>\n",
       "      <td>Davenport</td>\n",
       "      <td>9</td>\n",
       "      <td>None</td>\n",
       "      <td>None</td>\n",
       "      <td>None</td>\n",
       "      <td>MULTIPOINT (-79.43796 43.67956)</td>\n",
       "    </tr>\n",
       "    <tr>\n",
       "      <th>1</th>\n",
       "      <td>2</td>\n",
       "      <td>2</td>\n",
       "      <td>2020</td>\n",
       "      <td>Centre for Immigrant and Community Services (C...</td>\n",
       "      <td>The ENRICH Pollinator Garden</td>\n",
       "      <td>Communal Garden</td>\n",
       "      <td>4</td>\n",
       "      <td>114.25</td>\n",
       "      <td>128</td>\n",
       "      <td>None</td>\n",
       "      <td>Centre for Immigrant and Community Services</td>\n",
       "      <td>2330 Midland Avenue</td>\n",
       "      <td>M1S 5G5</td>\n",
       "      <td>None</td>\n",
       "      <td>Scarborough-Agincourt</td>\n",
       "      <td>22</td>\n",
       "      <td>None</td>\n",
       "      <td>None</td>\n",
       "      <td>None</td>\n",
       "      <td>MULTIPOINT (-79.27601 43.77839)</td>\n",
       "    </tr>\n",
       "    <tr>\n",
       "      <th>2</th>\n",
       "      <td>3</td>\n",
       "      <td>3</td>\n",
       "      <td>2020</td>\n",
       "      <td>Chester School Pollinator Garden Team</td>\n",
       "      <td>Chester School Pollinator Garden</td>\n",
       "      <td>School Learning Garden</td>\n",
       "      <td>1</td>\n",
       "      <td>34.00</td>\n",
       "      <td>57</td>\n",
       "      <td>None</td>\n",
       "      <td>Chester Elementary School</td>\n",
       "      <td>115 Gowan Avenue</td>\n",
       "      <td>M4K 2E4</td>\n",
       "      <td>None</td>\n",
       "      <td>Toronto-Danforth</td>\n",
       "      <td>14</td>\n",
       "      <td>None</td>\n",
       "      <td>None</td>\n",
       "      <td>None</td>\n",
       "      <td>MULTIPOINT (-79.35171 43.6876)</td>\n",
       "    </tr>\n",
       "    <tr>\n",
       "      <th>3</th>\n",
       "      <td>4</td>\n",
       "      <td>4</td>\n",
       "      <td>2020</td>\n",
       "      <td>CSPC - Transfiguration</td>\n",
       "      <td>Transfiguration Pollinator Garden</td>\n",
       "      <td>School Learning Garden</td>\n",
       "      <td>1</td>\n",
       "      <td>22.00</td>\n",
       "      <td>7</td>\n",
       "      <td>None</td>\n",
       "      <td>Transfiguration of Our Lord Catholic School</td>\n",
       "      <td>55 Ludstone Drive</td>\n",
       "      <td>M9R 2J2</td>\n",
       "      <td>None</td>\n",
       "      <td>Etobicoke Centre</td>\n",
       "      <td>2</td>\n",
       "      <td>None</td>\n",
       "      <td>None</td>\n",
       "      <td>None</td>\n",
       "      <td>MULTIPOINT (-79.56287 43.69153)</td>\n",
       "    </tr>\n",
       "    <tr>\n",
       "      <th>4</th>\n",
       "      <td>5</td>\n",
       "      <td>5</td>\n",
       "      <td>2020</td>\n",
       "      <td>Danforth Gardens Neighbourhood Association</td>\n",
       "      <td>Danforth Gardens Neighbourhood Pollinator Corr...</td>\n",
       "      <td>Multiple Front Yard Gardens</td>\n",
       "      <td>7</td>\n",
       "      <td>28.00</td>\n",
       "      <td>120</td>\n",
       "      <td>None</td>\n",
       "      <td>Private Residential Property</td>\n",
       "      <td>64 Clapperton Avenue</td>\n",
       "      <td>M1L 4K7</td>\n",
       "      <td>None</td>\n",
       "      <td>Scarborough Southwest</td>\n",
       "      <td>20</td>\n",
       "      <td>None</td>\n",
       "      <td>None</td>\n",
       "      <td>None</td>\n",
       "      <td>MULTIPOINT (-79.27635 43.71211)</td>\n",
       "    </tr>\n",
       "  </tbody>\n",
       "</table>\n",
       "</div>"
      ],
      "text/plain": [
       "   _id  ID  YEAR_FUNDED                                         GROUP_NAME  \\\n",
       "0    1   1         2020               Appleton Ave. Community Organization   \n",
       "1    2   2         2020  Centre for Immigrant and Community Services (C...   \n",
       "2    3   3         2020              Chester School Pollinator Garden Team   \n",
       "3    4   4         2020                             CSPC - Transfiguration   \n",
       "4    5   5         2020         Danforth Gardens Neighbourhood Association   \n",
       "\n",
       "                                        PROJECT_NAME  \\\n",
       "0                  Appleton Ave. Pollinator Corridor   \n",
       "1                       The ENRICH Pollinator Garden   \n",
       "2                   Chester School Pollinator Garden   \n",
       "3                  Transfiguration Pollinator Garden   \n",
       "4  Danforth Gardens Neighbourhood Pollinator Corr...   \n",
       "\n",
       "                   GARDEN_TYPE  NUMBER_OF_GARDENS  ESTIMATED_GARDEN_SIZE  \\\n",
       "0  Multiple Front Yard Gardens                 18                1250.00   \n",
       "1              Communal Garden                  4                 114.25   \n",
       "2       School Learning Garden                  1                  34.00   \n",
       "3       School Learning Garden                  1                  22.00   \n",
       "4  Multiple Front Yard Gardens                  7                  28.00   \n",
       "\n",
       "   NEIGHBOURHOOD_NUMBER NIA_OR_EN  \\\n",
       "0                    92      None   \n",
       "1                   128      None   \n",
       "2                    57      None   \n",
       "3                     7      None   \n",
       "4                   120      None   \n",
       "\n",
       "                         PRIMARY_LOCATION_NAME PRIMARY_GARDEN_ADDRESS  \\\n",
       "0                 Private Residential Property     14 Appleton Avenue   \n",
       "1  Centre for Immigrant and Community Services    2330 Midland Avenue   \n",
       "2                    Chester Elementary School       115 Gowan Avenue   \n",
       "3  Transfiguration of Our Lord Catholic School      55 Ludstone Drive   \n",
       "4                 Private Residential Property   64 Clapperton Avenue   \n",
       "\n",
       "  POSTAL_CODE IS_INDIGENOUS_GARDEN              WARD_NAME  WARD_NUMBER  \\\n",
       "0     M6E 3A4                 None              Davenport            9   \n",
       "1     M1S 5G5                 None  Scarborough-Agincourt           22   \n",
       "2     M4K 2E4                 None       Toronto-Danforth           14   \n",
       "3     M9R 2J2                 None       Etobicoke Centre            2   \n",
       "4     M1L 4K7                 None  Scarborough Southwest           20   \n",
       "\n",
       "  DESCRIPTION IMAGE_NAME IMAGE_ALT_TEXT                         geometry  \n",
       "0        None       None           None  MULTIPOINT (-79.43796 43.67956)  \n",
       "1        None       None           None  MULTIPOINT (-79.27601 43.77839)  \n",
       "2        None       None           None   MULTIPOINT (-79.35171 43.6876)  \n",
       "3        None       None           None  MULTIPOINT (-79.56287 43.69153)  \n",
       "4        None       None           None  MULTIPOINT (-79.27635 43.71211)  "
      ]
     },
     "execution_count": 3,
     "metadata": {},
     "output_type": "execute_result"
    }
   ],
   "source": [
    "# Display the first few rows\n",
    "data.head()"
   ]
  },
  {
   "cell_type": "code",
   "execution_count": 2,
   "metadata": {},
   "outputs": [
    {
     "data": {
      "text/plain": [
       "149"
      ]
     },
     "execution_count": 2,
     "metadata": {},
     "output_type": "execute_result"
    }
   ],
   "source": [
    "len(data)"
   ]
  },
  {
   "cell_type": "code",
   "execution_count": 3,
   "metadata": {},
   "outputs": [
    {
     "name": "stdout",
     "output_type": "stream",
     "text": [
      "[2020 2021 2022 2023]\n"
     ]
    }
   ],
   "source": [
    "years = data['YEAR_FUNDED'].unique()\n",
    "print(years)"
   ]
  },
  {
   "cell_type": "code",
   "execution_count": 6,
   "metadata": {},
   "outputs": [
    {
     "name": "stdout",
     "output_type": "stream",
     "text": [
      "Columns with null values:\n",
      "\n",
      "Series([], dtype: int64)\n",
      "\n",
      "No null values found in the dataset.\n"
     ]
    }
   ],
   "source": [
    "print(\"Columns with null values:\\n\")\n",
    "print(data.isnull().sum()[data.isnull().sum() > 0])\n",
    "\n",
    "# If no null values are found\n",
    "if data.isnull().sum().sum() == 0:\n",
    "    print(\"\\nNo null values found in the dataset.\")"
   ]
  },
  {
   "cell_type": "code",
   "execution_count": 9,
   "metadata": {},
   "outputs": [
    {
     "data": {
      "text/plain": [
       "WARD_NAME\n",
       "Parkdale-High Park          16\n",
       "Toronto-Danforth            13\n",
       "Toronto Centre              11\n",
       "Davenport                   10\n",
       "Beaches-East York           10\n",
       "University-Rosedale          9\n",
       "Scarborough Southwest        9\n",
       "Scarborough-Guildwood        7\n",
       "Etobicoke-Lakeshore          6\n",
       "Toronto-St. Paul's           6\n",
       "Humber River-Black Creek     6\n",
       "Don Valley East              5\n",
       "Don Valley West              5\n",
       "Scarborough-Agincourt        5\n",
       "York South-Weston            4\n",
       "Spadina-Fort York            4\n",
       "Scarborough-Rouge Park       4\n",
       "Etobicoke Centre             4\n",
       "York Centre                  3\n",
       "Eglinton-Lawrence            3\n",
       "Etobicoke North              3\n",
       "Etobicoke-North              2\n",
       "Willowdale                   2\n",
       "Scarborough Centre           1\n",
       "Don Valley North             1\n",
       "Name: count, dtype: int64"
      ]
     },
     "execution_count": 9,
     "metadata": {},
     "output_type": "execute_result"
    }
   ],
   "source": [
    "data['WARD_NAME'].value_counts()"
   ]
  },
  {
   "cell_type": "code",
   "execution_count": null,
   "metadata": {},
   "outputs": [],
   "source": []
  }
 ],
 "metadata": {
  "kernelspec": {
   "display_name": "base",
   "language": "python",
   "name": "python3"
  },
  "language_info": {
   "codemirror_mode": {
    "name": "ipython",
    "version": 3
   },
   "file_extension": ".py",
   "mimetype": "text/x-python",
   "name": "python",
   "nbconvert_exporter": "python",
   "pygments_lexer": "ipython3",
   "version": "3.12.4"
  }
 },
 "nbformat": 4,
 "nbformat_minor": 2
}
